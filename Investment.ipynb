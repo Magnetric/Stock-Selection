{
 "cells": [
  {
   "cell_type": "code",
   "execution_count": 2,
   "id": "2cca6f16-fb0a-42b6-b995-d01f7e2cdbbd",
   "metadata": {
    "scrolled": true
   },
   "outputs": [],
   "source": [
    "import pandas as pd\n",
    "import matplotlib.pyplot as plt\n",
    "from yahoo_fin import stock_info as si\n",
    "import yfinance as yf\n",
    "import plotly.express as px"
   ]
  },
  {
   "cell_type": "code",
   "execution_count": 344,
   "id": "e2eac190-f246-4fd4-b4cb-1e593366bf0a",
   "metadata": {},
   "outputs": [],
   "source": [
    "def get_annual_dividends(ticker):\n",
    "    try:\n",
    "        stock = yf.Ticker(ticker)\n",
    "        dividends = stock.dividends\n",
    "        if len(dividends) > 0:\n",
    "            annual_dividends = dividends.groupby(dividends.index.year).sum()\n",
    "            annual_dividends_2010 = annual_dividends[annual_dividends.index > 2009]\n",
    "            return annual_dividends_2010\n",
    "        else:\n",
    "            return pd.Series()  # Return an empty series if no dividends\n",
    "    except Exception as e:\n",
    "        print(f\"Failed to retrieve data for {ticker}: {str(e)}\")\n",
    "        return pd.Series()  # Return an empty series in case of error\n",
    "\n",
    "def dividendYield(ticker, startYear=\"2014-01-01\", endYear=\"2024-01-01\"):\n",
    "    try:\n",
    "        stock = yf.Ticker(ticker)\n",
    "        data = stock.history(start=startYear, end=\"2024-01-01\")\n",
    "        dividends_data = data[data['Dividends'] != 0][['Close', 'Dividends']]\n",
    "        if len(dividends_data) > 0:\n",
    "            dividends_data['Dividend Yield'] = (dividends_data['Dividends'] / dividends_data['Close'] * 100).round(4)\n",
    "            return dividends_data\n",
    "        else:\n",
    "            return pd.Series()\n",
    "    except Exception as e:\n",
    "        # print(f\"Failed to retrieve data for {ticker}: {str(e)}\")\n",
    "        return pd.Series() \n",
    "\n",
    "def annualReturns(ticker_symbol, plot=False, start_year=None):\n",
    "    \"\"\"\n",
    "    Calculate the annual capital returns of a stock.\n",
    "\n",
    "    Parameters:\n",
    "        ticker_symbol (str): The stock ticker symbol.\n",
    "        plot (bool): Set to True to plot the annual returns.\n",
    "        start_year (str): Optional, specify a start year in 'YYYY' format.\n",
    "\n",
    "    Returns:\n",
    "        pd.Series: A series of annual capital returns.\n",
    "    \"\"\"\n",
    "    try:\n",
    "        ticker = yf.Ticker(ticker_symbol)\n",
    "        hist_data = ticker.history(period=\"max\")\n",
    "        if len(hist_data) > 0:\n",
    "            if start_year:\n",
    "                hist_data = hist_data[hist_data.index.year >= int(start_year)-1]\n",
    "            yearly_prices = hist_data['Close'].resample('Y').last()\n",
    "            annual_returns = yearly_prices.pct_change().dropna()\n",
    "            annual_returns_percentage = (annual_returns * 100).round(2)\n",
    "    \n",
    "            if plot:\n",
    "                fig, ax = plt.subplots(figsize=(10, 6))\n",
    "                annual_returns_percentage.plot(kind='bar', color=(annual_returns_percentage > 0).map({True: 'g', False: 'r'}), ax=ax)\n",
    "                plt.title('Annual Capital Returns of ' + ticker_symbol)\n",
    "                plt.ylabel('Percentage Return (%)')\n",
    "                plt.xlabel('Year')\n",
    "                plt.axhline(0, color='black')\n",
    "        \n",
    "                ax.set_xticklabels([x.strftime('%Y') for x in annual_returns_percentage.index])\n",
    "        \n",
    "                for p in ax.patches:\n",
    "                    text = f\"{p.get_height():.2f}%\"\n",
    "                    x = p.get_x() + p.get_width() / 2\n",
    "                    y = p.get_height()\n",
    "                    vertical_alignment = 'bottom'\n",
    "                    vertical_offset = 2\n",
    "                    if y < 0:\n",
    "                        vertical_alignment = 'top'\n",
    "                        vertical_offset = -2\n",
    "                    ax.annotate(text, (x, y), ha='center', va=vertical_alignment, xytext=(0, vertical_offset), textcoords='offset points')\n",
    "        \n",
    "                plt.show()\n",
    "        \n",
    "            return annual_returns_percentage\n",
    "        else:\n",
    "            return pd.Series()\n",
    "    except Exception as e:\n",
    "        # print(f\"Failed to retrieve data for {ticker}: {str(e)}\")\n",
    "        return pd.Series() \n",
    "\n",
    "def get_pe_ratios(ticker_symbol):\n",
    "    \"\"\"\n",
    "    Fetches the trailing and forward P/E ratios for a given stock ticker using yfinance.\n",
    "\n",
    "    Parameters:\n",
    "        ticker_symbol (str): The stock ticker symbol.\n",
    "\n",
    "    Returns:\n",
    "        tuple: A tuple containing the trailing P/E ratio and forward P/E ratio.\n",
    "    \"\"\"\n",
    "    # Create a ticker object\n",
    "    ticker = yf.Ticker(ticker_symbol)\n",
    "\n",
    "    # Fetch the stock's info dictionary\n",
    "    stock_info = ticker.info\n",
    "\n",
    "    # Get the trailing and forward P/E ratios\n",
    "    trailing_pe = stock_info.get('trailingPE', None)\n",
    "    forward_pe = stock_info.get('forwardPE', None)\n",
    "\n",
    "    if trailing_pe is not None:\n",
    "        trailing_pe = round(trailing_pe, 2)\n",
    "    if forward_pe is not None:\n",
    "        forward_pe = round(forward_pe, 2)\n",
    "        \n",
    "    return trailing_pe, forward_pe\n"
   ]
  },
  {
   "cell_type": "markdown",
   "id": "c6bc5570-3e6c-4224-9007-e88b9b3c3a98",
   "metadata": {},
   "source": [
    "### SPY Analysis"
   ]
  },
  {
   "cell_type": "code",
   "execution_count": 350,
   "id": "5438f808-580d-429b-9d63-06d474f6df11",
   "metadata": {},
   "outputs": [
    {
     "name": "stdout",
     "output_type": "stream",
     "text": [
      "The current P/E ratio for SPY is: 27.41\n"
     ]
    }
   ],
   "source": [
    "spy = yf.Ticker(\"SPY\")\n",
    "pe_ratio = spy.info.get('trailingPE', None)\n",
    "print(\"The current P/E ratio for SPY is:\", round(pe_ratio, 2))"
   ]
  },
  {
   "cell_type": "code",
   "execution_count": 351,
   "id": "310155f6-fd27-4bbc-8f9c-b155e0b4ccbd",
   "metadata": {
    "scrolled": true
   },
   "outputs": [
    {
     "data": {
      "image/png": "[encoded data removed]",
      "text/plain": [
       "<Figure size 1000x600 with 1 Axes>"
      ]
     },
     "metadata": {},
     "output_type": "display_data"
    },
    {
     "data": {
      "text/plain": [
       "Date\n",
       "2010-12-31 00:00:00-05:00    15.06\n",
       "2011-12-31 00:00:00-05:00     1.89\n",
       "2012-12-31 00:00:00-05:00    15.99\n",
       "2013-12-31 00:00:00-05:00    32.31\n",
       "2014-12-31 00:00:00-05:00    13.46\n",
       "2015-12-31 00:00:00-05:00     1.23\n",
       "2016-12-31 00:00:00-05:00    12.00\n",
       "2017-12-31 00:00:00-05:00    21.71\n",
       "2018-12-31 00:00:00-05:00    -4.57\n",
       "2019-12-31 00:00:00-05:00    31.22\n",
       "2020-12-31 00:00:00-05:00    18.33\n",
       "2021-12-31 00:00:00-05:00    28.73\n",
       "2022-12-31 00:00:00-05:00   -18.18\n",
       "2023-12-31 00:00:00-05:00    26.18\n",
       "2024-12-31 00:00:00-05:00    15.22\n",
       "Freq: A-DEC, Name: Close, dtype: float64"
      ]
     },
     "execution_count": 351,
     "metadata": {},
     "output_type": "execute_result"
    }
   ],
   "source": [
    "annualReturns(\"SPY\", plot=True, start_year=2010)"
   ]
  },
  {
   "cell_type": "markdown",
   "id": "d9b6a2dc-f59e-490a-b08c-6236ee66488e",
   "metadata": {},
   "source": [
    "### Stock Tickers"
   ]
  },
  {
   "cell_type": "code",
   "execution_count": 301,
   "id": "cda779dc-f72f-4607-b633-32e881f4cd45",
   "metadata": {},
   "outputs": [
    {
     "data": {
      "text/html": [
       "<div>\n",
       "<style scoped>\n",
       "    .dataframe tbody tr th:only-of-type {\n",
       "        vertical-align: middle;\n",
       "    }\n",
       "\n",
       "    .dataframe tbody tr th {\n",
       "        vertical-align: top;\n",
       "    }\n",
       "\n",
       "    .dataframe thead th {\n",
       "        text-align: right;\n",
       "    }\n",
       "</style>\n",
       "<table border=\"1\" class=\"dataframe\">\n",
       "  <thead>\n",
       "    <tr style=\"text-align: right;\">\n",
       "      <th></th>\n",
       "      <th>Symbol</th>\n",
       "      <th>Company</th>\n",
       "      <th>Industry</th>\n",
       "    </tr>\n",
       "  </thead>\n",
       "  <tbody>\n",
       "    <tr>\n",
       "      <th>0</th>\n",
       "      <td>MMM</td>\n",
       "      <td>3M</td>\n",
       "      <td>Conglomerate</td>\n",
       "    </tr>\n",
       "    <tr>\n",
       "      <th>1</th>\n",
       "      <td>AXP</td>\n",
       "      <td>American Express</td>\n",
       "      <td>Financial services</td>\n",
       "    </tr>\n",
       "    <tr>\n",
       "      <th>2</th>\n",
       "      <td>AMGN</td>\n",
       "      <td>Amgen</td>\n",
       "      <td>Biopharmaceutical</td>\n",
       "    </tr>\n",
       "    <tr>\n",
       "      <th>3</th>\n",
       "      <td>AMZN</td>\n",
       "      <td>Amazon</td>\n",
       "      <td>Retailing</td>\n",
       "    </tr>\n",
       "    <tr>\n",
       "      <th>4</th>\n",
       "      <td>AAPL</td>\n",
       "      <td>Apple</td>\n",
       "      <td>Information technology</td>\n",
       "    </tr>\n",
       "  </tbody>\n",
       "</table>\n",
       "</div>"
      ],
      "text/plain": [
       "  Symbol           Company                Industry\n",
       "0    MMM                3M            Conglomerate\n",
       "1    AXP  American Express      Financial services\n",
       "2   AMGN             Amgen       Biopharmaceutical\n",
       "3   AMZN            Amazon               Retailing\n",
       "4   AAPL             Apple  Information technology"
      ]
     },
     "execution_count": 301,
     "metadata": {},
     "output_type": "execute_result"
    }
   ],
   "source": [
    "djia = pd.read_html('https://en.wikipedia.org/wiki/Dow_Jones_Industrial_Average')[1][['Symbol', 'Company', 'Industry']]\n",
    "djia.head()"
   ]
  },
  {
   "cell_type": "code",
   "execution_count": 302,
   "id": "2580fa5a-2856-46ed-8be4-bf3dff12d3c5",
   "metadata": {},
   "outputs": [
    {
     "data": {
      "text/html": [
       "<div>\n",
       "<style scoped>\n",
       "    .dataframe tbody tr th:only-of-type {\n",
       "        vertical-align: middle;\n",
       "    }\n",
       "\n",
       "    .dataframe tbody tr th {\n",
       "        vertical-align: top;\n",
       "    }\n",
       "\n",
       "    .dataframe thead th {\n",
       "        text-align: right;\n",
       "    }\n",
       "</style>\n",
       "<table border=\"1\" class=\"dataframe\">\n",
       "  <thead>\n",
       "    <tr style=\"text-align: right;\">\n",
       "      <th></th>\n",
       "      <th>Symbol</th>\n",
       "      <th>Security</th>\n",
       "      <th>GICS Sector</th>\n",
       "    </tr>\n",
       "  </thead>\n",
       "  <tbody>\n",
       "    <tr>\n",
       "      <th>0</th>\n",
       "      <td>MMM</td>\n",
       "      <td>3M</td>\n",
       "      <td>Industrials</td>\n",
       "    </tr>\n",
       "    <tr>\n",
       "      <th>1</th>\n",
       "      <td>AOS</td>\n",
       "      <td>A. O. Smith</td>\n",
       "      <td>Industrials</td>\n",
       "    </tr>\n",
       "    <tr>\n",
       "      <th>2</th>\n",
       "      <td>ABT</td>\n",
       "      <td>Abbott</td>\n",
       "      <td>Health Care</td>\n",
       "    </tr>\n",
       "    <tr>\n",
       "      <th>3</th>\n",
       "      <td>ABBV</td>\n",
       "      <td>AbbVie</td>\n",
       "      <td>Health Care</td>\n",
       "    </tr>\n",
       "    <tr>\n",
       "      <th>4</th>\n",
       "      <td>ACN</td>\n",
       "      <td>Accenture</td>\n",
       "      <td>Information Technology</td>\n",
       "    </tr>\n",
       "  </tbody>\n",
       "</table>\n",
       "</div>"
      ],
      "text/plain": [
       "  Symbol     Security             GICS Sector\n",
       "0    MMM           3M             Industrials\n",
       "1    AOS  A. O. Smith             Industrials\n",
       "2    ABT       Abbott             Health Care\n",
       "3   ABBV       AbbVie             Health Care\n",
       "4    ACN    Accenture  Information Technology"
      ]
     },
     "execution_count": 302,
     "metadata": {},
     "output_type": "execute_result"
    }
   ],
   "source": [
    "sp500 = pd.read_html('https://en.wikipedia.org/wiki/List_of_S%26P_500_companies')[0][['Symbol', 'Security', 'GICS Sector']]\n",
    "sp500.head()"
   ]
  },
  {
   "cell_type": "code",
   "execution_count": 308,
   "id": "59412483-2fd2-4e01-b2bc-f1bd478d4e49",
   "metadata": {},
   "outputs": [
    {
     "data": {
      "text/html": [
       "<div>\n",
       "<style scoped>\n",
       "    .dataframe tbody tr th:only-of-type {\n",
       "        vertical-align: middle;\n",
       "    }\n",
       "\n",
       "    .dataframe tbody tr th {\n",
       "        vertical-align: top;\n",
       "    }\n",
       "\n",
       "    .dataframe thead th {\n",
       "        text-align: right;\n",
       "    }\n",
       "</style>\n",
       "<table border=\"1\" class=\"dataframe\">\n",
       "  <thead>\n",
       "    <tr style=\"text-align: right;\">\n",
       "      <th></th>\n",
       "      <th>Symbol</th>\n",
       "      <th>Company</th>\n",
       "      <th>Industry</th>\n",
       "    </tr>\n",
       "  </thead>\n",
       "  <tbody>\n",
       "  </tbody>\n",
       "</table>\n",
       "</div>"
      ],
      "text/plain": [
       "Empty DataFrame\n",
       "Columns: [Symbol, Company, Industry]\n",
       "Index: []"
      ]
     },
     "execution_count": 308,
     "metadata": {},
     "output_type": "execute_result"
    }
   ],
   "source": [
    "djia[~djia['Symbol'].isin(sp500['Symbol'])]"
   ]
  },
  {
   "cell_type": "markdown",
   "id": "ec2b9341-4d1e-48a2-9b1f-a4ca3b3d1684",
   "metadata": {},
   "source": [
    "### Dividends"
   ]
  },
  {
   "cell_type": "code",
   "execution_count": null,
   "id": "9182da73-025c-47a5-80e3-4f2a6841b912",
   "metadata": {
    "scrolled": true
   },
   "outputs": [],
   "source": [
    "dividend_data = []\n",
    "for ticker in sp500['Symbol']:\n",
    "    dividendsYield = dividendYield(ticker, startYear=\"2014-01-01\")\n",
    "    if len(dividendsYield) > 0:\n",
    "        dividendsYield = dividendsYield['Dividend Yield']\n",
    "        dividendsYield.name = ticker \n",
    "        dividend_data.append(dividendsYield)\n",
    "\n",
    "dividends_df = pd.concat(dividend_data, axis=1)\n",
    "dividends_df = dividends_df.groupby(dividends_df.index.year).sum()\n",
    "dividends_df"
   ]
  },
  {
   "cell_type": "code",
   "execution_count": 305,
   "id": "7e50b169-0f9b-48c8-a5de-d1cecbb94589",
   "metadata": {},
   "outputs": [
    {
     "data": {
      "text/html": [
       "<div>\n",
       "<style scoped>\n",
       "    .dataframe tbody tr th:only-of-type {\n",
       "        vertical-align: middle;\n",
       "    }\n",
       "\n",
       "    .dataframe tbody tr th {\n",
       "        vertical-align: top;\n",
       "    }\n",
       "\n",
       "    .dataframe thead th {\n",
       "        text-align: right;\n",
       "    }\n",
       "</style>\n",
       "<table border=\"1\" class=\"dataframe\">\n",
       "  <thead>\n",
       "    <tr style=\"text-align: right;\">\n",
       "      <th></th>\n",
       "      <th>MMM</th>\n",
       "      <th>AOS</th>\n",
       "      <th>ABT</th>\n",
       "      <th>ABBV</th>\n",
       "      <th>ACN</th>\n",
       "      <th>AES</th>\n",
       "      <th>AFL</th>\n",
       "      <th>A</th>\n",
       "      <th>APD</th>\n",
       "      <th>ALB</th>\n",
       "      <th>...</th>\n",
       "      <th>WRK</th>\n",
       "      <th>WY</th>\n",
       "      <th>WMB</th>\n",
       "      <th>WTW</th>\n",
       "      <th>WYNN</th>\n",
       "      <th>XEL</th>\n",
       "      <th>XYL</th>\n",
       "      <th>YUM</th>\n",
       "      <th>ZBH</th>\n",
       "      <th>ZTS</th>\n",
       "    </tr>\n",
       "    <tr>\n",
       "      <th>Date</th>\n",
       "      <th></th>\n",
       "      <th></th>\n",
       "      <th></th>\n",
       "      <th></th>\n",
       "      <th></th>\n",
       "      <th></th>\n",
       "      <th></th>\n",
       "      <th></th>\n",
       "      <th></th>\n",
       "      <th></th>\n",
       "      <th></th>\n",
       "      <th></th>\n",
       "      <th></th>\n",
       "      <th></th>\n",
       "      <th></th>\n",
       "      <th></th>\n",
       "      <th></th>\n",
       "      <th></th>\n",
       "      <th></th>\n",
       "      <th></th>\n",
       "      <th></th>\n",
       "    </tr>\n",
       "  </thead>\n",
       "  <tbody>\n",
       "    <tr>\n",
       "      <th>2014</th>\n",
       "      <td>3.3464</td>\n",
       "      <td>1.4545</td>\n",
       "      <td>2.6805</td>\n",
       "      <td>4.8676</td>\n",
       "      <td>2.9779</td>\n",
       "      <td>1.9505</td>\n",
       "      <td>3.1110</td>\n",
       "      <td>0.7605</td>\n",
       "      <td>2.9747</td>\n",
       "      <td>1.9620</td>\n",
       "      <td>...</td>\n",
       "      <td>0.0000</td>\n",
       "      <td>4.7332</td>\n",
       "      <td>7.4386</td>\n",
       "      <td>3.2715</td>\n",
       "      <td>3.7118</td>\n",
       "      <td>5.1487</td>\n",
       "      <td>1.5655</td>\n",
       "      <td>2.4624</td>\n",
       "      <td>0.9210</td>\n",
       "      <td>0.9373</td>\n",
       "    </tr>\n",
       "    <tr>\n",
       "      <th>2015</th>\n",
       "      <td>3.5595</td>\n",
       "      <td>1.2891</td>\n",
       "      <td>2.5101</td>\n",
       "      <td>4.7903</td>\n",
       "      <td>2.4706</td>\n",
       "      <td>4.4406</td>\n",
       "      <td>3.0810</td>\n",
       "      <td>1.4021</td>\n",
       "      <td>2.9230</td>\n",
       "      <td>2.6110</td>\n",
       "      <td>...</td>\n",
       "      <td>1.8109</td>\n",
       "      <td>5.6602</td>\n",
       "      <td>10.4428</td>\n",
       "      <td>3.1665</td>\n",
       "      <td>2.9900</td>\n",
       "      <td>5.0096</td>\n",
       "      <td>1.7866</td>\n",
       "      <td>2.6237</td>\n",
       "      <td>0.8947</td>\n",
       "      <td>0.7668</td>\n",
       "    </tr>\n",
       "    <tr>\n",
       "      <th>2016</th>\n",
       "      <td>3.5279</td>\n",
       "      <td>1.3426</td>\n",
       "      <td>2.8867</td>\n",
       "      <td>5.4701</td>\n",
       "      <td>2.2476</td>\n",
       "      <td>5.2196</td>\n",
       "      <td>3.0071</td>\n",
       "      <td>1.1442</td>\n",
       "      <td>2.9245</td>\n",
       "      <td>1.8027</td>\n",
       "      <td>...</td>\n",
       "      <td>4.8740</td>\n",
       "      <td>5.6860</td>\n",
       "      <td>12.9314</td>\n",
       "      <td>1.7667</td>\n",
       "      <td>2.5121</td>\n",
       "      <td>4.2039</td>\n",
       "      <td>1.5402</td>\n",
       "      <td>2.7124</td>\n",
       "      <td>0.9047</td>\n",
       "      <td>0.8802</td>\n",
       "    </tr>\n",
       "    <tr>\n",
       "      <th>2017</th>\n",
       "      <td>3.0290</td>\n",
       "      <td>1.1805</td>\n",
       "      <td>2.5771</td>\n",
       "      <td>4.9261</td>\n",
       "      <td>2.2227</td>\n",
       "      <td>5.4389</td>\n",
       "      <td>2.6664</td>\n",
       "      <td>0.9463</td>\n",
       "      <td>3.0120</td>\n",
       "      <td>1.1925</td>\n",
       "      <td>...</td>\n",
       "      <td>3.6121</td>\n",
       "      <td>4.8823</td>\n",
       "      <td>6.2118</td>\n",
       "      <td>1.6019</td>\n",
       "      <td>1.7581</td>\n",
       "      <td>3.7948</td>\n",
       "      <td>1.3968</td>\n",
       "      <td>1.9410</td>\n",
       "      <td>0.8374</td>\n",
       "      <td>0.7519</td>\n",
       "    </tr>\n",
       "    <tr>\n",
       "      <th>2018</th>\n",
       "      <td>3.3031</td>\n",
       "      <td>1.4980</td>\n",
       "      <td>1.9914</td>\n",
       "      <td>4.9875</td>\n",
       "      <td>1.9703</td>\n",
       "      <td>4.8612</td>\n",
       "      <td>2.6469</td>\n",
       "      <td>0.9703</td>\n",
       "      <td>3.1314</td>\n",
       "      <td>1.5112</td>\n",
       "      <td>...</td>\n",
       "      <td>3.7805</td>\n",
       "      <td>5.1320</td>\n",
       "      <td>7.3519</td>\n",
       "      <td>1.7506</td>\n",
       "      <td>2.1030</td>\n",
       "      <td>3.9426</td>\n",
       "      <td>1.2598</td>\n",
       "      <td>1.9322</td>\n",
       "      <td>0.8983</td>\n",
       "      <td>0.6252</td>\n",
       "    </tr>\n",
       "    <tr>\n",
       "      <th>2019</th>\n",
       "      <td>4.1212</td>\n",
       "      <td>1.9858</td>\n",
       "      <td>1.8067</td>\n",
       "      <td>6.9191</td>\n",
       "      <td>1.3417</td>\n",
       "      <td>3.7830</td>\n",
       "      <td>2.3584</td>\n",
       "      <td>0.8710</td>\n",
       "      <td>2.3809</td>\n",
       "      <td>2.1253</td>\n",
       "      <td>...</td>\n",
       "      <td>5.6081</td>\n",
       "      <td>6.4084</td>\n",
       "      <td>8.1263</td>\n",
       "      <td>1.4673</td>\n",
       "      <td>3.3616</td>\n",
       "      <td>3.1107</td>\n",
       "      <td>1.3365</td>\n",
       "      <td>1.8151</td>\n",
       "      <td>0.7635</td>\n",
       "      <td>0.6570</td>\n",
       "    </tr>\n",
       "    <tr>\n",
       "      <th>2020</th>\n",
       "      <td>4.3729</td>\n",
       "      <td>2.2287</td>\n",
       "      <td>1.6447</td>\n",
       "      <td>6.2884</td>\n",
       "      <td>1.6980</td>\n",
       "      <td>3.8883</td>\n",
       "      <td>3.0559</td>\n",
       "      <td>0.6441</td>\n",
       "      <td>2.3631</td>\n",
       "      <td>1.8320</td>\n",
       "      <td>...</td>\n",
       "      <td>3.4312</td>\n",
       "      <td>2.1567</td>\n",
       "      <td>11.2911</td>\n",
       "      <td>1.4907</td>\n",
       "      <td>0.8893</td>\n",
       "      <td>2.9968</td>\n",
       "      <td>1.3704</td>\n",
       "      <td>2.0303</td>\n",
       "      <td>0.8101</td>\n",
       "      <td>0.5824</td>\n",
       "    </tr>\n",
       "    <tr>\n",
       "      <th>2021</th>\n",
       "      <td>3.6172</td>\n",
       "      <td>1.6860</td>\n",
       "      <td>1.6288</td>\n",
       "      <td>5.2621</td>\n",
       "      <td>1.2772</td>\n",
       "      <td>2.6107</td>\n",
       "      <td>2.6345</td>\n",
       "      <td>0.5813</td>\n",
       "      <td>2.2774</td>\n",
       "      <td>0.8324</td>\n",
       "      <td>...</td>\n",
       "      <td>1.9906</td>\n",
       "      <td>3.7703</td>\n",
       "      <td>7.5014</td>\n",
       "      <td>1.3128</td>\n",
       "      <td>0.0000</td>\n",
       "      <td>3.0532</td>\n",
       "      <td>0.9852</td>\n",
       "      <td>1.7569</td>\n",
       "      <td>0.6567</td>\n",
       "      <td>0.5573</td>\n",
       "    </tr>\n",
       "    <tr>\n",
       "      <th>2022</th>\n",
       "      <td>4.6475</td>\n",
       "      <td>1.9115</td>\n",
       "      <td>1.7197</td>\n",
       "      <td>4.1597</td>\n",
       "      <td>1.3983</td>\n",
       "      <td>2.9578</td>\n",
       "      <td>2.6537</td>\n",
       "      <td>0.7921</td>\n",
       "      <td>2.6515</td>\n",
       "      <td>0.6785</td>\n",
       "      <td>...</td>\n",
       "      <td>2.5663</td>\n",
       "      <td>6.2104</td>\n",
       "      <td>5.6519</td>\n",
       "      <td>1.5272</td>\n",
       "      <td>0.0000</td>\n",
       "      <td>2.9686</td>\n",
       "      <td>1.3289</td>\n",
       "      <td>1.9757</td>\n",
       "      <td>0.8373</td>\n",
       "      <td>0.7475</td>\n",
       "    </tr>\n",
       "    <tr>\n",
       "      <th>2023</th>\n",
       "      <td>6.1874</td>\n",
       "      <td>1.8442</td>\n",
       "      <td>2.0235</td>\n",
       "      <td>4.1248</td>\n",
       "      <td>1.5839</td>\n",
       "      <td>3.2918</td>\n",
       "      <td>2.3861</td>\n",
       "      <td>0.7261</td>\n",
       "      <td>2.4909</td>\n",
       "      <td>0.8588</td>\n",
       "      <td>...</td>\n",
       "      <td>3.5160</td>\n",
       "      <td>5.3846</td>\n",
       "      <td>5.8935</td>\n",
       "      <td>1.4884</td>\n",
       "      <td>0.7906</td>\n",
       "      <td>3.4721</td>\n",
       "      <td>1.3169</td>\n",
       "      <td>1.9027</td>\n",
       "      <td>0.7735</td>\n",
       "      <td>0.9117</td>\n",
       "    </tr>\n",
       "  </tbody>\n",
       "</table>\n",
       "<p>10 rows × 408 columns</p>\n",
       "</div>"
      ],
      "text/plain": [
       "         MMM     AOS     ABT    ABBV     ACN     AES     AFL       A     APD  \\\n",
       "Date                                                                           \n",
       "2014  3.3464  1.4545  2.6805  4.8676  2.9779  1.9505  3.1110  0.7605  2.9747   \n",
       "2015  3.5595  1.2891  2.5101  4.7903  2.4706  4.4406  3.0810  1.4021  2.9230   \n",
       "2016  3.5279  1.3426  2.8867  5.4701  2.2476  5.2196  3.0071  1.1442  2.9245   \n",
       "2017  3.0290  1.1805  2.5771  4.9261  2.2227  5.4389  2.6664  0.9463  3.0120   \n",
       "2018  3.3031  1.4980  1.9914  4.9875  1.9703  4.8612  2.6469  0.9703  3.1314   \n",
       "2019  4.1212  1.9858  1.8067  6.9191  1.3417  3.7830  2.3584  0.8710  2.3809   \n",
       "2020  4.3729  2.2287  1.6447  6.2884  1.6980  3.8883  3.0559  0.6441  2.3631   \n",
       "2021  3.6172  1.6860  1.6288  5.2621  1.2772  2.6107  2.6345  0.5813  2.2774   \n",
       "2022  4.6475  1.9115  1.7197  4.1597  1.3983  2.9578  2.6537  0.7921  2.6515   \n",
       "2023  6.1874  1.8442  2.0235  4.1248  1.5839  3.2918  2.3861  0.7261  2.4909   \n",
       "\n",
       "         ALB  ...     WRK      WY      WMB     WTW    WYNN     XEL     XYL  \\\n",
       "Date          ...                                                            \n",
       "2014  1.9620  ...  0.0000  4.7332   7.4386  3.2715  3.7118  5.1487  1.5655   \n",
       "2015  2.6110  ...  1.8109  5.6602  10.4428  3.1665  2.9900  5.0096  1.7866   \n",
       "2016  1.8027  ...  4.8740  5.6860  12.9314  1.7667  2.5121  4.2039  1.5402   \n",
       "2017  1.1925  ...  3.6121  4.8823   6.2118  1.6019  1.7581  3.7948  1.3968   \n",
       "2018  1.5112  ...  3.7805  5.1320   7.3519  1.7506  2.1030  3.9426  1.2598   \n",
       "2019  2.1253  ...  5.6081  6.4084   8.1263  1.4673  3.3616  3.1107  1.3365   \n",
       "2020  1.8320  ...  3.4312  2.1567  11.2911  1.4907  0.8893  2.9968  1.3704   \n",
       "2021  0.8324  ...  1.9906  3.7703   7.5014  1.3128  0.0000  3.0532  0.9852   \n",
       "2022  0.6785  ...  2.5663  6.2104   5.6519  1.5272  0.0000  2.9686  1.3289   \n",
       "2023  0.8588  ...  3.5160  5.3846   5.8935  1.4884  0.7906  3.4721  1.3169   \n",
       "\n",
       "         YUM     ZBH     ZTS  \n",
       "Date                          \n",
       "2014  2.4624  0.9210  0.9373  \n",
       "2015  2.6237  0.8947  0.7668  \n",
       "2016  2.7124  0.9047  0.8802  \n",
       "2017  1.9410  0.8374  0.7519  \n",
       "2018  1.9322  0.8983  0.6252  \n",
       "2019  1.8151  0.7635  0.6570  \n",
       "2020  2.0303  0.8101  0.5824  \n",
       "2021  1.7569  0.6567  0.5573  \n",
       "2022  1.9757  0.8373  0.7475  \n",
       "2023  1.9027  0.7735  0.9117  \n",
       "\n",
       "[10 rows x 408 columns]"
      ]
     },
     "execution_count": 305,
     "metadata": {},
     "output_type": "execute_result"
    }
   ],
   "source": [
    "dividends_df"
   ]
  },
  {
   "cell_type": "code",
   "execution_count": 321,
   "id": "63169768-1087-4c8e-97e4-e552504f9cf4",
   "metadata": {},
   "outputs": [
    {
     "data": {
      "application/vnd.plotly.v1+json": {
       "config": {
        "plotlyServerURL": "https://plot.ly"
       },
       "data": [
        {
         "hovertemplate": "Stocks=%{x}<br>Average Dividend=%{y}<extra></extra>",
         "legendgroup": "",
         "line": {
          "color": "#636efa",
          "dash": "solid"
         },
         "marker": {
          "symbol": "circle"
         },
         "mode": "lines",
         "name": "",
         "orientation": "v",
         "showlegend": false,
         "type": "scatter",
         "x": [
          "KDP",
          "GEN",
          "T",
          "IRM",
          "OKE",
          "MO",
          "BKR",
          "WMB",
          "BX",
          "LDOS",
          "DOC",
          "PM",
          "KMI",
          "TRGP",
          "STX",
          "EQR",
          "F",
          "VZ",
          "TDG",
          "SPG",
          "KIM",
          "LYB",
          "PPL",
          "VTR",
          "O",
          "SO",
          "KLAC",
          "WELL",
          "XOM",
          "AMCR",
          "DUK",
          "IBM",
          "CVX",
          "IVZ",
          "FE",
          "ETR",
          "IP",
          "ABBV",
          "D",
          "PRU",
          "CME",
          "WY",
          "DLR",
          "BEN",
          "VLO",
          "PNW",
          "CPT",
          "PSA",
          "BXP",
          "BBWI"
         ],
         "xaxis": "x",
         "y": [
          62.26156999999999,
          16.111829999999998,
          11.547890000000002,
          8.89754,
          8.82671,
          8.690460000000002,
          8.60284,
          8.28407,
          7.24786,
          6.9518499999999985,
          6.9011499999999995,
          6.859750000000001,
          6.810140000000001,
          6.717540000000001,
          6.51443,
          6.431900000000001,
          6.420720000000001,
          6.419500000000001,
          6.246110000000001,
          6.213140000000001,
          6.2087900000000005,
          6.167649999999999,
          6.10561,
          5.996230000000001,
          5.84135,
          5.72469,
          5.5548899999999986,
          5.52322,
          5.480860000000001,
          5.445659999999999,
          5.35775,
          5.32774,
          5.32241,
          5.321330000000001,
          5.30888,
          5.26899,
          5.180649999999999,
          5.17957,
          5.1593800000000005,
          5.11579,
          5.01928,
          5.002409999999999,
          4.921290000000001,
          4.89248,
          4.86564,
          4.8383199999999995,
          4.7905,
          4.69741,
          4.6873,
          4.66653
         ],
         "yaxis": "y"
        }
       ],
       "layout": {
        "autosize": true,
        "legend": {
         "tracegroupgap": 0
        },
        "template": {
         "data": {
          "bar": [
           {
            "error_x": {
             "color": "#2a3f5f"
            },
            "error_y": {
             "color": "#2a3f5f"
            },
            "marker": {
             "line": {
              "color": "#E5ECF6",
              "width": 0.5
             },
             "pattern": {
              "fillmode": "overlay",
              "size": 10,
              "solidity": 0.2
             }
            },
            "type": "bar"
           }
          ],
          "barpolar": [
           {
            "marker": {
             "line": {
              "color": "#E5ECF6",
              "width": 0.5
             },
             "pattern": {
              "fillmode": "overlay",
              "size": 10,
              "solidity": 0.2
             }
            },
            "type": "barpolar"
           }
          ],
          "carpet": [
           {
            "aaxis": {
             "endlinecolor": "#2a3f5f",
             "gridcolor": "white",
             "linecolor": "white",
             "minorgridcolor": "white",
             "startlinecolor": "#2a3f5f"
            },
            "baxis": {
             "endlinecolor": "#2a3f5f",
             "gridcolor": "white",
             "linecolor": "white",
             "minorgridcolor": "white",
             "startlinecolor": "#2a3f5f"
            },
            "type": "carpet"
           }
          ],
          "choropleth": [
           {
            "colorbar": {
             "outlinewidth": 0,
             "ticks": ""
            },
            "type": "choropleth"
           }
          ],
          "contour": [
           {
            "colorbar": {
             "outlinewidth": 0,
             "ticks": ""
            },
            "colorscale": [
             [
              0,
              "#0d0887"
             ],
             [
              0.1111111111111111,
              "#46039f"
             ],
             [
              0.2222222222222222,
              "#7201a8"
             ],
             [
              0.3333333333333333,
              "#9c179e"
             ],
             [
              0.4444444444444444,
              "#bd3786"
             ],
             [
              0.5555555555555556,
              "#d8576b"
             ],
             [
              0.6666666666666666,
              "#ed7953"
             ],
             [
              0.7777777777777778,
              "#fb9f3a"
             ],
             [
              0.8888888888888888,
              "#fdca26"
             ],
             [
              1,
              "#f0f921"
             ]
            ],
            "type": "contour"
           }
          ],
          "contourcarpet": [
           {
            "colorbar": {
             "outlinewidth": 0,
             "ticks": ""
            },
            "type": "contourcarpet"
           }
          ],
          "heatmap": [
           {
            "colorbar": {
             "outlinewidth": 0,
             "ticks": ""
            },
            "colorscale": [
             [
              0,
              "#0d0887"
             ],
             [
              0.1111111111111111,
              "#46039f"
             ],
             [
              0.2222222222222222,
              "#7201a8"
             ],
             [
              0.3333333333333333,
              "#9c179e"
             ],
             [
              0.4444444444444444,
              "#bd3786"
             ],
             [
              0.5555555555555556,
              "#d8576b"
             ],
             [
              0.6666666666666666,
              "#ed7953"
             ],
             [
              0.7777777777777778,
              "#fb9f3a"
             ],
             [
              0.8888888888888888,
              "#fdca26"
             ],
             [
              1,
              "#f0f921"
             ]
            ],
            "type": "heatmap"
           }
          ],
          "heatmapgl": [
           {
            "colorbar": {
             "outlinewidth": 0,
             "ticks": ""
            },
            "colorscale": [
             [
              0,
              "#0d0887"
             ],
             [
              0.1111111111111111,
              "#46039f"
             ],
             [
              0.2222222222222222,
              "#7201a8"
             ],
             [
              0.3333333333333333,
              "#9c179e"
             ],
             [
              0.4444444444444444,
              "#bd3786"
             ],
             [
              0.5555555555555556,
              "#d8576b"
             ],
             [
              0.6666666666666666,
              "#ed7953"
             ],
             [
              0.7777777777777778,
              "#fb9f3a"
             ],
             [
              0.8888888888888888,
              "#fdca26"
             ],
             [
              1,
              "#f0f921"
             ]
            ],
            "type": "heatmapgl"
           }
          ],
          "histogram": [
           {
            "marker": {
             "pattern": {
              "fillmode": "overlay",
              "size": 10,
              "solidity": 0.2
             }
            },
            "type": "histogram"
           }
          ],
          "histogram2d": [
           {
            "colorbar": {
             "outlinewidth": 0,
             "ticks": ""
            },
            "colorscale": [
             [
              0,
              "#0d0887"
             ],
             [
              0.1111111111111111,
              "#46039f"
             ],
             [
              0.2222222222222222,
              "#7201a8"
             ],
             [
              0.3333333333333333,
              "#9c179e"
             ],
             [
              0.4444444444444444,
              "#bd3786"
             ],
             [
              0.5555555555555556,
              "#d8576b"
             ],
             [
              0.6666666666666666,
              "#ed7953"
             ],
             [
              0.7777777777777778,
              "#fb9f3a"
             ],
             [
              0.8888888888888888,
              "#fdca26"
             ],
             [
              1,
              "#f0f921"
             ]
            ],
            "type": "histogram2d"
           }
          ],
          "histogram2dcontour": [
           {
            "colorbar": {
             "outlinewidth": 0,
             "ticks": ""
            },
            "colorscale": [
             [
              0,
              "#0d0887"
             ],
             [
              0.1111111111111111,
              "#46039f"
             ],
             [
              0.2222222222222222,
              "#7201a8"
             ],
             [
              0.3333333333333333,
              "#9c179e"
             ],
             [
              0.4444444444444444,
              "#bd3786"
             ],
             [
              0.5555555555555556,
              "#d8576b"
             ],
             [
              0.6666666666666666,
              "#ed7953"
             ],
             [
              0.7777777777777778,
              "#fb9f3a"
             ],
             [
              0.8888888888888888,
              "#fdca26"
             ],
             [
              1,
              "#f0f921"
             ]
            ],
            "type": "histogram2dcontour"
           }
          ],
          "mesh3d": [
           {
            "colorbar": {
             "outlinewidth": 0,
             "ticks": ""
            },
            "type": "mesh3d"
           }
          ],
          "parcoords": [
           {
            "line": {
             "colorbar": {
              "outlinewidth": 0,
              "ticks": ""
             }
            },
            "type": "parcoords"
           }
          ],
          "pie": [
           {
            "automargin": true,
            "type": "pie"
           }
          ],
          "scatter": [
           {
            "fillpattern": {
             "fillmode": "overlay",
             "size": 10,
             "solidity": 0.2
            },
            "type": "scatter"
           }
          ],
          "scatter3d": [
           {
            "line": {
             "colorbar": {
              "outlinewidth": 0,
              "ticks": ""
             }
            },
            "marker": {
             "colorbar": {
              "outlinewidth": 0,
              "ticks": ""
             }
            },
            "type": "scatter3d"
           }
          ],
          "scattercarpet": [
           {
            "marker": {
             "colorbar": {
              "outlinewidth": 0,
              "ticks": ""
             }
            },
            "type": "scattercarpet"
           }
          ],
          "scattergeo": [
           {
            "marker": {
             "colorbar": {
              "outlinewidth": 0,
              "ticks": ""
             }
            },
            "type": "scattergeo"
           }
          ],
          "scattergl": [
           {
            "marker": {
             "colorbar": {
              "outlinewidth": 0,
              "ticks": ""
             }
            },
            "type": "scattergl"
           }
          ],
          "scattermapbox": [
           {
            "marker": {
             "colorbar": {
              "outlinewidth": 0,
              "ticks": ""
             }
            },
            "type": "scattermapbox"
           }
          ],
          "scatterpolar": [
           {
            "marker": {
             "colorbar": {
              "outlinewidth": 0,
              "ticks": ""
             }
            },
            "type": "scatterpolar"
           }
          ],
          "scatterpolargl": [
           {
            "marker": {
             "colorbar": {
              "outlinewidth": 0,
              "ticks": ""
             }
            },
            "type": "scatterpolargl"
           }
          ],
          "scatterternary": [
           {
            "marker": {
             "colorbar": {
              "outlinewidth": 0,
              "ticks": ""
             }
            },
            "type": "scatterternary"
           }
          ],
          "surface": [
           {
            "colorbar": {
             "outlinewidth": 0,
             "ticks": ""
            },
            "colorscale": [
             [
              0,
              "#0d0887"
             ],
             [
              0.1111111111111111,
              "#46039f"
             ],
             [
              0.2222222222222222,
              "#7201a8"
             ],
             [
              0.3333333333333333,
              "#9c179e"
             ],
             [
              0.4444444444444444,
              "#bd3786"
             ],
             [
              0.5555555555555556,
              "#d8576b"
             ],
             [
              0.6666666666666666,
              "#ed7953"
             ],
             [
              0.7777777777777778,
              "#fb9f3a"
             ],
             [
              0.8888888888888888,
              "#fdca26"
             ],
             [
              1,
              "#f0f921"
             ]
            ],
            "type": "surface"
           }
          ],
          "table": [
           {
            "cells": {
             "fill": {
              "color": "#EBF0F8"
             },
             "line": {
              "color": "white"
             }
            },
            "header": {
             "fill": {
              "color": "#C8D4E3"
             },
             "line": {
              "color": "white"
             }
            },
            "type": "table"
           }
          ]
         },
         "layout": {
          "annotationdefaults": {
           "arrowcolor": "#2a3f5f",
           "arrowhead": 0,
           "arrowwidth": 1
          },
          "autotypenumbers": "strict",
          "coloraxis": {
           "colorbar": {
            "outlinewidth": 0,
            "ticks": ""
           }
          },
          "colorscale": {
           "diverging": [
            [
             0,
             "#8e0152"
            ],
            [
             0.1,
             "#c51b7d"
            ],
            [
             0.2,
             "#de77ae"
            ],
            [
             0.3,
             "#f1b6da"
            ],
            [
             0.4,
             "#fde0ef"
            ],
            [
             0.5,
             "#f7f7f7"
            ],
            [
             0.6,
             "#e6f5d0"
            ],
            [
             0.7,
             "#b8e186"
            ],
            [
             0.8,
             "#7fbc41"
            ],
            [
             0.9,
             "#4d9221"
            ],
            [
             1,
             "#276419"
            ]
           ],
           "sequential": [
            [
             0,
             "#0d0887"
            ],
            [
             0.1111111111111111,
             "#46039f"
            ],
            [
             0.2222222222222222,
             "#7201a8"
            ],
            [
             0.3333333333333333,
             "#9c179e"
            ],
            [
             0.4444444444444444,
             "#bd3786"
            ],
            [
             0.5555555555555556,
             "#d8576b"
            ],
            [
             0.6666666666666666,
             "#ed7953"
            ],
            [
             0.7777777777777778,
             "#fb9f3a"
            ],
            [
             0.8888888888888888,
             "#fdca26"
            ],
            [
             1,
             "#f0f921"
            ]
           ],
           "sequentialminus": [
            [
             0,
             "#0d0887"
            ],
            [
             0.1111111111111111,
             "#46039f"
            ],
            [
             0.2222222222222222,
             "#7201a8"
            ],
            [
             0.3333333333333333,
             "#9c179e"
            ],
            [
             0.4444444444444444,
             "#bd3786"
            ],
            [
             0.5555555555555556,
             "#d8576b"
            ],
            [
             0.6666666666666666,
             "#ed7953"
            ],
            [
             0.7777777777777778,
             "#fb9f3a"
            ],
            [
             0.8888888888888888,
             "#fdca26"
            ],
            [
             1,
             "#f0f921"
            ]
           ]
          },
          "colorway": [
           "#636efa",
           "#EF553B",
           "#00cc96",
           "#ab63fa",
           "#FFA15A",
           "#19d3f3",
           "#FF6692",
           "#B6E880",
           "#FF97FF",
           "#FECB52"
          ],
          "font": {
           "color": "#2a3f5f"
          },
          "geo": {
           "bgcolor": "white",
           "lakecolor": "white",
           "landcolor": "#E5ECF6",
           "showlakes": true,
           "showland": true,
           "subunitcolor": "white"
          },
          "hoverlabel": {
           "align": "left"
          },
          "hovermode": "closest",
          "mapbox": {
           "style": "light"
          },
          "paper_bgcolor": "white",
          "plot_bgcolor": "#E5ECF6",
          "polar": {
           "angularaxis": {
            "gridcolor": "white",
            "linecolor": "white",
            "ticks": ""
           },
           "bgcolor": "#E5ECF6",
           "radialaxis": {
            "gridcolor": "white",
            "linecolor": "white",
            "ticks": ""
           }
          },
          "scene": {
           "xaxis": {
            "backgroundcolor": "#E5ECF6",
            "gridcolor": "white",
            "gridwidth": 2,
            "linecolor": "white",
            "showbackground": true,
            "ticks": "",
            "zerolinecolor": "white"
           },
           "yaxis": {
            "backgroundcolor": "#E5ECF6",
            "gridcolor": "white",
            "gridwidth": 2,
            "linecolor": "white",
            "showbackground": true,
            "ticks": "",
            "zerolinecolor": "white"
           },
           "zaxis": {
            "backgroundcolor": "#E5ECF6",
            "gridcolor": "white",
            "gridwidth": 2,
            "linecolor": "white",
            "showbackground": true,
            "ticks": "",
            "zerolinecolor": "white"
           }
          },
          "shapedefaults": {
           "line": {
            "color": "#2a3f5f"
           }
          },
          "ternary": {
           "aaxis": {
            "gridcolor": "white",
            "linecolor": "white",
            "ticks": ""
           },
           "baxis": {
            "gridcolor": "white",
            "linecolor": "white",
            "ticks": ""
           },
           "bgcolor": "#E5ECF6",
           "caxis": {
            "gridcolor": "white",
            "linecolor": "white",
            "ticks": ""
           }
          },
          "title": {
           "x": 0.05
          },
          "xaxis": {
           "automargin": true,
           "gridcolor": "white",
           "linecolor": "white",
           "ticks": "",
           "title": {
            "standoff": 15
           },
           "zerolinecolor": "white",
           "zerolinewidth": 2
          },
          "yaxis": {
           "automargin": true,
           "gridcolor": "white",
           "linecolor": "white",
           "ticks": "",
           "title": {
            "standoff": 15
           },
           "zerolinecolor": "white",
           "zerolinewidth": 2
          }
         }
        },
        "title": {
         "text": "Average Dividends Paid by Stock"
        },
        "xaxis": {
         "anchor": "y",
         "autorange": true,
         "domain": [
          0,
          1
         ],
         "range": [
          0,
          49
         ],
         "showspikes": false,
         "tickangle": -45,
         "tickmode": "array",
         "ticktext": [
          "KDP",
          "GEN",
          "T",
          "IRM",
          "OKE",
          "MO",
          "BKR",
          "WMB",
          "BX",
          "LDOS",
          "DOC",
          "PM",
          "KMI",
          "TRGP",
          "STX",
          "EQR",
          "F",
          "VZ",
          "TDG",
          "SPG",
          "KIM",
          "LYB",
          "PPL",
          "VTR",
          "O",
          "SO",
          "KLAC",
          "WELL",
          "XOM",
          "AMCR",
          "DUK",
          "IBM",
          "CVX",
          "IVZ",
          "FE",
          "ETR",
          "IP",
          "ABBV",
          "D",
          "PRU",
          "CME",
          "WY",
          "DLR",
          "BEN",
          "VLO",
          "PNW",
          "CPT",
          "PSA",
          "BXP",
          "BBWI"
         ],
         "tickvals": [
          0,
          1,
          2,
          3,
          4,
          5,
          6,
          7,
          8,
          9,
          10,
          11,
          12,
          13,
          14,
          15,
          16,
          17,
          18,
          19,
          20,
          21,
          22,
          23,
          24,
          25,
          26,
          27,
          28,
          29,
          30,
          31,
          32,
          33,
          34,
          35,
          36,
          37,
          38,
          39,
          40,
          41,
          42,
          43,
          44,
          45,
          46,
          47,
          48,
          49
         ],
         "title": {
          "text": "Stocks"
         },
         "type": "category"
        },
        "yaxis": {
         "anchor": "x",
         "autorange": true,
         "domain": [
          0,
          1
         ],
         "range": [
          1.4668055555555561,
          65.46129444444443
         ],
         "showspikes": false,
         "title": {
          "text": "Average Dividend"
         },
         "type": "linear"
        }
       }
      },
      "image/png": "[encoded data removed]",
      "text/html": [
       "<div>                            <div id=\"503919ef-2702-48be-8343-fec72e10aafe\" class=\"plotly-graph-div\" style=\"height:500px; width:100%;\"></div>            <script type=\"text/javascript\">                require([\"plotly\"], function(Plotly) {                    window.PLOTLYENV=window.PLOTLYENV || {};                                    if (document.getElementById(\"503919ef-2702-48be-8343-fec72e10aafe\")) {                    Plotly.newPlot(                        \"503919ef-2702-48be-8343-fec72e10aafe\",                        [{\"hovertemplate\":\"Stocks=%{x}<br>Average Dividend=%{y}<extra></extra>\",\"legendgroup\":\"\",\"line\":{\"color\":\"#636efa\",\"dash\":\"solid\"},\"marker\":{\"symbol\":\"circle\"},\"mode\":\"lines\",\"name\":\"\",\"orientation\":\"v\",\"showlegend\":false,\"x\":[\"KDP\",\"GEN\",\"T\",\"IRM\",\"OKE\",\"MO\",\"BKR\",\"WMB\",\"BX\",\"LDOS\",\"DOC\",\"PM\",\"KMI\",\"TRGP\",\"STX\",\"EQR\",\"F\",\"VZ\",\"TDG\",\"SPG\",\"KIM\",\"LYB\",\"PPL\",\"VTR\",\"O\",\"SO\",\"KLAC\",\"WELL\",\"XOM\",\"AMCR\",\"DUK\",\"IBM\",\"CVX\",\"IVZ\",\"FE\",\"ETR\",\"IP\",\"ABBV\",\"D\",\"PRU\",\"CME\",\"WY\",\"DLR\",\"BEN\",\"VLO\",\"PNW\",\"CPT\",\"PSA\",\"BXP\",\"BBWI\"],\"xaxis\":\"x\",\"y\":[62.26156999999999,16.111829999999998,11.547890000000002,8.89754,8.82671,8.690460000000002,8.60284,8.28407,7.24786,6.9518499999999985,6.9011499999999995,6.859750000000001,6.810140000000001,6.717540000000001,6.51443,6.431900000000001,6.420720000000001,6.419500000000001,6.246110000000001,6.213140000000001,6.2087900000000005,6.167649999999999,6.10561,5.996230000000001,5.84135,5.72469,5.5548899999999986,5.52322,5.480860000000001,5.445659999999999,5.35775,5.32774,5.32241,5.321330000000001,5.30888,5.26899,5.180649999999999,5.17957,5.1593800000000005,5.11579,5.01928,5.002409999999999,4.921290000000001,4.89248,4.86564,4.8383199999999995,4.7905,4.69741,4.6873,4.66653],\"yaxis\":\"y\",\"type\":\"scatter\"}],                        {\"template\":{\"data\":{\"histogram2dcontour\":[{\"type\":\"histogram2dcontour\",\"colorbar\":{\"outlinewidth\":0,\"ticks\":\"\"},\"colorscale\":[[0.0,\"#0d0887\"],[0.1111111111111111,\"#46039f\"],[0.2222222222222222,\"#7201a8\"],[0.3333333333333333,\"#9c179e\"],[0.4444444444444444,\"#bd3786\"],[0.5555555555555556,\"#d8576b\"],[0.6666666666666666,\"#ed7953\"],[0.7777777777777778,\"#fb9f3a\"],[0.8888888888888888,\"#fdca26\"],[1.0,\"#f0f921\"]]}],\"choropleth\":[{\"type\":\"choropleth\",\"colorbar\":{\"outlinewidth\":0,\"ticks\":\"\"}}],\"histogram2d\":[{\"type\":\"histogram2d\",\"colorbar\":{\"outlinewidth\":0,\"ticks\":\"\"},\"colorscale\":[[0.0,\"#0d0887\"],[0.1111111111111111,\"#46039f\"],[0.2222222222222222,\"#7201a8\"],[0.3333333333333333,\"#9c179e\"],[0.4444444444444444,\"#bd3786\"],[0.5555555555555556,\"#d8576b\"],[0.6666666666666666,\"#ed7953\"],[0.7777777777777778,\"#fb9f3a\"],[0.8888888888888888,\"#fdca26\"],[1.0,\"#f0f921\"]]}],\"heatmap\":[{\"type\":\"heatmap\",\"colorbar\":{\"outlinewidth\":0,\"ticks\":\"\"},\"colorscale\":[[0.0,\"#0d0887\"],[0.1111111111111111,\"#46039f\"],[0.2222222222222222,\"#7201a8\"],[0.3333333333333333,\"#9c179e\"],[0.4444444444444444,\"#bd3786\"],[0.5555555555555556,\"#d8576b\"],[0.6666666666666666,\"#ed7953\"],[0.7777777777777778,\"#fb9f3a\"],[0.8888888888888888,\"#fdca26\"],[1.0,\"#f0f921\"]]}],\"heatmapgl\":[{\"type\":\"heatmapgl\",\"colorbar\":{\"outlinewidth\":0,\"ticks\":\"\"},\"colorscale\":[[0.0,\"#0d0887\"],[0.1111111111111111,\"#46039f\"],[0.2222222222222222,\"#7201a8\"],[0.3333333333333333,\"#9c179e\"],[0.4444444444444444,\"#bd3786\"],[0.5555555555555556,\"#d8576b\"],[0.6666666666666666,\"#ed7953\"],[0.7777777777777778,\"#fb9f3a\"],[0.8888888888888888,\"#fdca26\"],[1.0,\"#f0f921\"]]}],\"contourcarpet\":[{\"type\":\"contourcarpet\",\"colorbar\":{\"outlinewidth\":0,\"ticks\":\"\"}}],\"contour\":[{\"type\":\"contour\",\"colorbar\":{\"outlinewidth\":0,\"ticks\":\"\"},\"colorscale\":[[0.0,\"#0d0887\"],[0.1111111111111111,\"#46039f\"],[0.2222222222222222,\"#7201a8\"],[0.3333333333333333,\"#9c179e\"],[0.4444444444444444,\"#bd3786\"],[0.5555555555555556,\"#d8576b\"],[0.6666666666666666,\"#ed7953\"],[0.7777777777777778,\"#fb9f3a\"],[0.8888888888888888,\"#fdca26\"],[1.0,\"#f0f921\"]]}],\"surface\":[{\"type\":\"surface\",\"colorbar\":{\"outlinewidth\":0,\"ticks\":\"\"},\"colorscale\":[[0.0,\"#0d0887\"],[0.1111111111111111,\"#46039f\"],[0.2222222222222222,\"#7201a8\"],[0.3333333333333333,\"#9c179e\"],[0.4444444444444444,\"#bd3786\"],[0.5555555555555556,\"#d8576b\"],[0.6666666666666666,\"#ed7953\"],[0.7777777777777778,\"#fb9f3a\"],[0.8888888888888888,\"#fdca26\"],[1.0,\"#f0f921\"]]}],\"mesh3d\":[{\"type\":\"mesh3d\",\"colorbar\":{\"outlinewidth\":0,\"ticks\":\"\"}}],\"scatter\":[{\"fillpattern\":{\"fillmode\":\"overlay\",\"size\":10,\"solidity\":0.2},\"type\":\"scatter\"}],\"parcoords\":[{\"type\":\"parcoords\",\"line\":{\"colorbar\":{\"outlinewidth\":0,\"ticks\":\"\"}}}],\"scatterpolargl\":[{\"type\":\"scatterpolargl\",\"marker\":{\"colorbar\":{\"outlinewidth\":0,\"ticks\":\"\"}}}],\"bar\":[{\"error_x\":{\"color\":\"#2a3f5f\"},\"error_y\":{\"color\":\"#2a3f5f\"},\"marker\":{\"line\":{\"color\":\"#E5ECF6\",\"width\":0.5},\"pattern\":{\"fillmode\":\"overlay\",\"size\":10,\"solidity\":0.2}},\"type\":\"bar\"}],\"scattergeo\":[{\"type\":\"scattergeo\",\"marker\":{\"colorbar\":{\"outlinewidth\":0,\"ticks\":\"\"}}}],\"scatterpolar\":[{\"type\":\"scatterpolar\",\"marker\":{\"colorbar\":{\"outlinewidth\":0,\"ticks\":\"\"}}}],\"histogram\":[{\"marker\":{\"pattern\":{\"fillmode\":\"overlay\",\"size\":10,\"solidity\":0.2}},\"type\":\"histogram\"}],\"scattergl\":[{\"type\":\"scattergl\",\"marker\":{\"colorbar\":{\"outlinewidth\":0,\"ticks\":\"\"}}}],\"scatter3d\":[{\"type\":\"scatter3d\",\"line\":{\"colorbar\":{\"outlinewidth\":0,\"ticks\":\"\"}},\"marker\":{\"colorbar\":{\"outlinewidth\":0,\"ticks\":\"\"}}}],\"scattermapbox\":[{\"type\":\"scattermapbox\",\"marker\":{\"colorbar\":{\"outlinewidth\":0,\"ticks\":\"\"}}}],\"scatterternary\":[{\"type\":\"scatterternary\",\"marker\":{\"colorbar\":{\"outlinewidth\":0,\"ticks\":\"\"}}}],\"scattercarpet\":[{\"type\":\"scattercarpet\",\"marker\":{\"colorbar\":{\"outlinewidth\":0,\"ticks\":\"\"}}}],\"carpet\":[{\"aaxis\":{\"endlinecolor\":\"#2a3f5f\",\"gridcolor\":\"white\",\"linecolor\":\"white\",\"minorgridcolor\":\"white\",\"startlinecolor\":\"#2a3f5f\"},\"baxis\":{\"endlinecolor\":\"#2a3f5f\",\"gridcolor\":\"white\",\"linecolor\":\"white\",\"minorgridcolor\":\"white\",\"startlinecolor\":\"#2a3f5f\"},\"type\":\"carpet\"}],\"table\":[{\"cells\":{\"fill\":{\"color\":\"#EBF0F8\"},\"line\":{\"color\":\"white\"}},\"header\":{\"fill\":{\"color\":\"#C8D4E3\"},\"line\":{\"color\":\"white\"}},\"type\":\"table\"}],\"barpolar\":[{\"marker\":{\"line\":{\"color\":\"#E5ECF6\",\"width\":0.5},\"pattern\":{\"fillmode\":\"overlay\",\"size\":10,\"solidity\":0.2}},\"type\":\"barpolar\"}],\"pie\":[{\"automargin\":true,\"type\":\"pie\"}]},\"layout\":{\"autotypenumbers\":\"strict\",\"colorway\":[\"#636efa\",\"#EF553B\",\"#00cc96\",\"#ab63fa\",\"#FFA15A\",\"#19d3f3\",\"#FF6692\",\"#B6E880\",\"#FF97FF\",\"#FECB52\"],\"font\":{\"color\":\"#2a3f5f\"},\"hovermode\":\"closest\",\"hoverlabel\":{\"align\":\"left\"},\"paper_bgcolor\":\"white\",\"plot_bgcolor\":\"#E5ECF6\",\"polar\":{\"bgcolor\":\"#E5ECF6\",\"angularaxis\":{\"gridcolor\":\"white\",\"linecolor\":\"white\",\"ticks\":\"\"},\"radialaxis\":{\"gridcolor\":\"white\",\"linecolor\":\"white\",\"ticks\":\"\"}},\"ternary\":{\"bgcolor\":\"#E5ECF6\",\"aaxis\":{\"gridcolor\":\"white\",\"linecolor\":\"white\",\"ticks\":\"\"},\"baxis\":{\"gridcolor\":\"white\",\"linecolor\":\"white\",\"ticks\":\"\"},\"caxis\":{\"gridcolor\":\"white\",\"linecolor\":\"white\",\"ticks\":\"\"}},\"coloraxis\":{\"colorbar\":{\"outlinewidth\":0,\"ticks\":\"\"}},\"colorscale\":{\"sequential\":[[0.0,\"#0d0887\"],[0.1111111111111111,\"#46039f\"],[0.2222222222222222,\"#7201a8\"],[0.3333333333333333,\"#9c179e\"],[0.4444444444444444,\"#bd3786\"],[0.5555555555555556,\"#d8576b\"],[0.6666666666666666,\"#ed7953\"],[0.7777777777777778,\"#fb9f3a\"],[0.8888888888888888,\"#fdca26\"],[1.0,\"#f0f921\"]],\"sequentialminus\":[[0.0,\"#0d0887\"],[0.1111111111111111,\"#46039f\"],[0.2222222222222222,\"#7201a8\"],[0.3333333333333333,\"#9c179e\"],[0.4444444444444444,\"#bd3786\"],[0.5555555555555556,\"#d8576b\"],[0.6666666666666666,\"#ed7953\"],[0.7777777777777778,\"#fb9f3a\"],[0.8888888888888888,\"#fdca26\"],[1.0,\"#f0f921\"]],\"diverging\":[[0,\"#8e0152\"],[0.1,\"#c51b7d\"],[0.2,\"#de77ae\"],[0.3,\"#f1b6da\"],[0.4,\"#fde0ef\"],[0.5,\"#f7f7f7\"],[0.6,\"#e6f5d0\"],[0.7,\"#b8e186\"],[0.8,\"#7fbc41\"],[0.9,\"#4d9221\"],[1,\"#276419\"]]},\"xaxis\":{\"gridcolor\":\"white\",\"linecolor\":\"white\",\"ticks\":\"\",\"title\":{\"standoff\":15},\"zerolinecolor\":\"white\",\"automargin\":true,\"zerolinewidth\":2},\"yaxis\":{\"gridcolor\":\"white\",\"linecolor\":\"white\",\"ticks\":\"\",\"title\":{\"standoff\":15},\"zerolinecolor\":\"white\",\"automargin\":true,\"zerolinewidth\":2},\"scene\":{\"xaxis\":{\"backgroundcolor\":\"#E5ECF6\",\"gridcolor\":\"white\",\"linecolor\":\"white\",\"showbackground\":true,\"ticks\":\"\",\"zerolinecolor\":\"white\",\"gridwidth\":2},\"yaxis\":{\"backgroundcolor\":\"#E5ECF6\",\"gridcolor\":\"white\",\"linecolor\":\"white\",\"showbackground\":true,\"ticks\":\"\",\"zerolinecolor\":\"white\",\"gridwidth\":2},\"zaxis\":{\"backgroundcolor\":\"#E5ECF6\",\"gridcolor\":\"white\",\"linecolor\":\"white\",\"showbackground\":true,\"ticks\":\"\",\"zerolinecolor\":\"white\",\"gridwidth\":2}},\"shapedefaults\":{\"line\":{\"color\":\"#2a3f5f\"}},\"annotationdefaults\":{\"arrowcolor\":\"#2a3f5f\",\"arrowhead\":0,\"arrowwidth\":1},\"geo\":{\"bgcolor\":\"white\",\"landcolor\":\"#E5ECF6\",\"subunitcolor\":\"white\",\"showland\":true,\"showlakes\":true,\"lakecolor\":\"white\"},\"title\":{\"x\":0.05},\"mapbox\":{\"style\":\"light\"}}},\"xaxis\":{\"anchor\":\"y\",\"domain\":[0.0,1.0],\"title\":{\"text\":\"Stocks\"},\"tickmode\":\"array\",\"tickvals\":[0,1,2,3,4,5,6,7,8,9,10,11,12,13,14,15,16,17,18,19,20,21,22,23,24,25,26,27,28,29,30,31,32,33,34,35,36,37,38,39,40,41,42,43,44,45,46,47,48,49],\"ticktext\":[\"KDP\",\"GEN\",\"T\",\"IRM\",\"OKE\",\"MO\",\"BKR\",\"WMB\",\"BX\",\"LDOS\",\"DOC\",\"PM\",\"KMI\",\"TRGP\",\"STX\",\"EQR\",\"F\",\"VZ\",\"TDG\",\"SPG\",\"KIM\",\"LYB\",\"PPL\",\"VTR\",\"O\",\"SO\",\"KLAC\",\"WELL\",\"XOM\",\"AMCR\",\"DUK\",\"IBM\",\"CVX\",\"IVZ\",\"FE\",\"ETR\",\"IP\",\"ABBV\",\"D\",\"PRU\",\"CME\",\"WY\",\"DLR\",\"BEN\",\"VLO\",\"PNW\",\"CPT\",\"PSA\",\"BXP\",\"BBWI\"],\"tickangle\":-45},\"yaxis\":{\"anchor\":\"x\",\"domain\":[0.0,1.0],\"title\":{\"text\":\"Average Dividend\"}},\"legend\":{\"tracegroupgap\":0},\"title\":{\"text\":\"Average Dividends Paid by Stock\"},\"height\":500},                        {\"responsive\": true}                    ).then(function(){\n",
       "                            \n",
       "var gd = document.getElementById('503919ef-2702-48be-8343-fec72e10aafe');\n",
       "var x = new MutationObserver(function (mutations, observer) {{\n",
       "        var display = window.getComputedStyle(gd).display;\n",
       "        if (!display || display === 'none') {{\n",
       "            console.log([gd, 'removed!']);\n",
       "            Plotly.purge(gd);\n",
       "            observer.disconnect();\n",
       "        }}\n",
       "}});\n",
       "\n",
       "// Listen for the removal of the full notebook cells\n",
       "var notebookContainer = gd.closest('#notebook-container');\n",
       "if (notebookContainer) {{\n",
       "    x.observe(notebookContainer, {childList: true});\n",
       "}}\n",
       "\n",
       "// Listen for the clearing of the current output cell\n",
       "var outputEl = gd.closest('.output');\n",
       "if (outputEl) {{\n",
       "    x.observe(outputEl, {childList: true});\n",
       "}}\n",
       "\n",
       "                        })                };                });            </script>        </div>"
      ]
     },
     "metadata": {},
     "output_type": "display_data"
    }
   ],
   "source": [
    "avg_dividends = dividends_df.mean().sort_values(ascending=False)[:50]\n",
    "\n",
    "fig = px.line(\n",
    "    x=avg_dividends.index, \n",
    "    y=avg_dividends.values, \n",
    "    labels={'x': 'Stocks', 'y': 'Average Dividend'}, \n",
    "    title='Average Dividends Paid by Stock'\n",
    ")\n",
    "\n",
    "fig.update_layout(\n",
    "    xaxis=dict(tickmode='array', tickvals=list(range(len(avg_dividends))), ticktext=avg_dividends.index),\n",
    "    xaxis_title='Stocks',\n",
    "    yaxis_title='Average Dividend',\n",
    "    title='Average Dividends Paid by Stock',\n",
    "    xaxis_tickangle=-45,\n",
    "    height=500\n",
    ")\n",
    "fig.show()"
   ]
  },
  {
   "cell_type": "markdown",
   "id": "17fde1d2-e755-4368-a626-1ec39b48e8a0",
   "metadata": {},
   "source": [
    "### Capital Returns"
   ]
  },
  {
   "cell_type": "code",
   "execution_count": null,
   "id": "212a3d54-1cfe-4ccf-88d9-6e9c4fbe5b1f",
   "metadata": {},
   "outputs": [],
   "source": [
    "return_data = []\n",
    "for ticker in sp500['Symbol']:\n",
    "    annualReturn = annualReturns(ticker, start_year=\"2014\")\n",
    "    if len(annualReturn) > 0:\n",
    "        annualReturn.name = ticker \n",
    "        return_data.append(annualReturn)\n",
    "\n",
    "returns_df = pd.concat(return_data, axis=1)\n",
    "returns_df = returns_df.groupby(returns_df.index.year).sum()\n"
   ]
  },
  {
   "cell_type": "code",
   "execution_count": 326,
   "id": "53ece307-486d-46e4-b946-d6075badf50b",
   "metadata": {},
   "outputs": [
    {
     "data": {
      "text/html": [
       "<div>\n",
       "<style scoped>\n",
       "    .dataframe tbody tr th:only-of-type {\n",
       "        vertical-align: middle;\n",
       "    }\n",
       "\n",
       "    .dataframe tbody tr th {\n",
       "        vertical-align: top;\n",
       "    }\n",
       "\n",
       "    .dataframe thead th {\n",
       "        text-align: right;\n",
       "    }\n",
       "</style>\n",
       "<table border=\"1\" class=\"dataframe\">\n",
       "  <thead>\n",
       "    <tr style=\"text-align: right;\">\n",
       "      <th></th>\n",
       "      <th>MMM</th>\n",
       "      <th>AOS</th>\n",
       "      <th>ABT</th>\n",
       "      <th>ABBV</th>\n",
       "      <th>ACN</th>\n",
       "      <th>ADBE</th>\n",
       "      <th>AMD</th>\n",
       "      <th>AES</th>\n",
       "      <th>AFL</th>\n",
       "      <th>A</th>\n",
       "      <th>...</th>\n",
       "      <th>WY</th>\n",
       "      <th>WMB</th>\n",
       "      <th>WTW</th>\n",
       "      <th>WYNN</th>\n",
       "      <th>XEL</th>\n",
       "      <th>XYL</th>\n",
       "      <th>YUM</th>\n",
       "      <th>ZBRA</th>\n",
       "      <th>ZBH</th>\n",
       "      <th>ZTS</th>\n",
       "    </tr>\n",
       "    <tr>\n",
       "      <th>Date</th>\n",
       "      <th></th>\n",
       "      <th></th>\n",
       "      <th></th>\n",
       "      <th></th>\n",
       "      <th></th>\n",
       "      <th></th>\n",
       "      <th></th>\n",
       "      <th></th>\n",
       "      <th></th>\n",
       "      <th></th>\n",
       "      <th></th>\n",
       "      <th></th>\n",
       "      <th></th>\n",
       "      <th></th>\n",
       "      <th></th>\n",
       "      <th></th>\n",
       "      <th></th>\n",
       "      <th></th>\n",
       "      <th></th>\n",
       "      <th></th>\n",
       "      <th></th>\n",
       "    </tr>\n",
       "  </thead>\n",
       "  <tbody>\n",
       "    <tr>\n",
       "      <th>2014</th>\n",
       "      <td>20.00</td>\n",
       "      <td>5.88</td>\n",
       "      <td>20.08</td>\n",
       "      <td>27.92</td>\n",
       "      <td>11.42</td>\n",
       "      <td>21.41</td>\n",
       "      <td>-31.01</td>\n",
       "      <td>-3.74</td>\n",
       "      <td>-6.26</td>\n",
       "      <td>0.78</td>\n",
       "      <td>...</td>\n",
       "      <td>17.35</td>\n",
       "      <td>21.35</td>\n",
       "      <td>2.83</td>\n",
       "      <td>-20.89</td>\n",
       "      <td>33.49</td>\n",
       "      <td>11.57</td>\n",
       "      <td>-1.66</td>\n",
       "      <td>43.14</td>\n",
       "      <td>22.76</td>\n",
       "      <td>32.80</td>\n",
       "    </tr>\n",
       "    <tr>\n",
       "      <th>2015</th>\n",
       "      <td>-5.91</td>\n",
       "      <td>37.35</td>\n",
       "      <td>1.87</td>\n",
       "      <td>-6.50</td>\n",
       "      <td>19.53</td>\n",
       "      <td>29.22</td>\n",
       "      <td>7.49</td>\n",
       "      <td>-28.20</td>\n",
       "      <td>0.54</td>\n",
       "      <td>3.46</td>\n",
       "      <td>...</td>\n",
       "      <td>-13.12</td>\n",
       "      <td>-39.14</td>\n",
       "      <td>11.44</td>\n",
       "      <td>-52.27</td>\n",
       "      <td>3.84</td>\n",
       "      <td>-2.58</td>\n",
       "      <td>2.50</td>\n",
       "      <td>-10.02</td>\n",
       "      <td>-8.80</td>\n",
       "      <td>12.18</td>\n",
       "    </tr>\n",
       "    <tr>\n",
       "      <th>2016</th>\n",
       "      <td>21.72</td>\n",
       "      <td>25.07</td>\n",
       "      <td>-12.32</td>\n",
       "      <td>9.79</td>\n",
       "      <td>14.35</td>\n",
       "      <td>9.59</td>\n",
       "      <td>295.12</td>\n",
       "      <td>26.39</td>\n",
       "      <td>19.10</td>\n",
       "      <td>10.16</td>\n",
       "      <td>...</td>\n",
       "      <td>4.58</td>\n",
       "      <td>31.18</td>\n",
       "      <td>-3.44</td>\n",
       "      <td>27.90</td>\n",
       "      <td>17.14</td>\n",
       "      <td>37.60</td>\n",
       "      <td>23.44</td>\n",
       "      <td>23.13</td>\n",
       "      <td>1.46</td>\n",
       "      <td>12.64</td>\n",
       "    </tr>\n",
       "    <tr>\n",
       "      <th>2017</th>\n",
       "      <td>34.90</td>\n",
       "      <td>30.78</td>\n",
       "      <td>52.03</td>\n",
       "      <td>60.07</td>\n",
       "      <td>33.34</td>\n",
       "      <td>70.22</td>\n",
       "      <td>-9.35</td>\n",
       "      <td>-2.69</td>\n",
       "      <td>29.02</td>\n",
       "      <td>48.32</td>\n",
       "      <td>...</td>\n",
       "      <td>21.60</td>\n",
       "      <td>2.02</td>\n",
       "      <td>25.05</td>\n",
       "      <td>98.09</td>\n",
       "      <td>21.91</td>\n",
       "      <td>39.50</td>\n",
       "      <td>31.09</td>\n",
       "      <td>21.04</td>\n",
       "      <td>17.86</td>\n",
       "      <td>35.55</td>\n",
       "    </tr>\n",
       "    <tr>\n",
       "      <th>2018</th>\n",
       "      <td>-16.90</td>\n",
       "      <td>-29.35</td>\n",
       "      <td>29.06</td>\n",
       "      <td>-0.96</td>\n",
       "      <td>-6.23</td>\n",
       "      <td>29.10</td>\n",
       "      <td>79.57</td>\n",
       "      <td>39.02</td>\n",
       "      <td>6.20</td>\n",
       "      <td>1.67</td>\n",
       "      <td>...</td>\n",
       "      <td>-35.46</td>\n",
       "      <td>-23.88</td>\n",
       "      <td>2.42</td>\n",
       "      <td>-40.18</td>\n",
       "      <td>5.88</td>\n",
       "      <td>-1.01</td>\n",
       "      <td>14.61</td>\n",
       "      <td>53.40</td>\n",
       "      <td>-13.30</td>\n",
       "      <td>19.45</td>\n",
       "    </tr>\n",
       "    <tr>\n",
       "      <th>2019</th>\n",
       "      <td>-4.29</td>\n",
       "      <td>13.65</td>\n",
       "      <td>22.08</td>\n",
       "      <td>1.47</td>\n",
       "      <td>51.21</td>\n",
       "      <td>45.78</td>\n",
       "      <td>148.43</td>\n",
       "      <td>42.16</td>\n",
       "      <td>18.55</td>\n",
       "      <td>27.54</td>\n",
       "      <td>...</td>\n",
       "      <td>45.57</td>\n",
       "      <td>14.18</td>\n",
       "      <td>34.81</td>\n",
       "      <td>44.99</td>\n",
       "      <td>32.37</td>\n",
       "      <td>19.59</td>\n",
       "      <td>11.41</td>\n",
       "      <td>60.42</td>\n",
       "      <td>45.37</td>\n",
       "      <td>55.71</td>\n",
       "    </tr>\n",
       "    <tr>\n",
       "      <th>2020</th>\n",
       "      <td>2.77</td>\n",
       "      <td>17.46</td>\n",
       "      <td>28.04</td>\n",
       "      <td>27.72</td>\n",
       "      <td>26.04</td>\n",
       "      <td>51.64</td>\n",
       "      <td>99.98</td>\n",
       "      <td>22.15</td>\n",
       "      <td>-13.60</td>\n",
       "      <td>39.79</td>\n",
       "      <td>...</td>\n",
       "      <td>13.04</td>\n",
       "      <td>-8.20</td>\n",
       "      <td>5.83</td>\n",
       "      <td>-18.07</td>\n",
       "      <td>7.77</td>\n",
       "      <td>30.90</td>\n",
       "      <td>9.85</td>\n",
       "      <td>50.46</td>\n",
       "      <td>3.77</td>\n",
       "      <td>25.76</td>\n",
       "    </tr>\n",
       "    <tr>\n",
       "      <th>2021</th>\n",
       "      <td>4.85</td>\n",
       "      <td>59.28</td>\n",
       "      <td>30.53</td>\n",
       "      <td>32.43</td>\n",
       "      <td>60.67</td>\n",
       "      <td>13.38</td>\n",
       "      <td>56.91</td>\n",
       "      <td>5.95</td>\n",
       "      <td>34.55</td>\n",
       "      <td>35.51</td>\n",
       "      <td>...</td>\n",
       "      <td>26.92</td>\n",
       "      <td>38.36</td>\n",
       "      <td>14.16</td>\n",
       "      <td>-24.63</td>\n",
       "      <td>4.40</td>\n",
       "      <td>18.94</td>\n",
       "      <td>30.05</td>\n",
       "      <td>54.87</td>\n",
       "      <td>-17.02</td>\n",
       "      <td>48.26</td>\n",
       "    </tr>\n",
       "    <tr>\n",
       "      <th>2022</th>\n",
       "      <td>-29.63</td>\n",
       "      <td>-32.07</td>\n",
       "      <td>-20.68</td>\n",
       "      <td>24.01</td>\n",
       "      <td>-34.75</td>\n",
       "      <td>-40.65</td>\n",
       "      <td>-54.99</td>\n",
       "      <td>21.69</td>\n",
       "      <td>26.41</td>\n",
       "      <td>-5.52</td>\n",
       "      <td>...</td>\n",
       "      <td>-20.44</td>\n",
       "      <td>32.83</td>\n",
       "      <td>4.53</td>\n",
       "      <td>-3.02</td>\n",
       "      <td>6.45</td>\n",
       "      <td>-6.60</td>\n",
       "      <td>-5.99</td>\n",
       "      <td>-56.92</td>\n",
       "      <td>4.24</td>\n",
       "      <td>-39.51</td>\n",
       "    </tr>\n",
       "    <tr>\n",
       "      <th>2023</th>\n",
       "      <td>-3.33</td>\n",
       "      <td>46.68</td>\n",
       "      <td>2.26</td>\n",
       "      <td>-0.23</td>\n",
       "      <td>33.60</td>\n",
       "      <td>77.28</td>\n",
       "      <td>127.59</td>\n",
       "      <td>-30.88</td>\n",
       "      <td>17.36</td>\n",
       "      <td>-6.42</td>\n",
       "      <td>...</td>\n",
       "      <td>18.04</td>\n",
       "      <td>11.86</td>\n",
       "      <td>0.08</td>\n",
       "      <td>11.34</td>\n",
       "      <td>-8.67</td>\n",
       "      <td>4.77</td>\n",
       "      <td>3.93</td>\n",
       "      <td>6.60</td>\n",
       "      <td>-3.81</td>\n",
       "      <td>35.91</td>\n",
       "    </tr>\n",
       "    <tr>\n",
       "      <th>2024</th>\n",
       "      <td>14.45</td>\n",
       "      <td>-0.03</td>\n",
       "      <td>-4.67</td>\n",
       "      <td>12.78</td>\n",
       "      <td>-12.88</td>\n",
       "      <td>-6.88</td>\n",
       "      <td>10.04</td>\n",
       "      <td>-6.89</td>\n",
       "      <td>9.57</td>\n",
       "      <td>-6.61</td>\n",
       "      <td>...</td>\n",
       "      <td>-16.97</td>\n",
       "      <td>25.06</td>\n",
       "      <td>9.03</td>\n",
       "      <td>-1.28</td>\n",
       "      <td>-11.91</td>\n",
       "      <td>19.26</td>\n",
       "      <td>2.39</td>\n",
       "      <td>13.02</td>\n",
       "      <td>-10.46</td>\n",
       "      <td>-11.71</td>\n",
       "    </tr>\n",
       "  </tbody>\n",
       "</table>\n",
       "<p>11 rows × 499 columns</p>\n",
       "</div>"
      ],
      "text/plain": [
       "        MMM    AOS    ABT   ABBV    ACN   ADBE     AMD    AES    AFL      A  \\\n",
       "Date                                                                          \n",
       "2014  20.00   5.88  20.08  27.92  11.42  21.41  -31.01  -3.74  -6.26   0.78   \n",
       "2015  -5.91  37.35   1.87  -6.50  19.53  29.22    7.49 -28.20   0.54   3.46   \n",
       "2016  21.72  25.07 -12.32   9.79  14.35   9.59  295.12  26.39  19.10  10.16   \n",
       "2017  34.90  30.78  52.03  60.07  33.34  70.22   -9.35  -2.69  29.02  48.32   \n",
       "2018 -16.90 -29.35  29.06  -0.96  -6.23  29.10   79.57  39.02   6.20   1.67   \n",
       "2019  -4.29  13.65  22.08   1.47  51.21  45.78  148.43  42.16  18.55  27.54   \n",
       "2020   2.77  17.46  28.04  27.72  26.04  51.64   99.98  22.15 -13.60  39.79   \n",
       "2021   4.85  59.28  30.53  32.43  60.67  13.38   56.91   5.95  34.55  35.51   \n",
       "2022 -29.63 -32.07 -20.68  24.01 -34.75 -40.65  -54.99  21.69  26.41  -5.52   \n",
       "2023  -3.33  46.68   2.26  -0.23  33.60  77.28  127.59 -30.88  17.36  -6.42   \n",
       "2024  14.45  -0.03  -4.67  12.78 -12.88  -6.88   10.04  -6.89   9.57  -6.61   \n",
       "\n",
       "      ...     WY    WMB    WTW   WYNN    XEL    XYL    YUM   ZBRA    ZBH  \\\n",
       "Date  ...                                                                  \n",
       "2014  ...  17.35  21.35   2.83 -20.89  33.49  11.57  -1.66  43.14  22.76   \n",
       "2015  ... -13.12 -39.14  11.44 -52.27   3.84  -2.58   2.50 -10.02  -8.80   \n",
       "2016  ...   4.58  31.18  -3.44  27.90  17.14  37.60  23.44  23.13   1.46   \n",
       "2017  ...  21.60   2.02  25.05  98.09  21.91  39.50  31.09  21.04  17.86   \n",
       "2018  ... -35.46 -23.88   2.42 -40.18   5.88  -1.01  14.61  53.40 -13.30   \n",
       "2019  ...  45.57  14.18  34.81  44.99  32.37  19.59  11.41  60.42  45.37   \n",
       "2020  ...  13.04  -8.20   5.83 -18.07   7.77  30.90   9.85  50.46   3.77   \n",
       "2021  ...  26.92  38.36  14.16 -24.63   4.40  18.94  30.05  54.87 -17.02   \n",
       "2022  ... -20.44  32.83   4.53  -3.02   6.45  -6.60  -5.99 -56.92   4.24   \n",
       "2023  ...  18.04  11.86   0.08  11.34  -8.67   4.77   3.93   6.60  -3.81   \n",
       "2024  ... -16.97  25.06   9.03  -1.28 -11.91  19.26   2.39  13.02 -10.46   \n",
       "\n",
       "        ZTS  \n",
       "Date         \n",
       "2014  32.80  \n",
       "2015  12.18  \n",
       "2016  12.64  \n",
       "2017  35.55  \n",
       "2018  19.45  \n",
       "2019  55.71  \n",
       "2020  25.76  \n",
       "2021  48.26  \n",
       "2022 -39.51  \n",
       "2023  35.91  \n",
       "2024 -11.71  \n",
       "\n",
       "[11 rows x 499 columns]"
      ]
     },
     "execution_count": 326,
     "metadata": {},
     "output_type": "execute_result"
    }
   ],
   "source": [
    "returns_df"
   ]
  },
  {
   "cell_type": "code",
   "execution_count": 325,
   "id": "f39a073f-d168-4918-a452-7441e311f3fc",
   "metadata": {},
   "outputs": [
    {
     "data": {
      "application/vnd.plotly.v1+json": {
       "config": {
        "plotlyServerURL": "https://plot.ly"
       },
       "data": [
        {
         "hovertemplate": "Stocks=%{x}<br>Average Return=%{y}<extra></extra>",
         "legendgroup": "",
         "line": {
          "color": "#636efa",
          "dash": "solid"
         },
         "marker": {
          "symbol": "circle"
         },
         "mode": "lines",
         "name": "",
         "orientation": "v",
         "showlegend": false,
         "type": "scatter",
         "x": [
          "ENPH",
          "NVDA",
          "TSLA",
          "AMD",
          "SMCI",
          "MRNA",
          "BLDR",
          "AVGO",
          "CRWD",
          "ETSY",
          "LRCX",
          "ANET",
          "MPWR",
          "AMAT",
          "PANW",
          "FICO",
          "META",
          "CDNS",
          "KLAC",
          "FTNT",
          "CZR",
          "AXON",
          "NFLX",
          "LLY",
          "NOW",
          "DXCM",
          "AMZN",
          "SNPS",
          "MU",
          "TER",
          "DECK",
          "AAPL",
          "MSCI",
          "MSFT",
          "TTWO",
          "ODFL",
          "CPRT",
          "TDG",
          "CTAS",
          "IDXX",
          "ADBE",
          "EPAM",
          "URI",
          "BX",
          "CDW",
          "INTU",
          "ON",
          "PWR",
          "STLD",
          "ISRG"
         ],
         "xaxis": "x",
         "y": [
          110.17999999999998,
          94.14818181818183,
          84.78272727272729,
          66.34363636363636,
          63.13545454545454,
          50.07272727272727,
          47.7090909090909,
          43.721818181818186,
          42.30818181818182,
          41.980000000000004,
          41.53363636363636,
          40.90090909090909,
          38.90909090909091,
          37.65090909090909,
          37.13090909090909,
          36.803636363636365,
          36.35909090909091,
          36.13999999999999,
          35.45636363636364,
          35.290909090909096,
          35.23727272727273,
          34.97909090909091,
          34.726363636363644,
          34.303636363636365,
          33.74,
          33.10454545454546,
          31.914545454545454,
          31.080909090909085,
          30.429999999999996,
          30.275454545454547,
          30.189090909090908,
          30.124545454545455,
          29.92,
          29.899090909090912,
          29.780909090909088,
          29.05272727272727,
          28.839999999999996,
          28.30727272727273,
          27.42,
          27.291818181818176,
          27.280909090909088,
          27.226363636363637,
          27.171818181818182,
          26.811818181818182,
          26.798181818181817,
          26.521818181818176,
          26.37272727272727,
          26.35181818181818,
          26.180000000000003,
          26.126363636363635
         ],
         "yaxis": "y"
        }
       ],
       "layout": {
        "autosize": true,
        "legend": {
         "tracegroupgap": 0
        },
        "template": {
         "data": {
          "bar": [
           {
            "error_x": {
             "color": "#2a3f5f"
            },
            "error_y": {
             "color": "#2a3f5f"
            },
            "marker": {
             "line": {
              "color": "#E5ECF6",
              "width": 0.5
             },
             "pattern": {
              "fillmode": "overlay",
              "size": 10,
              "solidity": 0.2
             }
            },
            "type": "bar"
           }
          ],
          "barpolar": [
           {
            "marker": {
             "line": {
              "color": "#E5ECF6",
              "width": 0.5
             },
             "pattern": {
              "fillmode": "overlay",
              "size": 10,
              "solidity": 0.2
             }
            },
            "type": "barpolar"
           }
          ],
          "carpet": [
           {
            "aaxis": {
             "endlinecolor": "#2a3f5f",
             "gridcolor": "white",
             "linecolor": "white",
             "minorgridcolor": "white",
             "startlinecolor": "#2a3f5f"
            },
            "baxis": {
             "endlinecolor": "#2a3f5f",
             "gridcolor": "white",
             "linecolor": "white",
             "minorgridcolor": "white",
             "startlinecolor": "#2a3f5f"
            },
            "type": "carpet"
           }
          ],
          "choropleth": [
           {
            "colorbar": {
             "outlinewidth": 0,
             "ticks": ""
            },
            "type": "choropleth"
           }
          ],
          "contour": [
           {
            "colorbar": {
             "outlinewidth": 0,
             "ticks": ""
            },
            "colorscale": [
             [
              0,
              "#0d0887"
             ],
             [
              0.1111111111111111,
              "#46039f"
             ],
             [
              0.2222222222222222,
              "#7201a8"
             ],
             [
              0.3333333333333333,
              "#9c179e"
             ],
             [
              0.4444444444444444,
              "#bd3786"
             ],
             [
              0.5555555555555556,
              "#d8576b"
             ],
             [
              0.6666666666666666,
              "#ed7953"
             ],
             [
              0.7777777777777778,
              "#fb9f3a"
             ],
             [
              0.8888888888888888,
              "#fdca26"
             ],
             [
              1,
              "#f0f921"
             ]
            ],
            "type": "contour"
           }
          ],
          "contourcarpet": [
           {
            "colorbar": {
             "outlinewidth": 0,
             "ticks": ""
            },
            "type": "contourcarpet"
           }
          ],
          "heatmap": [
           {
            "colorbar": {
             "outlinewidth": 0,
             "ticks": ""
            },
            "colorscale": [
             [
              0,
              "#0d0887"
             ],
             [
              0.1111111111111111,
              "#46039f"
             ],
             [
              0.2222222222222222,
              "#7201a8"
             ],
             [
              0.3333333333333333,
              "#9c179e"
             ],
             [
              0.4444444444444444,
              "#bd3786"
             ],
             [
              0.5555555555555556,
              "#d8576b"
             ],
             [
              0.6666666666666666,
              "#ed7953"
             ],
             [
              0.7777777777777778,
              "#fb9f3a"
             ],
             [
              0.8888888888888888,
              "#fdca26"
             ],
             [
              1,
              "#f0f921"
             ]
            ],
            "type": "heatmap"
           }
          ],
          "heatmapgl": [
           {
            "colorbar": {
             "outlinewidth": 0,
             "ticks": ""
            },
            "colorscale": [
             [
              0,
              "#0d0887"
             ],
             [
              0.1111111111111111,
              "#46039f"
             ],
             [
              0.2222222222222222,
              "#7201a8"
             ],
             [
              0.3333333333333333,
              "#9c179e"
             ],
             [
              0.4444444444444444,
              "#bd3786"
             ],
             [
              0.5555555555555556,
              "#d8576b"
             ],
             [
              0.6666666666666666,
              "#ed7953"
             ],
             [
              0.7777777777777778,
              "#fb9f3a"
             ],
             [
              0.8888888888888888,
              "#fdca26"
             ],
             [
              1,
              "#f0f921"
             ]
            ],
            "type": "heatmapgl"
           }
          ],
          "histogram": [
           {
            "marker": {
             "pattern": {
              "fillmode": "overlay",
              "size": 10,
              "solidity": 0.2
             }
            },
            "type": "histogram"
           }
          ],
          "histogram2d": [
           {
            "colorbar": {
             "outlinewidth": 0,
             "ticks": ""
            },
            "colorscale": [
             [
              0,
              "#0d0887"
             ],
             [
              0.1111111111111111,
              "#46039f"
             ],
             [
              0.2222222222222222,
              "#7201a8"
             ],
             [
              0.3333333333333333,
              "#9c179e"
             ],
             [
              0.4444444444444444,
              "#bd3786"
             ],
             [
              0.5555555555555556,
              "#d8576b"
             ],
             [
              0.6666666666666666,
              "#ed7953"
             ],
             [
              0.7777777777777778,
              "#fb9f3a"
             ],
             [
              0.8888888888888888,
              "#fdca26"
             ],
             [
              1,
              "#f0f921"
             ]
            ],
            "type": "histogram2d"
           }
          ],
          "histogram2dcontour": [
           {
            "colorbar": {
             "outlinewidth": 0,
             "ticks": ""
            },
            "colorscale": [
             [
              0,
              "#0d0887"
             ],
             [
              0.1111111111111111,
              "#46039f"
             ],
             [
              0.2222222222222222,
              "#7201a8"
             ],
             [
              0.3333333333333333,
              "#9c179e"
             ],
             [
              0.4444444444444444,
              "#bd3786"
             ],
             [
              0.5555555555555556,
              "#d8576b"
             ],
             [
              0.6666666666666666,
              "#ed7953"
             ],
             [
              0.7777777777777778,
              "#fb9f3a"
             ],
             [
              0.8888888888888888,
              "#fdca26"
             ],
             [
              1,
              "#f0f921"
             ]
            ],
            "type": "histogram2dcontour"
           }
          ],
          "mesh3d": [
           {
            "colorbar": {
             "outlinewidth": 0,
             "ticks": ""
            },
            "type": "mesh3d"
           }
          ],
          "parcoords": [
           {
            "line": {
             "colorbar": {
              "outlinewidth": 0,
              "ticks": ""
             }
            },
            "type": "parcoords"
           }
          ],
          "pie": [
           {
            "automargin": true,
            "type": "pie"
           }
          ],
          "scatter": [
           {
            "fillpattern": {
             "fillmode": "overlay",
             "size": 10,
             "solidity": 0.2
            },
            "type": "scatter"
           }
          ],
          "scatter3d": [
           {
            "line": {
             "colorbar": {
              "outlinewidth": 0,
              "ticks": ""
             }
            },
            "marker": {
             "colorbar": {
              "outlinewidth": 0,
              "ticks": ""
             }
            },
            "type": "scatter3d"
           }
          ],
          "scattercarpet": [
           {
            "marker": {
             "colorbar": {
              "outlinewidth": 0,
              "ticks": ""
             }
            },
            "type": "scattercarpet"
           }
          ],
          "scattergeo": [
           {
            "marker": {
             "colorbar": {
              "outlinewidth": 0,
              "ticks": ""
             }
            },
            "type": "scattergeo"
           }
          ],
          "scattergl": [
           {
            "marker": {
             "colorbar": {
              "outlinewidth": 0,
              "ticks": ""
             }
            },
            "type": "scattergl"
           }
          ],
          "scattermapbox": [
           {
            "marker": {
             "colorbar": {
              "outlinewidth": 0,
              "ticks": ""
             }
            },
            "type": "scattermapbox"
           }
          ],
          "scatterpolar": [
           {
            "marker": {
             "colorbar": {
              "outlinewidth": 0,
              "ticks": ""
             }
            },
            "type": "scatterpolar"
           }
          ],
          "scatterpolargl": [
           {
            "marker": {
             "colorbar": {
              "outlinewidth": 0,
              "ticks": ""
             }
            },
            "type": "scatterpolargl"
           }
          ],
          "scatterternary": [
           {
            "marker": {
             "colorbar": {
              "outlinewidth": 0,
              "ticks": ""
             }
            },
            "type": "scatterternary"
           }
          ],
          "surface": [
           {
            "colorbar": {
             "outlinewidth": 0,
             "ticks": ""
            },
            "colorscale": [
             [
              0,
              "#0d0887"
             ],
             [
              0.1111111111111111,
              "#46039f"
             ],
             [
              0.2222222222222222,
              "#7201a8"
             ],
             [
              0.3333333333333333,
              "#9c179e"
             ],
             [
              0.4444444444444444,
              "#bd3786"
             ],
             [
              0.5555555555555556,
              "#d8576b"
             ],
             [
              0.6666666666666666,
              "#ed7953"
             ],
             [
              0.7777777777777778,
              "#fb9f3a"
             ],
             [
              0.8888888888888888,
              "#fdca26"
             ],
             [
              1,
              "#f0f921"
             ]
            ],
            "type": "surface"
           }
          ],
          "table": [
           {
            "cells": {
             "fill": {
              "color": "#EBF0F8"
             },
             "line": {
              "color": "white"
             }
            },
            "header": {
             "fill": {
              "color": "#C8D4E3"
             },
             "line": {
              "color": "white"
             }
            },
            "type": "table"
           }
          ]
         },
         "layout": {
          "annotationdefaults": {
           "arrowcolor": "#2a3f5f",
           "arrowhead": 0,
           "arrowwidth": 1
          },
          "autotypenumbers": "strict",
          "coloraxis": {
           "colorbar": {
            "outlinewidth": 0,
            "ticks": ""
           }
          },
          "colorscale": {
           "diverging": [
            [
             0,
             "#8e0152"
            ],
            [
             0.1,
             "#c51b7d"
            ],
            [
             0.2,
             "#de77ae"
            ],
            [
             0.3,
             "#f1b6da"
            ],
            [
             0.4,
             "#fde0ef"
            ],
            [
             0.5,
             "#f7f7f7"
            ],
            [
             0.6,
             "#e6f5d0"
            ],
            [
             0.7,
             "#b8e186"
            ],
            [
             0.8,
             "#7fbc41"
            ],
            [
             0.9,
             "#4d9221"
            ],
            [
             1,
             "#276419"
            ]
           ],
           "sequential": [
            [
             0,
             "#0d0887"
            ],
            [
             0.1111111111111111,
             "#46039f"
            ],
            [
             0.2222222222222222,
             "#7201a8"
            ],
            [
             0.3333333333333333,
             "#9c179e"
            ],
            [
             0.4444444444444444,
             "#bd3786"
            ],
            [
             0.5555555555555556,
             "#d8576b"
            ],
            [
             0.6666666666666666,
             "#ed7953"
            ],
            [
             0.7777777777777778,
             "#fb9f3a"
            ],
            [
             0.8888888888888888,
             "#fdca26"
            ],
            [
             1,
             "#f0f921"
            ]
           ],
           "sequentialminus": [
            [
             0,
             "#0d0887"
            ],
            [
             0.1111111111111111,
             "#46039f"
            ],
            [
             0.2222222222222222,
             "#7201a8"
            ],
            [
             0.3333333333333333,
             "#9c179e"
            ],
            [
             0.4444444444444444,
             "#bd3786"
            ],
            [
             0.5555555555555556,
             "#d8576b"
            ],
            [
             0.6666666666666666,
             "#ed7953"
            ],
            [
             0.7777777777777778,
             "#fb9f3a"
            ],
            [
             0.8888888888888888,
             "#fdca26"
            ],
            [
             1,
             "#f0f921"
            ]
           ]
          },
          "colorway": [
           "#636efa",
           "#EF553B",
           "#00cc96",
           "#ab63fa",
           "#FFA15A",
           "#19d3f3",
           "#FF6692",
           "#B6E880",
           "#FF97FF",
           "#FECB52"
          ],
          "font": {
           "color": "#2a3f5f"
          },
          "geo": {
           "bgcolor": "white",
           "lakecolor": "white",
           "landcolor": "#E5ECF6",
           "showlakes": true,
           "showland": true,
           "subunitcolor": "white"
          },
          "hoverlabel": {
           "align": "left"
          },
          "hovermode": "closest",
          "mapbox": {
           "style": "light"
          },
          "paper_bgcolor": "white",
          "plot_bgcolor": "#E5ECF6",
          "polar": {
           "angularaxis": {
            "gridcolor": "white",
            "linecolor": "white",
            "ticks": ""
           },
           "bgcolor": "#E5ECF6",
           "radialaxis": {
            "gridcolor": "white",
            "linecolor": "white",
            "ticks": ""
           }
          },
          "scene": {
           "xaxis": {
            "backgroundcolor": "#E5ECF6",
            "gridcolor": "white",
            "gridwidth": 2,
            "linecolor": "white",
            "showbackground": true,
            "ticks": "",
            "zerolinecolor": "white"
           },
           "yaxis": {
            "backgroundcolor": "#E5ECF6",
            "gridcolor": "white",
            "gridwidth": 2,
            "linecolor": "white",
            "showbackground": true,
            "ticks": "",
            "zerolinecolor": "white"
           },
           "zaxis": {
            "backgroundcolor": "#E5ECF6",
            "gridcolor": "white",
            "gridwidth": 2,
            "linecolor": "white",
            "showbackground": true,
            "ticks": "",
            "zerolinecolor": "white"
           }
          },
          "shapedefaults": {
           "line": {
            "color": "#2a3f5f"
           }
          },
          "ternary": {
           "aaxis": {
            "gridcolor": "white",
            "linecolor": "white",
            "ticks": ""
           },
           "baxis": {
            "gridcolor": "white",
            "linecolor": "white",
            "ticks": ""
           },
           "bgcolor": "#E5ECF6",
           "caxis": {
            "gridcolor": "white",
            "linecolor": "white",
            "ticks": ""
           }
          },
          "title": {
           "x": 0.05
          },
          "xaxis": {
           "automargin": true,
           "gridcolor": "white",
           "linecolor": "white",
           "ticks": "",
           "title": {
            "standoff": 15
           },
           "zerolinecolor": "white",
           "zerolinewidth": 2
          },
          "yaxis": {
           "automargin": true,
           "gridcolor": "white",
           "linecolor": "white",
           "ticks": "",
           "title": {
            "standoff": 15
           },
           "zerolinecolor": "white",
           "zerolinewidth": 2
          }
         }
        },
        "title": {
         "text": "Average Returns Paid by Stock"
        },
        "xaxis": {
         "anchor": "y",
         "autorange": true,
         "domain": [
          0,
          1
         ],
         "range": [
          0,
          49
         ],
         "tickangle": -45,
         "tickmode": "array",
         "ticktext": [
          "ENPH",
          "NVDA",
          "TSLA",
          "AMD",
          "SMCI",
          "MRNA",
          "BLDR",
          "AVGO",
          "CRWD",
          "ETSY",
          "LRCX",
          "ANET",
          "MPWR",
          "AMAT",
          "PANW",
          "FICO",
          "META",
          "CDNS",
          "KLAC",
          "FTNT",
          "CZR",
          "AXON",
          "NFLX",
          "LLY",
          "NOW",
          "DXCM",
          "AMZN",
          "SNPS",
          "MU",
          "TER",
          "DECK",
          "AAPL",
          "MSCI",
          "MSFT",
          "TTWO",
          "ODFL",
          "CPRT",
          "TDG",
          "CTAS",
          "IDXX",
          "ADBE",
          "EPAM",
          "URI",
          "BX",
          "CDW",
          "INTU",
          "ON",
          "PWR",
          "STLD",
          "ISRG"
         ],
         "tickvals": [
          0,
          1,
          2,
          3,
          4,
          5,
          6,
          7,
          8,
          9,
          10,
          11,
          12,
          13,
          14,
          15,
          16,
          17,
          18,
          19,
          20,
          21,
          22,
          23,
          24,
          25,
          26,
          27,
          28,
          29,
          30,
          31,
          32,
          33,
          34,
          35,
          36,
          37,
          38,
          39,
          40,
          41,
          42,
          43,
          44,
          45,
          46,
          47,
          48,
          49
         ],
         "title": {
          "text": "Stocks"
         },
         "type": "category"
        },
        "yaxis": {
         "anchor": "x",
         "autorange": true,
         "domain": [
          0,
          1
         ],
         "range": [
          21.456717171717173,
          114.84964646464644
         ],
         "title": {
          "text": "Average Return"
         },
         "type": "linear"
        }
       }
      },
      "image/png": "[encoded data removed]",
      "text/html": [
       "<div>                            <div id=\"41e575cf-bda6-401c-a7aa-61f10d619f00\" class=\"plotly-graph-div\" style=\"height:500px; width:100%;\"></div>            <script type=\"text/javascript\">                require([\"plotly\"], function(Plotly) {                    window.PLOTLYENV=window.PLOTLYENV || {};                                    if (document.getElementById(\"41e575cf-bda6-401c-a7aa-61f10d619f00\")) {                    Plotly.newPlot(                        \"41e575cf-bda6-401c-a7aa-61f10d619f00\",                        [{\"hovertemplate\":\"Stocks=%{x}<br>Average Return=%{y}<extra></extra>\",\"legendgroup\":\"\",\"line\":{\"color\":\"#636efa\",\"dash\":\"solid\"},\"marker\":{\"symbol\":\"circle\"},\"mode\":\"lines\",\"name\":\"\",\"orientation\":\"v\",\"showlegend\":false,\"x\":[\"ENPH\",\"NVDA\",\"TSLA\",\"AMD\",\"SMCI\",\"MRNA\",\"BLDR\",\"AVGO\",\"CRWD\",\"ETSY\",\"LRCX\",\"ANET\",\"MPWR\",\"AMAT\",\"PANW\",\"FICO\",\"META\",\"CDNS\",\"KLAC\",\"FTNT\",\"CZR\",\"AXON\",\"NFLX\",\"LLY\",\"NOW\",\"DXCM\",\"AMZN\",\"SNPS\",\"MU\",\"TER\",\"DECK\",\"AAPL\",\"MSCI\",\"MSFT\",\"TTWO\",\"ODFL\",\"CPRT\",\"TDG\",\"CTAS\",\"IDXX\",\"ADBE\",\"EPAM\",\"URI\",\"BX\",\"CDW\",\"INTU\",\"ON\",\"PWR\",\"STLD\",\"ISRG\"],\"xaxis\":\"x\",\"y\":[110.17999999999998,94.14818181818183,84.78272727272729,66.34363636363636,63.13545454545454,50.07272727272727,47.7090909090909,43.721818181818186,42.30818181818182,41.980000000000004,41.53363636363636,40.90090909090909,38.90909090909091,37.65090909090909,37.13090909090909,36.803636363636365,36.35909090909091,36.13999999999999,35.45636363636364,35.290909090909096,35.23727272727273,34.97909090909091,34.726363636363644,34.303636363636365,33.74,33.10454545454546,31.914545454545454,31.080909090909085,30.429999999999996,30.275454545454547,30.189090909090908,30.124545454545455,29.92,29.899090909090912,29.780909090909088,29.05272727272727,28.839999999999996,28.30727272727273,27.42,27.291818181818176,27.280909090909088,27.226363636363637,27.171818181818182,26.811818181818182,26.798181818181817,26.521818181818176,26.37272727272727,26.35181818181818,26.180000000000003,26.126363636363635],\"yaxis\":\"y\",\"type\":\"scatter\"}],                        {\"template\":{\"data\":{\"histogram2dcontour\":[{\"type\":\"histogram2dcontour\",\"colorbar\":{\"outlinewidth\":0,\"ticks\":\"\"},\"colorscale\":[[0.0,\"#0d0887\"],[0.1111111111111111,\"#46039f\"],[0.2222222222222222,\"#7201a8\"],[0.3333333333333333,\"#9c179e\"],[0.4444444444444444,\"#bd3786\"],[0.5555555555555556,\"#d8576b\"],[0.6666666666666666,\"#ed7953\"],[0.7777777777777778,\"#fb9f3a\"],[0.8888888888888888,\"#fdca26\"],[1.0,\"#f0f921\"]]}],\"choropleth\":[{\"type\":\"choropleth\",\"colorbar\":{\"outlinewidth\":0,\"ticks\":\"\"}}],\"histogram2d\":[{\"type\":\"histogram2d\",\"colorbar\":{\"outlinewidth\":0,\"ticks\":\"\"},\"colorscale\":[[0.0,\"#0d0887\"],[0.1111111111111111,\"#46039f\"],[0.2222222222222222,\"#7201a8\"],[0.3333333333333333,\"#9c179e\"],[0.4444444444444444,\"#bd3786\"],[0.5555555555555556,\"#d8576b\"],[0.6666666666666666,\"#ed7953\"],[0.7777777777777778,\"#fb9f3a\"],[0.8888888888888888,\"#fdca26\"],[1.0,\"#f0f921\"]]}],\"heatmap\":[{\"type\":\"heatmap\",\"colorbar\":{\"outlinewidth\":0,\"ticks\":\"\"},\"colorscale\":[[0.0,\"#0d0887\"],[0.1111111111111111,\"#46039f\"],[0.2222222222222222,\"#7201a8\"],[0.3333333333333333,\"#9c179e\"],[0.4444444444444444,\"#bd3786\"],[0.5555555555555556,\"#d8576b\"],[0.6666666666666666,\"#ed7953\"],[0.7777777777777778,\"#fb9f3a\"],[0.8888888888888888,\"#fdca26\"],[1.0,\"#f0f921\"]]}],\"heatmapgl\":[{\"type\":\"heatmapgl\",\"colorbar\":{\"outlinewidth\":0,\"ticks\":\"\"},\"colorscale\":[[0.0,\"#0d0887\"],[0.1111111111111111,\"#46039f\"],[0.2222222222222222,\"#7201a8\"],[0.3333333333333333,\"#9c179e\"],[0.4444444444444444,\"#bd3786\"],[0.5555555555555556,\"#d8576b\"],[0.6666666666666666,\"#ed7953\"],[0.7777777777777778,\"#fb9f3a\"],[0.8888888888888888,\"#fdca26\"],[1.0,\"#f0f921\"]]}],\"contourcarpet\":[{\"type\":\"contourcarpet\",\"colorbar\":{\"outlinewidth\":0,\"ticks\":\"\"}}],\"contour\":[{\"type\":\"contour\",\"colorbar\":{\"outlinewidth\":0,\"ticks\":\"\"},\"colorscale\":[[0.0,\"#0d0887\"],[0.1111111111111111,\"#46039f\"],[0.2222222222222222,\"#7201a8\"],[0.3333333333333333,\"#9c179e\"],[0.4444444444444444,\"#bd3786\"],[0.5555555555555556,\"#d8576b\"],[0.6666666666666666,\"#ed7953\"],[0.7777777777777778,\"#fb9f3a\"],[0.8888888888888888,\"#fdca26\"],[1.0,\"#f0f921\"]]}],\"surface\":[{\"type\":\"surface\",\"colorbar\":{\"outlinewidth\":0,\"ticks\":\"\"},\"colorscale\":[[0.0,\"#0d0887\"],[0.1111111111111111,\"#46039f\"],[0.2222222222222222,\"#7201a8\"],[0.3333333333333333,\"#9c179e\"],[0.4444444444444444,\"#bd3786\"],[0.5555555555555556,\"#d8576b\"],[0.6666666666666666,\"#ed7953\"],[0.7777777777777778,\"#fb9f3a\"],[0.8888888888888888,\"#fdca26\"],[1.0,\"#f0f921\"]]}],\"mesh3d\":[{\"type\":\"mesh3d\",\"colorbar\":{\"outlinewidth\":0,\"ticks\":\"\"}}],\"scatter\":[{\"fillpattern\":{\"fillmode\":\"overlay\",\"size\":10,\"solidity\":0.2},\"type\":\"scatter\"}],\"parcoords\":[{\"type\":\"parcoords\",\"line\":{\"colorbar\":{\"outlinewidth\":0,\"ticks\":\"\"}}}],\"scatterpolargl\":[{\"type\":\"scatterpolargl\",\"marker\":{\"colorbar\":{\"outlinewidth\":0,\"ticks\":\"\"}}}],\"bar\":[{\"error_x\":{\"color\":\"#2a3f5f\"},\"error_y\":{\"color\":\"#2a3f5f\"},\"marker\":{\"line\":{\"color\":\"#E5ECF6\",\"width\":0.5},\"pattern\":{\"fillmode\":\"overlay\",\"size\":10,\"solidity\":0.2}},\"type\":\"bar\"}],\"scattergeo\":[{\"type\":\"scattergeo\",\"marker\":{\"colorbar\":{\"outlinewidth\":0,\"ticks\":\"\"}}}],\"scatterpolar\":[{\"type\":\"scatterpolar\",\"marker\":{\"colorbar\":{\"outlinewidth\":0,\"ticks\":\"\"}}}],\"histogram\":[{\"marker\":{\"pattern\":{\"fillmode\":\"overlay\",\"size\":10,\"solidity\":0.2}},\"type\":\"histogram\"}],\"scattergl\":[{\"type\":\"scattergl\",\"marker\":{\"colorbar\":{\"outlinewidth\":0,\"ticks\":\"\"}}}],\"scatter3d\":[{\"type\":\"scatter3d\",\"line\":{\"colorbar\":{\"outlinewidth\":0,\"ticks\":\"\"}},\"marker\":{\"colorbar\":{\"outlinewidth\":0,\"ticks\":\"\"}}}],\"scattermapbox\":[{\"type\":\"scattermapbox\",\"marker\":{\"colorbar\":{\"outlinewidth\":0,\"ticks\":\"\"}}}],\"scatterternary\":[{\"type\":\"scatterternary\",\"marker\":{\"colorbar\":{\"outlinewidth\":0,\"ticks\":\"\"}}}],\"scattercarpet\":[{\"type\":\"scattercarpet\",\"marker\":{\"colorbar\":{\"outlinewidth\":0,\"ticks\":\"\"}}}],\"carpet\":[{\"aaxis\":{\"endlinecolor\":\"#2a3f5f\",\"gridcolor\":\"white\",\"linecolor\":\"white\",\"minorgridcolor\":\"white\",\"startlinecolor\":\"#2a3f5f\"},\"baxis\":{\"endlinecolor\":\"#2a3f5f\",\"gridcolor\":\"white\",\"linecolor\":\"white\",\"minorgridcolor\":\"white\",\"startlinecolor\":\"#2a3f5f\"},\"type\":\"carpet\"}],\"table\":[{\"cells\":{\"fill\":{\"color\":\"#EBF0F8\"},\"line\":{\"color\":\"white\"}},\"header\":{\"fill\":{\"color\":\"#C8D4E3\"},\"line\":{\"color\":\"white\"}},\"type\":\"table\"}],\"barpolar\":[{\"marker\":{\"line\":{\"color\":\"#E5ECF6\",\"width\":0.5},\"pattern\":{\"fillmode\":\"overlay\",\"size\":10,\"solidity\":0.2}},\"type\":\"barpolar\"}],\"pie\":[{\"automargin\":true,\"type\":\"pie\"}]},\"layout\":{\"autotypenumbers\":\"strict\",\"colorway\":[\"#636efa\",\"#EF553B\",\"#00cc96\",\"#ab63fa\",\"#FFA15A\",\"#19d3f3\",\"#FF6692\",\"#B6E880\",\"#FF97FF\",\"#FECB52\"],\"font\":{\"color\":\"#2a3f5f\"},\"hovermode\":\"closest\",\"hoverlabel\":{\"align\":\"left\"},\"paper_bgcolor\":\"white\",\"plot_bgcolor\":\"#E5ECF6\",\"polar\":{\"bgcolor\":\"#E5ECF6\",\"angularaxis\":{\"gridcolor\":\"white\",\"linecolor\":\"white\",\"ticks\":\"\"},\"radialaxis\":{\"gridcolor\":\"white\",\"linecolor\":\"white\",\"ticks\":\"\"}},\"ternary\":{\"bgcolor\":\"#E5ECF6\",\"aaxis\":{\"gridcolor\":\"white\",\"linecolor\":\"white\",\"ticks\":\"\"},\"baxis\":{\"gridcolor\":\"white\",\"linecolor\":\"white\",\"ticks\":\"\"},\"caxis\":{\"gridcolor\":\"white\",\"linecolor\":\"white\",\"ticks\":\"\"}},\"coloraxis\":{\"colorbar\":{\"outlinewidth\":0,\"ticks\":\"\"}},\"colorscale\":{\"sequential\":[[0.0,\"#0d0887\"],[0.1111111111111111,\"#46039f\"],[0.2222222222222222,\"#7201a8\"],[0.3333333333333333,\"#9c179e\"],[0.4444444444444444,\"#bd3786\"],[0.5555555555555556,\"#d8576b\"],[0.6666666666666666,\"#ed7953\"],[0.7777777777777778,\"#fb9f3a\"],[0.8888888888888888,\"#fdca26\"],[1.0,\"#f0f921\"]],\"sequentialminus\":[[0.0,\"#0d0887\"],[0.1111111111111111,\"#46039f\"],[0.2222222222222222,\"#7201a8\"],[0.3333333333333333,\"#9c179e\"],[0.4444444444444444,\"#bd3786\"],[0.5555555555555556,\"#d8576b\"],[0.6666666666666666,\"#ed7953\"],[0.7777777777777778,\"#fb9f3a\"],[0.8888888888888888,\"#fdca26\"],[1.0,\"#f0f921\"]],\"diverging\":[[0,\"#8e0152\"],[0.1,\"#c51b7d\"],[0.2,\"#de77ae\"],[0.3,\"#f1b6da\"],[0.4,\"#fde0ef\"],[0.5,\"#f7f7f7\"],[0.6,\"#e6f5d0\"],[0.7,\"#b8e186\"],[0.8,\"#7fbc41\"],[0.9,\"#4d9221\"],[1,\"#276419\"]]},\"xaxis\":{\"gridcolor\":\"white\",\"linecolor\":\"white\",\"ticks\":\"\",\"title\":{\"standoff\":15},\"zerolinecolor\":\"white\",\"automargin\":true,\"zerolinewidth\":2},\"yaxis\":{\"gridcolor\":\"white\",\"linecolor\":\"white\",\"ticks\":\"\",\"title\":{\"standoff\":15},\"zerolinecolor\":\"white\",\"automargin\":true,\"zerolinewidth\":2},\"scene\":{\"xaxis\":{\"backgroundcolor\":\"#E5ECF6\",\"gridcolor\":\"white\",\"linecolor\":\"white\",\"showbackground\":true,\"ticks\":\"\",\"zerolinecolor\":\"white\",\"gridwidth\":2},\"yaxis\":{\"backgroundcolor\":\"#E5ECF6\",\"gridcolor\":\"white\",\"linecolor\":\"white\",\"showbackground\":true,\"ticks\":\"\",\"zerolinecolor\":\"white\",\"gridwidth\":2},\"zaxis\":{\"backgroundcolor\":\"#E5ECF6\",\"gridcolor\":\"white\",\"linecolor\":\"white\",\"showbackground\":true,\"ticks\":\"\",\"zerolinecolor\":\"white\",\"gridwidth\":2}},\"shapedefaults\":{\"line\":{\"color\":\"#2a3f5f\"}},\"annotationdefaults\":{\"arrowcolor\":\"#2a3f5f\",\"arrowhead\":0,\"arrowwidth\":1},\"geo\":{\"bgcolor\":\"white\",\"landcolor\":\"#E5ECF6\",\"subunitcolor\":\"white\",\"showland\":true,\"showlakes\":true,\"lakecolor\":\"white\"},\"title\":{\"x\":0.05},\"mapbox\":{\"style\":\"light\"}}},\"xaxis\":{\"anchor\":\"y\",\"domain\":[0.0,1.0],\"title\":{\"text\":\"Stocks\"},\"tickmode\":\"array\",\"tickvals\":[0,1,2,3,4,5,6,7,8,9,10,11,12,13,14,15,16,17,18,19,20,21,22,23,24,25,26,27,28,29,30,31,32,33,34,35,36,37,38,39,40,41,42,43,44,45,46,47,48,49],\"ticktext\":[\"ENPH\",\"NVDA\",\"TSLA\",\"AMD\",\"SMCI\",\"MRNA\",\"BLDR\",\"AVGO\",\"CRWD\",\"ETSY\",\"LRCX\",\"ANET\",\"MPWR\",\"AMAT\",\"PANW\",\"FICO\",\"META\",\"CDNS\",\"KLAC\",\"FTNT\",\"CZR\",\"AXON\",\"NFLX\",\"LLY\",\"NOW\",\"DXCM\",\"AMZN\",\"SNPS\",\"MU\",\"TER\",\"DECK\",\"AAPL\",\"MSCI\",\"MSFT\",\"TTWO\",\"ODFL\",\"CPRT\",\"TDG\",\"CTAS\",\"IDXX\",\"ADBE\",\"EPAM\",\"URI\",\"BX\",\"CDW\",\"INTU\",\"ON\",\"PWR\",\"STLD\",\"ISRG\"],\"tickangle\":-45},\"yaxis\":{\"anchor\":\"x\",\"domain\":[0.0,1.0],\"title\":{\"text\":\"Average Return\"}},\"legend\":{\"tracegroupgap\":0},\"title\":{\"text\":\"Average Returns Paid by Stock\"},\"height\":500},                        {\"responsive\": true}                    ).then(function(){\n",
       "                            \n",
       "var gd = document.getElementById('41e575cf-bda6-401c-a7aa-61f10d619f00');\n",
       "var x = new MutationObserver(function (mutations, observer) {{\n",
       "        var display = window.getComputedStyle(gd).display;\n",
       "        if (!display || display === 'none') {{\n",
       "            console.log([gd, 'removed!']);\n",
       "            Plotly.purge(gd);\n",
       "            observer.disconnect();\n",
       "        }}\n",
       "}});\n",
       "\n",
       "// Listen for the removal of the full notebook cells\n",
       "var notebookContainer = gd.closest('#notebook-container');\n",
       "if (notebookContainer) {{\n",
       "    x.observe(notebookContainer, {childList: true});\n",
       "}}\n",
       "\n",
       "// Listen for the clearing of the current output cell\n",
       "var outputEl = gd.closest('.output');\n",
       "if (outputEl) {{\n",
       "    x.observe(outputEl, {childList: true});\n",
       "}}\n",
       "\n",
       "                        })                };                });            </script>        </div>"
      ]
     },
     "metadata": {},
     "output_type": "display_data"
    }
   ],
   "source": [
    "mean_returns = returns_df.mean().sort_values(ascending=False)[:50]\n",
    "\n",
    "fig = px.line(\n",
    "    x=mean_returns.index, \n",
    "    y=mean_returns.values, \n",
    "    labels={'x': 'Stocks', 'y': 'Average Return'}, \n",
    "    title='Average Returns Paid by Stock'\n",
    ")\n",
    "\n",
    "fig.update_layout(\n",
    "    xaxis=dict(tickmode='array', tickvals=list(range(len(mean_returns))), ticktext=mean_returns.index),\n",
    "    xaxis_title='Stocks',\n",
    "    yaxis_title='Average Return',\n",
    "    title='Average Returns Paid by Stock',\n",
    "    xaxis_tickangle=-45,\n",
    "    height=500, \n",
    ")\n",
    "\n",
    "fig.show()"
   ]
  },
  {
   "cell_type": "code",
   "execution_count": 346,
   "id": "6b76b0f5-73e0-48cc-ab54-d8662dabead4",
   "metadata": {},
   "outputs": [
    {
     "data": {
      "text/html": [
       "<div>\n",
       "<style scoped>\n",
       "    .dataframe tbody tr th:only-of-type {\n",
       "        vertical-align: middle;\n",
       "    }\n",
       "\n",
       "    .dataframe tbody tr th {\n",
       "        vertical-align: top;\n",
       "    }\n",
       "\n",
       "    .dataframe thead th {\n",
       "        text-align: right;\n",
       "    }\n",
       "</style>\n",
       "<table border=\"1\" class=\"dataframe\">\n",
       "  <thead>\n",
       "    <tr style=\"text-align: right;\">\n",
       "      <th></th>\n",
       "      <th>Trailing P/E</th>\n",
       "      <th>Forward P/E</th>\n",
       "    </tr>\n",
       "    <tr>\n",
       "      <th>Symbol</th>\n",
       "      <th></th>\n",
       "      <th></th>\n",
       "    </tr>\n",
       "  </thead>\n",
       "  <tbody>\n",
       "    <tr>\n",
       "      <th>MMM</th>\n",
       "      <td>NaN</td>\n",
       "      <td>13.07</td>\n",
       "    </tr>\n",
       "    <tr>\n",
       "      <th>AOS</th>\n",
       "      <td>21.24</td>\n",
       "      <td>18.80</td>\n",
       "    </tr>\n",
       "    <tr>\n",
       "      <th>ABT</th>\n",
       "      <td>32.37</td>\n",
       "      <td>20.22</td>\n",
       "    </tr>\n",
       "    <tr>\n",
       "      <th>ABBV</th>\n",
       "      <td>51.05</td>\n",
       "      <td>14.22</td>\n",
       "    </tr>\n",
       "    <tr>\n",
       "      <th>ACN</th>\n",
       "      <td>27.81</td>\n",
       "      <td>23.72</td>\n",
       "    </tr>\n",
       "    <tr>\n",
       "      <th>...</th>\n",
       "      <td>...</td>\n",
       "      <td>...</td>\n",
       "    </tr>\n",
       "    <tr>\n",
       "      <th>XYL</th>\n",
       "      <td>47.09</td>\n",
       "      <td>28.49</td>\n",
       "    </tr>\n",
       "    <tr>\n",
       "      <th>YUM</th>\n",
       "      <td>23.49</td>\n",
       "      <td>20.76</td>\n",
       "    </tr>\n",
       "    <tr>\n",
       "      <th>ZBRA</th>\n",
       "      <td>60.93</td>\n",
       "      <td>21.00</td>\n",
       "    </tr>\n",
       "    <tr>\n",
       "      <th>ZBH</th>\n",
       "      <td>23.54</td>\n",
       "      <td>12.49</td>\n",
       "    </tr>\n",
       "    <tr>\n",
       "      <th>ZTS</th>\n",
       "      <td>33.40</td>\n",
       "      <td>27.17</td>\n",
       "    </tr>\n",
       "  </tbody>\n",
       "</table>\n",
       "<p>503 rows × 2 columns</p>\n",
       "</div>"
      ],
      "text/plain": [
       "        Trailing P/E  Forward P/E\n",
       "Symbol                           \n",
       "MMM              NaN        13.07\n",
       "AOS            21.24        18.80\n",
       "ABT            32.37        20.22\n",
       "ABBV           51.05        14.22\n",
       "ACN            27.81        23.72\n",
       "...              ...          ...\n",
       "XYL            47.09        28.49\n",
       "YUM            23.49        20.76\n",
       "ZBRA           60.93        21.00\n",
       "ZBH            23.54        12.49\n",
       "ZTS            33.40        27.17\n",
       "\n",
       "[503 rows x 2 columns]"
      ]
     },
     "execution_count": 346,
     "metadata": {},
     "output_type": "execute_result"
    }
   ],
   "source": [
    "pe_ratios_df = pd.DataFrame(index=sp500['Symbol'], columns=['Trailing P/E', 'Forward P/E'], dtype=float)\n",
    "\n",
    "for ticker in sp500['Symbol']:\n",
    "    trailing_pe, forward_pe = get_pe_ratios(ticker) \n",
    "    pe_ratios_df.loc[ticker, 'Trailing P/E'] = trailing_pe\n",
    "    pe_ratios_df.loc[ticker, 'Forward P/E'] = forward_pe\n",
    "\n",
    "pe_ratios_df"
   ]
  },
  {
   "cell_type": "code",
   "execution_count": 355,
   "id": "392493dd-9323-4fe3-903d-2aa913687674",
   "metadata": {},
   "outputs": [
    {
     "data": {
      "application/vnd.plotly.v1+json": {
       "config": {
        "plotlyServerURL": "https://plot.ly"
       },
       "data": [
        {
         "hovertemplate": "Type=Trailing P/E<br>Stocks=%{x}<br>P/E Value=%{y}<extra></extra>",
         "legendgroup": "Trailing P/E",
         "line": {
          "color": "#636efa",
          "dash": "solid"
         },
         "marker": {
          "symbol": "circle"
         },
         "mode": "lines",
         "name": "Trailing P/E",
         "showlegend": true,
         "type": "scattergl",
         "x": [
          "APA",
          "EG",
          "GM",
          "FMC",
          "UAL",
          "DAL",
          "APTV",
          "SYF",
          "CE",
          "VLO",
          "CINF",
          "GL",
          "ACGL",
          "BG",
          "MPC",
          "PHM",
          "STLD",
          "DVN",
          "NUE",
          "MO",
          "DHI",
          "CHTR",
          "AFL",
          "JBL",
          "EOG",
          "BBWI",
          "FOX",
          "TAP",
          "LEN",
          "MTB",
          "T",
          "IPG",
          "CVS",
          "CMCSA",
          "ADM",
          "PCAR",
          "ETR",
          "EBAY",
          "RF",
          "COF",
          "FOXA",
          "PSX",
          "BWA",
          "AIG",
          "NRG",
          "L",
          "LW",
          "CZR",
          "DE",
          "FANG",
          "CB",
          "TPR",
          "VICI",
          "HIG",
          "FITB",
          "AIZ",
          "WYNN",
          "HAL",
          "HPQ",
          "MRO",
          "HBAN",
          "BLDR",
          "GDDY",
          "OMC",
          "JPM",
          "MOS",
          "CF",
          "WFC",
          "EMN",
          "BEN",
          "F",
          "COP",
          "CFG",
          "PNC",
          "CNC",
          "USB",
          "MTCH",
          "LKQ",
          "STT",
          "SNA",
          "BAC",
          "TEL",
          "TROW",
          "HII",
          "WRB",
          "ON",
          "KHC",
          "XOM",
          "CAG",
          "SOLV",
          "CVX",
          "AMP",
          "PYPL",
          "PFG",
          "GIS",
          "LYB",
          "BBY",
          "EXC",
          "DFS",
          "RJF",
          "BK",
          "CAT",
          "ULTA",
          "TRV",
          "SJM",
          "GPC",
          "VZ",
          "HPE",
          "CTRA",
          "PCG",
          "DVA",
          "UHS",
          "SLB",
          "NVR",
          "MLM",
          "AAL",
          "HCA",
          "XEL",
          "CSCO",
          "MOH",
          "CTSH",
          "AEE",
          "AEP",
          "MAS",
          "TGT",
          "PNW",
          "SRE",
          "MGM",
          "KR",
          "ED",
          "LMT",
          "WEC",
          "EVRG",
          "DOV",
          "SYY",
          "WMB",
          "FDX",
          "PAYC",
          "URI",
          "ATO",
          "HST",
          "GS",
          "MS",
          "LOW",
          "DRI",
          "DUK",
          "RL",
          "CMS",
          "DTE",
          "HSY",
          "KEY",
          "OXY",
          "KMI",
          "CSX",
          "CPB",
          "TXT",
          "INCY",
          "DGX",
          "C",
          "LNT",
          "NTRS",
          "NI",
          "AXP",
          "GPN",
          "DG",
          "ALLE",
          "OKE",
          "SPG",
          "NEE",
          "IBM",
          "BKR",
          "PRU",
          "PM",
          "UPS",
          "CPAY",
          "BLK",
          "SWKS",
          "SO",
          "FE",
          "ABNB",
          "RCL",
          "CMI",
          "PNR",
          "PEG",
          "ELV",
          "AZO",
          "FFIV",
          "MDLZ",
          "TDY",
          "D",
          "PPG",
          "AOS",
          "PGR",
          "LVS",
          "SBUX",
          "KDP",
          "HSIC",
          "UNP",
          "MCD",
          "JNJ",
          "AMCR",
          "HRL",
          "CNP",
          "VRSN",
          "NKE",
          "CME",
          "AKAM",
          "HES",
          "GEHC",
          "PKG",
          "CBOE",
          "AON",
          "GRMN",
          "HUM",
          "HD",
          "NCLH",
          "KVUE",
          "APD",
          "ITW",
          "YUM",
          "ZBH",
          "KKR",
          "FSLR",
          "GD",
          "PH",
          "EXPE",
          "LULU",
          "TMUS",
          "POOL",
          "AES",
          "MET",
          "CRL",
          "K",
          "ROST",
          "COR",
          "HON",
          "PEP",
          "NXPI",
          "GWW",
          "MAR",
          "KMB",
          "PAYX",
          "JBHT",
          "KO",
          "EPAM",
          "WY",
          "GEN",
          "MCK",
          "PSA",
          "AWK",
          "MCHP",
          "TSCO",
          "CCL",
          "IEX",
          "EXPD",
          "WTW",
          "TRGP",
          "QCOM",
          "ADP",
          "MMC",
          "CEG",
          "CPT",
          "ORLY",
          "PPL",
          "J",
          "JCI",
          "ETSY",
          "ROK",
          "PG",
          "MKC",
          "CI",
          "AMAT",
          "HUBB",
          "TJX",
          "EQT",
          "STZ",
          "BRO",
          "NDSN",
          "ACN",
          "NTAP",
          "OTIS",
          "GOOGL",
          "FI",
          "CBRE",
          "CDW",
          "GOOG",
          "MDT",
          "WAT",
          "KMX",
          "BALL",
          "IQV",
          "BIIB",
          "META",
          "WMT",
          "AME",
          "V",
          "FTV",
          "MKTX",
          "RMD",
          "VLTO",
          "EQR",
          "UDR",
          "EA",
          "BKNG",
          "KEYS",
          "MAA",
          "TXN",
          "REG",
          "NOC",
          "VRTX",
          "CCI",
          "A",
          "AVB",
          "FDS",
          "WAB",
          "CL",
          "SCHW",
          "REGN",
          "UNH",
          "ODFL",
          "FAST",
          "ICE",
          "DOW",
          "MNST",
          "EIX",
          "SHW",
          "INTC",
          "AVY",
          "JKHY",
          "NDAQ",
          "ABT",
          "EMR",
          "AAPL",
          "CHD",
          "PLD",
          "MSCI",
          "DECK",
          "ESS",
          "ZTS",
          "TFX",
          "BR",
          "DPZ",
          "LIN",
          "RSG",
          "NSC",
          "ALB",
          "CHRW",
          "TT",
          "ALL",
          "WM",
          "MA",
          "TMO",
          "FRT",
          "VMC",
          "EXR",
          "LHX",
          "GNRC",
          "KIM",
          "ETN",
          "HWM",
          "CPRT",
          "ORCL",
          "HOLX",
          "SBAC",
          "MSFT",
          "SYK",
          "LRCX",
          "MTD",
          "FTNT",
          "RTX",
          "STE",
          "EW",
          "ALGN",
          "INVH",
          "APH",
          "ROP",
          "WRK",
          "GE",
          "DLR",
          "FCX",
          "KLAC",
          "WST",
          "CAH",
          "LH",
          "BX",
          "AMT",
          "CARR",
          "ECL",
          "AMGN",
          "IT",
          "LUV",
          "IR",
          "SMCI",
          "DHR",
          "MCO",
          "CRM",
          "NFLX",
          "XYL",
          "IDXX",
          "HLT",
          "MSI",
          "CTAS",
          "ANET",
          "O",
          "PANW",
          "VRSK",
          "PWR",
          "SPGI",
          "ADBE",
          "BDX",
          "BXP",
          "TDG",
          "TSLA",
          "ABBV",
          "COO",
          "ENPH",
          "COST",
          "AJG",
          "VST",
          "JNPR",
          "ADI",
          "ADSK",
          "GLW",
          "EFX",
          "ROL",
          "AMZN",
          "CTVA",
          "DOC",
          "TER",
          "TECH",
          "TRMB",
          "EL",
          "PODD",
          "INTU",
          "ZBRA",
          "LDOS",
          "ANSS",
          "BSX",
          "SNPS",
          "CMG",
          "AVGO",
          "CLX",
          "RVTY",
          "NVDA",
          "DXCM",
          "NWSA",
          "EQIX",
          "PTC",
          "NWS",
          "FICO",
          "CDNS",
          "ISRG",
          "IP",
          "NOW",
          "AXON",
          "LYV",
          "DD",
          "MPWR",
          "CSGP",
          "FIS",
          "DIS",
          "ARE",
          "TYL",
          "UBER",
          "WELL",
          "LLY",
          "IRM",
          "MRK",
          "DAY",
          "GILD",
          "AMD",
          "CRWD",
          "MMM",
          "BAX",
          "BRK.B",
          "BIO",
          "BA",
          "BMY",
          "BF.B",
          "CTLT",
          "DLTR",
          "ES",
          "GEV",
          "HAS",
          "IFF",
          "IVZ",
          "MU",
          "MRNA",
          "MHK",
          "NEM",
          "PARA",
          "PFE",
          "QRVO",
          "STX",
          "SWK",
          "TTWO",
          "TFC",
          "TSN",
          "VTR",
          "VTRS",
          "WBA",
          "WBD",
          "WDC"
         ],
         "xaxis": "x",
         "y": [
          3.3,
          5.62,
          5.67,
          5.9,
          5.94,
          6.08,
          6.62,
          6.76,
          7.4,
          7.69,
          7.86,
          7.87,
          7.96,
          8.61,
          8.62,
          8.83,
          8.86,
          9.03,
          9.3,
          9.53,
          9.61,
          9.68,
          9.83,
          9.87,
          9.95,
          10.09,
          10.1,
          10.15,
          10.22,
          10.23,
          10.27,
          10.35,
          10.36,
          10.39,
          10.55,
          10.69,
          10.72,
          10.72,
          10.83,
          10.84,
          10.84,
          10.85,
          11.08,
          11.1,
          11.11,
          11.11,
          11.2,
          11.23,
          11.25,
          11.28,
          11.33,
          11.35,
          11.37,
          11.44,
          11.62,
          11.63,
          11.71,
          11.73,
          11.83,
          11.85,
          11.87,
          11.89,
          12.11,
          12.14,
          12.21,
          12.25,
          12.25,
          12.37,
          12.62,
          12.92,
          12.93,
          12.95,
          12.96,
          13.05,
          13.08,
          13.19,
          13.32,
          13.42,
          13.63,
          13.7,
          13.71,
          13.71,
          13.71,
          13.92,
          13.96,
          13.99,
          14.07,
          14.11,
          14.28,
          14.37,
          14.4,
          14.54,
          14.62,
          14.66,
          14.68,
          14.76,
          14.79,
          14.85,
          14.85,
          14.93,
          15.01,
          15.05,
          15.06,
          15.12,
          15.29,
          15.42,
          15.45,
          15.45,
          15.51,
          15.59,
          15.69,
          15.73,
          15.73,
          15.81,
          15.93,
          15.96,
          16.02,
          16.04,
          16.05,
          16.15,
          16.31,
          16.31,
          16.34,
          16.34,
          16.6,
          16.64,
          16.83,
          16.96,
          17.04,
          17.06,
          17.09,
          17.13,
          17.2,
          17.35,
          17.41,
          17.42,
          17.43,
          17.47,
          17.56,
          17.59,
          17.63,
          17.64,
          17.67,
          17.67,
          17.74,
          17.93,
          18.03,
          18.15,
          18.17,
          18.2,
          18.22,
          18.22,
          18.23,
          18.28,
          18.3,
          18.35,
          18.37,
          18.42,
          18.5,
          18.51,
          18.54,
          18.71,
          19.06,
          19.22,
          19.25,
          19.27,
          19.28,
          19.34,
          19.35,
          19.61,
          19.65,
          19.76,
          19.79,
          19.8,
          19.82,
          20,
          20.07,
          20.1,
          20.25,
          20.3,
          20.31,
          20.32,
          20.34,
          20.42,
          20.43,
          20.55,
          20.65,
          20.84,
          21.01,
          21.21,
          21.23,
          21.24,
          21.28,
          21.38,
          21.45,
          21.55,
          21.58,
          21.59,
          21.65,
          21.69,
          21.73,
          21.78,
          21.82,
          21.87,
          22.17,
          22.39,
          22.46,
          22.63,
          22.65,
          22.79,
          22.8,
          22.94,
          22.95,
          23.02,
          23.07,
          23.2,
          23.31,
          23.35,
          23.37,
          23.49,
          23.54,
          23.54,
          23.61,
          23.67,
          23.77,
          23.91,
          23.97,
          23.97,
          24.03,
          24.07,
          24.29,
          24.3,
          24.44,
          24.51,
          24.65,
          24.72,
          24.88,
          24.89,
          24.9,
          24.95,
          25.36,
          25.39,
          25.4,
          25.56,
          25.8,
          25.81,
          26.02,
          26.12,
          26.15,
          26.15,
          26.29,
          26.29,
          26.37,
          26.44,
          26.44,
          26.48,
          26.55,
          26.59,
          26.67,
          26.71,
          26.74,
          26.74,
          26.78,
          26.84,
          26.87,
          26.91,
          26.93,
          26.94,
          26.99,
          27.08,
          27.1,
          27.13,
          27.21,
          27.25,
          27.39,
          27.4,
          27.6,
          27.68,
          27.81,
          27.82,
          27.82,
          27.89,
          27.91,
          27.93,
          27.98,
          28.13,
          28.52,
          28.53,
          28.76,
          28.86,
          28.89,
          28.94,
          28.96,
          29.06,
          29.3,
          29.39,
          29.4,
          29.45,
          29.49,
          29.56,
          29.63,
          29.82,
          29.84,
          29.85,
          29.86,
          29.96,
          30.3,
          30.34,
          30.38,
          30.44,
          30.53,
          30.72,
          30.74,
          30.74,
          30.81,
          30.81,
          30.83,
          31.06,
          31.07,
          31.09,
          31.11,
          31.54,
          31.58,
          31.61,
          31.63,
          31.78,
          31.93,
          31.97,
          32.05,
          32.22,
          32.37,
          32.79,
          32.81,
          32.81,
          32.84,
          32.88,
          33.15,
          33.2,
          33.4,
          33.6,
          33.62,
          33.7,
          34.02,
          34.04,
          34.57,
          34.61,
          34.69,
          34.7,
          34.86,
          34.97,
          35.1,
          35.47,
          35.93,
          35.99,
          36.31,
          36.46,
          36.52,
          36.72,
          36.98,
          37.5,
          37.87,
          38.06,
          38.27,
          38.49,
          38.7,
          38.89,
          39.09,
          39.12,
          39.14,
          39.52,
          39.63,
          39.81,
          39.91,
          40.78,
          41.33,
          41.45,
          41.54,
          41.83,
          42.12,
          42.63,
          43.24,
          43.4,
          43.5,
          43.58,
          43.59,
          44.08,
          44.11,
          44.16,
          44.64,
          44.68,
          44.7,
          45.19,
          45.54,
          45.93,
          46.05,
          46.24,
          46.74,
          47.09,
          47.21,
          47.43,
          47.78,
          48.23,
          48.68,
          48.91,
          48.99,
          49.28,
          49.34,
          49.94,
          50.05,
          50.15,
          50.46,
          50.58,
          50.61,
          51.05,
          51.35,
          51.4,
          52.6,
          52.71,
          52.75,
          52.84,
          53.33,
          53.68,
          53.96,
          54.12,
          54.21,
          54.28,
          54.48,
          56,
          56.38,
          57.32,
          58.25,
          59.78,
          60.6,
          60.74,
          60.93,
          62.34,
          64.43,
          64.71,
          64.96,
          66.65,
          69.29,
          70.35,
          71.33,
          72.25,
          74.1,
          74.51,
          75.66,
          76.01,
          76.73,
          78.1,
          79.94,
          80.59,
          81.42,
          83.96,
          85.78,
          86,
          87.49,
          98.4,
          102.97,
          104.67,
          107.92,
          109.32,
          114.53,
          115.37,
          121.22,
          132.75,
          135.79,
          137.56,
          150.3,
          190.58,
          235.09,
          709.61,
          null,
          null,
          null,
          null,
          null,
          null,
          null,
          null,
          null,
          null,
          null,
          null,
          null,
          null,
          null,
          null,
          null,
          null,
          null,
          null,
          null,
          null,
          null,
          null,
          null,
          null,
          null,
          null,
          null,
          null,
          null
         ],
         "yaxis": "y"
        },
        {
         "hovertemplate": "Type=Forward P/E<br>Stocks=%{x}<br>P/E Value=%{y}<extra></extra>",
         "legendgroup": "Forward P/E",
         "line": {
          "color": "#EF553B",
          "dash": "solid"
         },
         "marker": {
          "symbol": "circle"
         },
         "mode": "lines",
         "name": "Forward P/E",
         "showlegend": true,
         "type": "scattergl",
         "x": [
          "APA",
          "EG",
          "GM",
          "FMC",
          "UAL",
          "DAL",
          "APTV",
          "SYF",
          "CE",
          "VLO",
          "CINF",
          "GL",
          "ACGL",
          "BG",
          "MPC",
          "PHM",
          "STLD",
          "DVN",
          "NUE",
          "MO",
          "DHI",
          "CHTR",
          "AFL",
          "JBL",
          "EOG",
          "BBWI",
          "FOX",
          "TAP",
          "LEN",
          "MTB",
          "T",
          "IPG",
          "CVS",
          "CMCSA",
          "ADM",
          "PCAR",
          "ETR",
          "EBAY",
          "RF",
          "COF",
          "FOXA",
          "PSX",
          "BWA",
          "AIG",
          "NRG",
          "L",
          "LW",
          "CZR",
          "DE",
          "FANG",
          "CB",
          "TPR",
          "VICI",
          "HIG",
          "FITB",
          "AIZ",
          "WYNN",
          "HAL",
          "HPQ",
          "MRO",
          "HBAN",
          "BLDR",
          "GDDY",
          "OMC",
          "JPM",
          "MOS",
          "CF",
          "WFC",
          "EMN",
          "BEN",
          "F",
          "COP",
          "CFG",
          "PNC",
          "CNC",
          "USB",
          "MTCH",
          "LKQ",
          "STT",
          "SNA",
          "BAC",
          "TEL",
          "TROW",
          "HII",
          "WRB",
          "ON",
          "KHC",
          "XOM",
          "CAG",
          "SOLV",
          "CVX",
          "AMP",
          "PYPL",
          "PFG",
          "GIS",
          "LYB",
          "BBY",
          "EXC",
          "DFS",
          "RJF",
          "BK",
          "CAT",
          "ULTA",
          "TRV",
          "SJM",
          "GPC",
          "VZ",
          "HPE",
          "CTRA",
          "PCG",
          "DVA",
          "UHS",
          "SLB",
          "NVR",
          "MLM",
          "AAL",
          "HCA",
          "XEL",
          "CSCO",
          "MOH",
          "CTSH",
          "AEE",
          "AEP",
          "MAS",
          "TGT",
          "PNW",
          "SRE",
          "MGM",
          "KR",
          "ED",
          "LMT",
          "WEC",
          "EVRG",
          "DOV",
          "SYY",
          "WMB",
          "FDX",
          "PAYC",
          "URI",
          "ATO",
          "HST",
          "GS",
          "MS",
          "LOW",
          "DRI",
          "DUK",
          "RL",
          "CMS",
          "DTE",
          "HSY",
          "KEY",
          "OXY",
          "KMI",
          "CSX",
          "CPB",
          "TXT",
          "INCY",
          "DGX",
          "C",
          "LNT",
          "NTRS",
          "NI",
          "AXP",
          "GPN",
          "DG",
          "ALLE",
          "OKE",
          "SPG",
          "NEE",
          "IBM",
          "BKR",
          "PRU",
          "PM",
          "UPS",
          "CPAY",
          "BLK",
          "SWKS",
          "SO",
          "FE",
          "ABNB",
          "RCL",
          "CMI",
          "PNR",
          "PEG",
          "ELV",
          "AZO",
          "FFIV",
          "MDLZ",
          "TDY",
          "D",
          "PPG",
          "AOS",
          "PGR",
          "LVS",
          "SBUX",
          "KDP",
          "HSIC",
          "UNP",
          "MCD",
          "JNJ",
          "AMCR",
          "HRL",
          "CNP",
          "VRSN",
          "NKE",
          "CME",
          "AKAM",
          "HES",
          "GEHC",
          "PKG",
          "CBOE",
          "AON",
          "GRMN",
          "HUM",
          "HD",
          "NCLH",
          "KVUE",
          "APD",
          "ITW",
          "YUM",
          "ZBH",
          "KKR",
          "FSLR",
          "GD",
          "PH",
          "EXPE",
          "LULU",
          "TMUS",
          "POOL",
          "AES",
          "MET",
          "CRL",
          "K",
          "ROST",
          "COR",
          "HON",
          "PEP",
          "NXPI",
          "GWW",
          "MAR",
          "KMB",
          "PAYX",
          "JBHT",
          "KO",
          "EPAM",
          "WY",
          "GEN",
          "MCK",
          "PSA",
          "AWK",
          "MCHP",
          "TSCO",
          "CCL",
          "IEX",
          "EXPD",
          "WTW",
          "TRGP",
          "QCOM",
          "ADP",
          "MMC",
          "CEG",
          "CPT",
          "ORLY",
          "PPL",
          "J",
          "JCI",
          "ETSY",
          "ROK",
          "PG",
          "MKC",
          "CI",
          "AMAT",
          "HUBB",
          "TJX",
          "EQT",
          "STZ",
          "BRO",
          "NDSN",
          "ACN",
          "NTAP",
          "OTIS",
          "GOOGL",
          "FI",
          "CBRE",
          "CDW",
          "GOOG",
          "MDT",
          "WAT",
          "KMX",
          "BALL",
          "IQV",
          "BIIB",
          "META",
          "WMT",
          "AME",
          "V",
          "FTV",
          "MKTX",
          "RMD",
          "VLTO",
          "EQR",
          "UDR",
          "EA",
          "BKNG",
          "KEYS",
          "MAA",
          "TXN",
          "REG",
          "NOC",
          "VRTX",
          "CCI",
          "A",
          "AVB",
          "FDS",
          "WAB",
          "CL",
          "SCHW",
          "REGN",
          "UNH",
          "ODFL",
          "FAST",
          "ICE",
          "DOW",
          "MNST",
          "EIX",
          "SHW",
          "INTC",
          "AVY",
          "JKHY",
          "NDAQ",
          "ABT",
          "EMR",
          "AAPL",
          "CHD",
          "PLD",
          "MSCI",
          "DECK",
          "ESS",
          "ZTS",
          "TFX",
          "BR",
          "DPZ",
          "LIN",
          "RSG",
          "NSC",
          "ALB",
          "CHRW",
          "TT",
          "ALL",
          "WM",
          "MA",
          "TMO",
          "FRT",
          "VMC",
          "EXR",
          "LHX",
          "GNRC",
          "KIM",
          "ETN",
          "HWM",
          "CPRT",
          "ORCL",
          "HOLX",
          "SBAC",
          "MSFT",
          "SYK",
          "LRCX",
          "MTD",
          "FTNT",
          "RTX",
          "STE",
          "EW",
          "ALGN",
          "INVH",
          "APH",
          "ROP",
          "WRK",
          "GE",
          "DLR",
          "FCX",
          "KLAC",
          "WST",
          "CAH",
          "LH",
          "BX",
          "AMT",
          "CARR",
          "ECL",
          "AMGN",
          "IT",
          "LUV",
          "IR",
          "SMCI",
          "DHR",
          "MCO",
          "CRM",
          "NFLX",
          "XYL",
          "IDXX",
          "HLT",
          "MSI",
          "CTAS",
          "ANET",
          "O",
          "PANW",
          "VRSK",
          "PWR",
          "SPGI",
          "ADBE",
          "BDX",
          "BXP",
          "TDG",
          "TSLA",
          "ABBV",
          "COO",
          "ENPH",
          "COST",
          "AJG",
          "VST",
          "JNPR",
          "ADI",
          "ADSK",
          "GLW",
          "EFX",
          "ROL",
          "AMZN",
          "CTVA",
          "DOC",
          "TER",
          "TECH",
          "TRMB",
          "EL",
          "PODD",
          "INTU",
          "ZBRA",
          "LDOS",
          "ANSS",
          "BSX",
          "SNPS",
          "CMG",
          "AVGO",
          "CLX",
          "RVTY",
          "NVDA",
          "DXCM",
          "NWSA",
          "EQIX",
          "PTC",
          "NWS",
          "FICO",
          "CDNS",
          "ISRG",
          "IP",
          "NOW",
          "AXON",
          "LYV",
          "DD",
          "MPWR",
          "CSGP",
          "FIS",
          "DIS",
          "ARE",
          "TYL",
          "UBER",
          "WELL",
          "LLY",
          "IRM",
          "MRK",
          "DAY",
          "GILD",
          "AMD",
          "CRWD",
          "MMM",
          "BAX",
          "BRK.B",
          "BIO",
          "BA",
          "BMY",
          "BF.B",
          "CTLT",
          "DLTR",
          "ES",
          "GEV",
          "HAS",
          "IFF",
          "IVZ",
          "MU",
          "MRNA",
          "MHK",
          "NEM",
          "PARA",
          "PFE",
          "QRVO",
          "STX",
          "SWK",
          "TTWO",
          "TFC",
          "TSN",
          "VTR",
          "VTRS",
          "WBA",
          "WBD",
          "WDC"
         ],
         "xaxis": "x",
         "y": [
          5.91,
          5.54,
          4.69,
          11.53,
          4.12,
          7.06,
          9.11,
          7.93,
          9.8,
          11.19,
          16.78,
          6.39,
          11.32,
          10.85,
          10.7,
          8.13,
          12.92,
          8.14,
          12.89,
          8.63,
          9.15,
          8.92,
          12.96,
          11.85,
          10.17,
          10.41,
          13.63,
          8.64,
          9.31,
          9.38,
          8.93,
          9.66,
          8.07,
          8.72,
          11.09,
          11.83,
          13.84,
          10.68,
          9.11,
          8.67,
          9.07,
          10.32,
          6.99,
          9.49,
          13.4,
          25.77,
          13.54,
          22.08,
          14.73,
          9.66,
          10.82,
          9.47,
          10.45,
          8.8,
          10.16,
          9.74,
          14.89,
          9.2,
          10.09,
          8.74,
          9.35,
          10.05,
          22.35,
          10.47,
          13.04,
          11.03,
          13.43,
          10.7,
          10.95,
          8.01,
          6.93,
          11.34,
          8.94,
          10.83,
          8.72,
          9.25,
          12.55,
          9.54,
          8.46,
          12.93,
          11.08,
          17.97,
          12.88,
          13,
          12.16,
          14.37,
          10.78,
          12.5,
          10.57,
          9.6,
          10.96,
          11.19,
          13.37,
          9.26,
          13.21,
          9.67,
          12.49,
          13.21,
          10.13,
          12.15,
          9.82,
          14.6,
          13.61,
          9.74,
          10.02,
          12.87,
          8.74,
          10.08,
          8.89,
          11.8,
          13.45,
          12.11,
          12.13,
          14.9,
          22.21,
          4.06,
          13.83,
          13.91,
          13.38,
          11.09,
          13.68,
          14.51,
          14.7,
          14.62,
          14.19,
          15.56,
          14.74,
          13.76,
          10.9,
          15.97,
          16.69,
          14.94,
          13.01,
          18.15,
          15.45,
          20.63,
          12.56,
          16.18,
          13.55,
          16.5,
          15.5,
          11.81,
          12.82,
          16.39,
          14.41,
          15.83,
          13.99,
          16.58,
          15.46,
          18.82,
          8.66,
          13.44,
          15.77,
          15.41,
          13.95,
          12.48,
          11.35,
          14.45,
          8.81,
          15.66,
          11.86,
          15.57,
          16.62,
          7.36,
          16.18,
          15.59,
          14.51,
          23.46,
          19.14,
          17.67,
          13.9,
          7.99,
          14.64,
          14.09,
          12.03,
          17.98,
          16.12,
          17.96,
          13.38,
          29.62,
          12.42,
          12.78,
          16.18,
          18.15,
          13.01,
          18.07,
          12.53,
          17.64,
          18.1,
          14.29,
          13.51,
          18.8,
          17.18,
          14.41,
          20.38,
          16.14,
          11.49,
          17.82,
          20.5,
          14.32,
          13.22,
          17.94,
          17.8,
          20.55,
          18.47,
          19.7,
          13.33,
          12.86,
          16.34,
          18.22,
          18.73,
          17.03,
          26.36,
          18.4,
          21.24,
          10.16,
          14.66,
          19.23,
          21.72,
          20.76,
          12.49,
          17.22,
          10.59,
          17.8,
          19.14,
          8.47,
          18.89,
          15.96,
          24.16,
          8.41,
          7.21,
          16.69,
          14.98,
          22.05,
          15.32,
          19.13,
          19.97,
          16.88,
          21.03,
          22.37,
          18.21,
          22.37,
          18.96,
          22.57,
          17.13,
          22.18,
          10.11,
          16.31,
          26.22,
          22.82,
          22.1,
          23.62,
          12.32,
          22.13,
          24,
          14.23,
          17.24,
          18.92,
          23.92,
          22.18,
          23.23,
          66.53,
          22.53,
          15.11,
          15.82,
          16.29,
          21.14,
          22.88,
          25.26,
          23.11,
          10.31,
          25.99,
          20.72,
          24.2,
          10.08,
          17.02,
          23.34,
          22.22,
          23.72,
          17.41,
          22.76,
          21.18,
          14.74,
          15.8,
          20.06,
          22.84,
          13.52,
          22.27,
          19.61,
          17.1,
          16.97,
          13.38,
          23.29,
          25.26,
          22.35,
          25.07,
          17.77,
          25.32,
          22.18,
          26.3,
          42.02,
          85.73,
          16.79,
          19.29,
          19.56,
          34.12,
          30.54,
          29.48,
          15.86,
          25.97,
          37.01,
          22.58,
          37.34,
          23.36,
          19.25,
          25.27,
          17.1,
          21.91,
          17.53,
          25.23,
          27.81,
          20.74,
          12.69,
          24.61,
          12.73,
          23.39,
          17.02,
          20.74,
          28.92,
          19.95,
          20.22,
          18.33,
          30.88,
          27.65,
          39,
          28.97,
          27.14,
          47.84,
          27.17,
          13.8,
          23.23,
          28.56,
          25.72,
          28.75,
          15.55,
          12.29,
          21.13,
          27.83,
          9.13,
          26.53,
          28.33,
          22.77,
          32.05,
          24.82,
          33,
          15.82,
          16.97,
          29.94,
          26.94,
          26.86,
          33.23,
          20.95,
          16.72,
          22.91,
          35.93,
          25.39,
          29.61,
          31.29,
          30.75,
          17.67,
          21.78,
          29.7,
          22.13,
          46.01,
          34.37,
          28.34,
          13.96,
          31.42,
          113.47,
          20.95,
          29.01,
          36.36,
          13.06,
          12.78,
          20.6,
          29.45,
          20.55,
          31.99,
          15.27,
          34.76,
          16.07,
          25.23,
          23.93,
          28.78,
          33.89,
          24.99,
          32.32,
          28.49,
          38.73,
          26.45,
          27.3,
          42.57,
          38.99,
          33.43,
          54.77,
          36.62,
          26.14,
          27.82,
          28.81,
          16.37,
          31.73,
          32.73,
          62.42,
          14.22,
          22.05,
          20.35,
          48.1,
          22.87,
          14.33,
          16.35,
          28.57,
          27.4,
          17.66,
          25.47,
          43.18,
          35.72,
          15.54,
          38.43,
          30.7,
          35.3,
          18.33,
          25.64,
          54.1,
          34.37,
          21,
          15.7,
          30.74,
          29.06,
          42.08,
          46.75,
          26.78,
          21.13,
          20.24,
          36.34,
          50.17,
          32.82,
          63.21,
          30.64,
          null,
          51.39,
          44.41,
          60.36,
          15.25,
          48.41,
          51.8,
          37.95,
          18.94,
          49.11,
          58.38,
          13.63,
          19.21,
          33.04,
          48.16,
          36.71,
          60.96,
          46.96,
          43.09,
          12.45,
          24.68,
          10.23,
          30.96,
          77.73,
          13.07,
          10.39,
          null,
          23.09,
          38.32,
          6.4,
          null,
          48.9,
          13.58,
          11.79,
          31.01,
          13.76,
          21.4,
          8.13,
          14.93,
          -23.61,
          10.15,
          10.04,
          7.58,
          10.93,
          14.58,
          17.99,
          14.63,
          20.79,
          9.84,
          15.2,
          165.35,
          3.89,
          4.63,
          -93,
          9.46
         ],
         "yaxis": "y"
        }
       ],
       "layout": {
        "autosize": true,
        "legend": {
         "title": {
          "text": "Type"
         },
         "tracegroupgap": 0
        },
        "template": {
         "data": {
          "bar": [
           {
            "error_x": {
             "color": "#2a3f5f"
            },
            "error_y": {
             "color": "#2a3f5f"
            },
            "marker": {
             "line": {
              "color": "#E5ECF6",
              "width": 0.5
             },
             "pattern": {
              "fillmode": "overlay",
              "size": 10,
              "solidity": 0.2
             }
            },
            "type": "bar"
           }
          ],
          "barpolar": [
           {
            "marker": {
             "line": {
              "color": "#E5ECF6",
              "width": 0.5
             },
             "pattern": {
              "fillmode": "overlay",
              "size": 10,
              "solidity": 0.2
             }
            },
            "type": "barpolar"
           }
          ],
          "carpet": [
           {
            "aaxis": {
             "endlinecolor": "#2a3f5f",
             "gridcolor": "white",
             "linecolor": "white",
             "minorgridcolor": "white",
             "startlinecolor": "#2a3f5f"
            },
            "baxis": {
             "endlinecolor": "#2a3f5f",
             "gridcolor": "white",
             "linecolor": "white",
             "minorgridcolor": "white",
             "startlinecolor": "#2a3f5f"
            },
            "type": "carpet"
           }
          ],
          "choropleth": [
           {
            "colorbar": {
             "outlinewidth": 0,
             "ticks": ""
            },
            "type": "choropleth"
           }
          ],
          "contour": [
           {
            "colorbar": {
             "outlinewidth": 0,
             "ticks": ""
            },
            "colorscale": [
             [
              0,
              "#0d0887"
             ],
             [
              0.1111111111111111,
              "#46039f"
             ],
             [
              0.2222222222222222,
              "#7201a8"
             ],
             [
              0.3333333333333333,
              "#9c179e"
             ],
             [
              0.4444444444444444,
              "#bd3786"
             ],
             [
              0.5555555555555556,
              "#d8576b"
             ],
             [
              0.6666666666666666,
              "#ed7953"
             ],
             [
              0.7777777777777778,
              "#fb9f3a"
             ],
             [
              0.8888888888888888,
              "#fdca26"
             ],
             [
              1,
              "#f0f921"
             ]
            ],
            "type": "contour"
           }
          ],
          "contourcarpet": [
           {
            "colorbar": {
             "outlinewidth": 0,
             "ticks": ""
            },
            "type": "contourcarpet"
           }
          ],
          "heatmap": [
           {
            "colorbar": {
             "outlinewidth": 0,
             "ticks": ""
            },
            "colorscale": [
             [
              0,
              "#0d0887"
             ],
             [
              0.1111111111111111,
              "#46039f"
             ],
             [
              0.2222222222222222,
              "#7201a8"
             ],
             [
              0.3333333333333333,
              "#9c179e"
             ],
             [
              0.4444444444444444,
              "#bd3786"
             ],
             [
              0.5555555555555556,
              "#d8576b"
             ],
             [
              0.6666666666666666,
              "#ed7953"
             ],
             [
              0.7777777777777778,
              "#fb9f3a"
             ],
             [
              0.8888888888888888,
              "#fdca26"
             ],
             [
              1,
              "#f0f921"
             ]
            ],
            "type": "heatmap"
           }
          ],
          "heatmapgl": [
           {
            "colorbar": {
             "outlinewidth": 0,
             "ticks": ""
            },
            "colorscale": [
             [
              0,
              "#0d0887"
             ],
             [
              0.1111111111111111,
              "#46039f"
             ],
             [
              0.2222222222222222,
              "#7201a8"
             ],
             [
              0.3333333333333333,
              "#9c179e"
             ],
             [
              0.4444444444444444,
              "#bd3786"
             ],
             [
              0.5555555555555556,
              "#d8576b"
             ],
             [
              0.6666666666666666,
              "#ed7953"
             ],
             [
              0.7777777777777778,
              "#fb9f3a"
             ],
             [
              0.8888888888888888,
              "#fdca26"
             ],
             [
              1,
              "#f0f921"
             ]
            ],
            "type": "heatmapgl"
           }
          ],
          "histogram": [
           {
            "marker": {
             "pattern": {
              "fillmode": "overlay",
              "size": 10,
              "solidity": 0.2
             }
            },
            "type": "histogram"
           }
          ],
          "histogram2d": [
           {
            "colorbar": {
             "outlinewidth": 0,
             "ticks": ""
            },
            "colorscale": [
             [
              0,
              "#0d0887"
             ],
             [
              0.1111111111111111,
              "#46039f"
             ],
             [
              0.2222222222222222,
              "#7201a8"
             ],
             [
              0.3333333333333333,
              "#9c179e"
             ],
             [
              0.4444444444444444,
              "#bd3786"
             ],
             [
              0.5555555555555556,
              "#d8576b"
             ],
             [
              0.6666666666666666,
              "#ed7953"
             ],
             [
              0.7777777777777778,
              "#fb9f3a"
             ],
             [
              0.8888888888888888,
              "#fdca26"
             ],
             [
              1,
              "#f0f921"
             ]
            ],
            "type": "histogram2d"
           }
          ],
          "histogram2dcontour": [
           {
            "colorbar": {
             "outlinewidth": 0,
             "ticks": ""
            },
            "colorscale": [
             [
              0,
              "#0d0887"
             ],
             [
              0.1111111111111111,
              "#46039f"
             ],
             [
              0.2222222222222222,
              "#7201a8"
             ],
             [
              0.3333333333333333,
              "#9c179e"
             ],
             [
              0.4444444444444444,
              "#bd3786"
             ],
             [
              0.5555555555555556,
              "#d8576b"
             ],
             [
              0.6666666666666666,
              "#ed7953"
             ],
             [
              0.7777777777777778,
              "#fb9f3a"
             ],
             [
              0.8888888888888888,
              "#fdca26"
             ],
             [
              1,
              "#f0f921"
             ]
            ],
            "type": "histogram2dcontour"
           }
          ],
          "mesh3d": [
           {
            "colorbar": {
             "outlinewidth": 0,
             "ticks": ""
            },
            "type": "mesh3d"
           }
          ],
          "parcoords": [
           {
            "line": {
             "colorbar": {
              "outlinewidth": 0,
              "ticks": ""
             }
            },
            "type": "parcoords"
           }
          ],
          "pie": [
           {
            "automargin": true,
            "type": "pie"
           }
          ],
          "scatter": [
           {
            "fillpattern": {
             "fillmode": "overlay",
             "size": 10,
             "solidity": 0.2
            },
            "type": "scatter"
           }
          ],
          "scatter3d": [
           {
            "line": {
             "colorbar": {
              "outlinewidth": 0,
              "ticks": ""
             }
            },
            "marker": {
             "colorbar": {
              "outlinewidth": 0,
              "ticks": ""
             }
            },
            "type": "scatter3d"
           }
          ],
          "scattercarpet": [
           {
            "marker": {
             "colorbar": {
              "outlinewidth": 0,
              "ticks": ""
             }
            },
            "type": "scattercarpet"
           }
          ],
          "scattergeo": [
           {
            "marker": {
             "colorbar": {
              "outlinewidth": 0,
              "ticks": ""
             }
            },
            "type": "scattergeo"
           }
          ],
          "scattergl": [
           {
            "marker": {
             "colorbar": {
              "outlinewidth": 0,
              "ticks": ""
             }
            },
            "type": "scattergl"
           }
          ],
          "scattermapbox": [
           {
            "marker": {
             "colorbar": {
              "outlinewidth": 0,
              "ticks": ""
             }
            },
            "type": "scattermapbox"
           }
          ],
          "scatterpolar": [
           {
            "marker": {
             "colorbar": {
              "outlinewidth": 0,
              "ticks": ""
             }
            },
            "type": "scatterpolar"
           }
          ],
          "scatterpolargl": [
           {
            "marker": {
             "colorbar": {
              "outlinewidth": 0,
              "ticks": ""
             }
            },
            "type": "scatterpolargl"
           }
          ],
          "scatterternary": [
           {
            "marker": {
             "colorbar": {
              "outlinewidth": 0,
              "ticks": ""
             }
            },
            "type": "scatterternary"
           }
          ],
          "surface": [
           {
            "colorbar": {
             "outlinewidth": 0,
             "ticks": ""
            },
            "colorscale": [
             [
              0,
              "#0d0887"
             ],
             [
              0.1111111111111111,
              "#46039f"
             ],
             [
              0.2222222222222222,
              "#7201a8"
             ],
             [
              0.3333333333333333,
              "#9c179e"
             ],
             [
              0.4444444444444444,
              "#bd3786"
             ],
             [
              0.5555555555555556,
              "#d8576b"
             ],
             [
              0.6666666666666666,
              "#ed7953"
             ],
             [
              0.7777777777777778,
              "#fb9f3a"
             ],
             [
              0.8888888888888888,
              "#fdca26"
             ],
             [
              1,
              "#f0f921"
             ]
            ],
            "type": "surface"
           }
          ],
          "table": [
           {
            "cells": {
             "fill": {
              "color": "#EBF0F8"
             },
             "line": {
              "color": "white"
             }
            },
            "header": {
             "fill": {
              "color": "#C8D4E3"
             },
             "line": {
              "color": "white"
             }
            },
            "type": "table"
           }
          ]
         },
         "layout": {
          "annotationdefaults": {
           "arrowcolor": "#2a3f5f",
           "arrowhead": 0,
           "arrowwidth": 1
          },
          "autotypenumbers": "strict",
          "coloraxis": {
           "colorbar": {
            "outlinewidth": 0,
            "ticks": ""
           }
          },
          "colorscale": {
           "diverging": [
            [
             0,
             "#8e0152"
            ],
            [
             0.1,
             "#c51b7d"
            ],
            [
             0.2,
             "#de77ae"
            ],
            [
             0.3,
             "#f1b6da"
            ],
            [
             0.4,
             "#fde0ef"
            ],
            [
             0.5,
             "#f7f7f7"
            ],
            [
             0.6,
             "#e6f5d0"
            ],
            [
             0.7,
             "#b8e186"
            ],
            [
             0.8,
             "#7fbc41"
            ],
            [
             0.9,
             "#4d9221"
            ],
            [
             1,
             "#276419"
            ]
           ],
           "sequential": [
            [
             0,
             "#0d0887"
            ],
            [
             0.1111111111111111,
             "#46039f"
            ],
            [
             0.2222222222222222,
             "#7201a8"
            ],
            [
             0.3333333333333333,
             "#9c179e"
            ],
            [
             0.4444444444444444,
             "#bd3786"
            ],
            [
             0.5555555555555556,
             "#d8576b"
            ],
            [
             0.6666666666666666,
             "#ed7953"
            ],
            [
             0.7777777777777778,
             "#fb9f3a"
            ],
            [
             0.8888888888888888,
             "#fdca26"
            ],
            [
             1,
             "#f0f921"
            ]
           ],
           "sequentialminus": [
            [
             0,
             "#0d0887"
            ],
            [
             0.1111111111111111,
             "#46039f"
            ],
            [
             0.2222222222222222,
             "#7201a8"
            ],
            [
             0.3333333333333333,
             "#9c179e"
            ],
            [
             0.4444444444444444,
             "#bd3786"
            ],
            [
             0.5555555555555556,
             "#d8576b"
            ],
            [
             0.6666666666666666,
             "#ed7953"
            ],
            [
             0.7777777777777778,
             "#fb9f3a"
            ],
            [
             0.8888888888888888,
             "#fdca26"
            ],
            [
             1,
             "#f0f921"
            ]
           ]
          },
          "colorway": [
           "#636efa",
           "#EF553B",
           "#00cc96",
           "#ab63fa",
           "#FFA15A",
           "#19d3f3",
           "#FF6692",
           "#B6E880",
           "#FF97FF",
           "#FECB52"
          ],
          "font": {
           "color": "#2a3f5f"
          },
          "geo": {
           "bgcolor": "white",
           "lakecolor": "white",
           "landcolor": "#E5ECF6",
           "showlakes": true,
           "showland": true,
           "subunitcolor": "white"
          },
          "hoverlabel": {
           "align": "left"
          },
          "hovermode": "closest",
          "mapbox": {
           "style": "light"
          },
          "paper_bgcolor": "white",
          "plot_bgcolor": "#E5ECF6",
          "polar": {
           "angularaxis": {
            "gridcolor": "white",
            "linecolor": "white",
            "ticks": ""
           },
           "bgcolor": "#E5ECF6",
           "radialaxis": {
            "gridcolor": "white",
            "linecolor": "white",
            "ticks": ""
           }
          },
          "scene": {
           "xaxis": {
            "backgroundcolor": "#E5ECF6",
            "gridcolor": "white",
            "gridwidth": 2,
            "linecolor": "white",
            "showbackground": true,
            "ticks": "",
            "zerolinecolor": "white"
           },
           "yaxis": {
            "backgroundcolor": "#E5ECF6",
            "gridcolor": "white",
            "gridwidth": 2,
            "linecolor": "white",
            "showbackground": true,
            "ticks": "",
            "zerolinecolor": "white"
           },
           "zaxis": {
            "backgroundcolor": "#E5ECF6",
            "gridcolor": "white",
            "gridwidth": 2,
            "linecolor": "white",
            "showbackground": true,
            "ticks": "",
            "zerolinecolor": "white"
           }
          },
          "shapedefaults": {
           "line": {
            "color": "#2a3f5f"
           }
          },
          "ternary": {
           "aaxis": {
            "gridcolor": "white",
            "linecolor": "white",
            "ticks": ""
           },
           "baxis": {
            "gridcolor": "white",
            "linecolor": "white",
            "ticks": ""
           },
           "bgcolor": "#E5ECF6",
           "caxis": {
            "gridcolor": "white",
            "linecolor": "white",
            "ticks": ""
           }
          },
          "title": {
           "x": 0.05
          },
          "xaxis": {
           "automargin": true,
           "gridcolor": "white",
           "linecolor": "white",
           "ticks": "",
           "title": {
            "standoff": 15
           },
           "zerolinecolor": "white",
           "zerolinewidth": 2
          },
          "yaxis": {
           "automargin": true,
           "gridcolor": "white",
           "linecolor": "white",
           "ticks": "",
           "title": {
            "standoff": 15
           },
           "zerolinecolor": "white",
           "zerolinewidth": 2
          }
         }
        },
        "title": {
         "text": "P/E Ratios by Stock (Sorted by Trailing P/E)"
        },
        "xaxis": {
         "anchor": "y",
         "autorange": false,
         "domain": [
          0,
          1
         ],
         "range": [
          460.88545246277204,
          477.56128293241693
         ],
         "tickangle": -45,
         "tickmode": "array",
         "ticktext": [
          "APA",
          "EG",
          "GM",
          "FMC",
          "UAL",
          "DAL",
          "APTV",
          "SYF",
          "CE",
          "VLO",
          "CINF",
          "GL",
          "ACGL",
          "BG",
          "MPC",
          "PHM",
          "STLD",
          "DVN",
          "NUE",
          "MO",
          "DHI",
          "CHTR",
          "AFL",
          "JBL",
          "EOG",
          "BBWI",
          "FOX",
          "TAP",
          "LEN",
          "MTB",
          "T",
          "IPG",
          "CVS",
          "CMCSA",
          "ADM",
          "PCAR",
          "ETR",
          "EBAY",
          "RF",
          "COF",
          "FOXA",
          "PSX",
          "BWA",
          "AIG",
          "NRG",
          "L",
          "LW",
          "CZR",
          "DE",
          "FANG",
          "CB",
          "TPR",
          "VICI",
          "HIG",
          "FITB",
          "AIZ",
          "WYNN",
          "HAL",
          "HPQ",
          "MRO",
          "HBAN",
          "BLDR",
          "GDDY",
          "OMC",
          "JPM",
          "MOS",
          "CF",
          "WFC",
          "EMN",
          "BEN",
          "F",
          "COP",
          "CFG",
          "PNC",
          "CNC",
          "USB",
          "MTCH",
          "LKQ",
          "STT",
          "SNA",
          "BAC",
          "TEL",
          "TROW",
          "HII",
          "WRB",
          "ON",
          "KHC",
          "XOM",
          "CAG",
          "SOLV",
          "CVX",
          "AMP",
          "PYPL",
          "PFG",
          "GIS",
          "LYB",
          "BBY",
          "EXC",
          "DFS",
          "RJF",
          "BK",
          "CAT",
          "ULTA",
          "TRV",
          "SJM",
          "GPC",
          "VZ",
          "HPE",
          "CTRA",
          "PCG",
          "DVA",
          "UHS",
          "SLB",
          "NVR",
          "MLM",
          "AAL",
          "HCA",
          "XEL",
          "CSCO",
          "MOH",
          "CTSH",
          "AEE",
          "AEP",
          "MAS",
          "TGT",
          "PNW",
          "SRE",
          "MGM",
          "KR",
          "ED",
          "LMT",
          "WEC",
          "EVRG",
          "DOV",
          "SYY",
          "WMB",
          "FDX",
          "PAYC",
          "URI",
          "ATO",
          "HST",
          "GS",
          "MS",
          "LOW",
          "DRI",
          "DUK",
          "RL",
          "CMS",
          "DTE",
          "HSY",
          "KEY",
          "OXY",
          "KMI",
          "CSX",
          "CPB",
          "TXT",
          "INCY",
          "DGX",
          "C",
          "LNT",
          "NTRS",
          "NI",
          "AXP",
          "GPN",
          "DG",
          "ALLE",
          "OKE",
          "SPG",
          "NEE",
          "IBM",
          "BKR",
          "PRU",
          "PM",
          "UPS",
          "CPAY",
          "BLK",
          "SWKS",
          "SO",
          "FE",
          "ABNB",
          "RCL",
          "CMI",
          "PNR",
          "PEG",
          "ELV",
          "AZO",
          "FFIV",
          "MDLZ",
          "TDY",
          "D",
          "PPG",
          "AOS",
          "PGR",
          "LVS",
          "SBUX",
          "KDP",
          "HSIC",
          "UNP",
          "MCD",
          "JNJ",
          "AMCR",
          "HRL",
          "CNP",
          "VRSN",
          "NKE",
          "CME",
          "AKAM",
          "HES",
          "GEHC",
          "PKG",
          "CBOE",
          "AON",
          "GRMN",
          "HUM",
          "HD",
          "NCLH",
          "KVUE",
          "APD",
          "ITW",
          "YUM",
          "ZBH",
          "KKR",
          "FSLR",
          "GD",
          "PH",
          "EXPE",
          "LULU",
          "TMUS",
          "POOL",
          "AES",
          "MET",
          "CRL",
          "K",
          "ROST",
          "COR",
          "HON",
          "PEP",
          "NXPI",
          "GWW",
          "MAR",
          "KMB",
          "PAYX",
          "JBHT",
          "KO",
          "EPAM",
          "WY",
          "GEN",
          "MCK",
          "PSA",
          "AWK",
          "MCHP",
          "TSCO",
          "CCL",
          "IEX",
          "EXPD",
          "WTW",
          "TRGP",
          "QCOM",
          "ADP",
          "MMC",
          "CEG",
          "CPT",
          "ORLY",
          "PPL",
          "J",
          "JCI",
          "ETSY",
          "ROK",
          "PG",
          "MKC",
          "CI",
          "AMAT",
          "HUBB",
          "TJX",
          "EQT",
          "STZ",
          "BRO",
          "NDSN",
          "ACN",
          "NTAP",
          "OTIS",
          "GOOGL",
          "FI",
          "CBRE",
          "CDW",
          "GOOG",
          "MDT",
          "WAT",
          "KMX",
          "BALL",
          "IQV",
          "BIIB",
          "META",
          "WMT",
          "AME",
          "V",
          "FTV",
          "MKTX",
          "RMD",
          "VLTO",
          "EQR",
          "UDR",
          "EA",
          "BKNG",
          "KEYS",
          "MAA",
          "TXN",
          "REG",
          "NOC",
          "VRTX",
          "CCI",
          "A",
          "AVB",
          "FDS",
          "WAB",
          "CL",
          "SCHW",
          "REGN",
          "UNH",
          "ODFL",
          "FAST",
          "ICE",
          "DOW",
          "MNST",
          "EIX",
          "SHW",
          "INTC",
          "AVY",
          "JKHY",
          "NDAQ",
          "ABT",
          "EMR",
          "AAPL",
          "CHD",
          "PLD",
          "MSCI",
          "DECK",
          "ESS",
          "ZTS",
          "TFX",
          "BR",
          "DPZ",
          "LIN",
          "RSG",
          "NSC",
          "ALB",
          "CHRW",
          "TT",
          "ALL",
          "WM",
          "MA",
          "TMO",
          "FRT",
          "VMC",
          "EXR",
          "LHX",
          "GNRC",
          "KIM",
          "ETN",
          "HWM",
          "CPRT",
          "ORCL",
          "HOLX",
          "SBAC",
          "MSFT",
          "SYK",
          "LRCX",
          "MTD",
          "FTNT",
          "RTX",
          "STE",
          "EW",
          "ALGN",
          "INVH",
          "APH",
          "ROP",
          "WRK",
          "GE",
          "DLR",
          "FCX",
          "KLAC",
          "WST",
          "CAH",
          "LH",
          "BX",
          "AMT",
          "CARR",
          "ECL",
          "AMGN",
          "IT",
          "LUV",
          "IR",
          "SMCI",
          "DHR",
          "MCO",
          "CRM",
          "NFLX",
          "XYL",
          "IDXX",
          "HLT",
          "MSI",
          "CTAS",
          "ANET",
          "O",
          "PANW",
          "VRSK",
          "PWR",
          "SPGI",
          "ADBE",
          "BDX",
          "BXP",
          "TDG",
          "TSLA",
          "ABBV",
          "COO",
          "ENPH",
          "COST",
          "AJG",
          "VST",
          "JNPR",
          "ADI",
          "ADSK",
          "GLW",
          "EFX",
          "ROL",
          "AMZN",
          "CTVA",
          "DOC",
          "TER",
          "TECH",
          "TRMB",
          "EL",
          "PODD",
          "INTU",
          "ZBRA",
          "LDOS",
          "ANSS",
          "BSX",
          "SNPS",
          "CMG",
          "AVGO",
          "CLX",
          "RVTY",
          "NVDA",
          "DXCM",
          "NWSA",
          "EQIX",
          "PTC",
          "NWS",
          "FICO",
          "CDNS",
          "ISRG",
          "IP",
          "NOW",
          "AXON",
          "LYV",
          "DD",
          "MPWR",
          "CSGP",
          "FIS",
          "DIS",
          "ARE",
          "TYL",
          "UBER",
          "WELL",
          "LLY",
          "IRM",
          "MRK",
          "DAY",
          "GILD",
          "AMD",
          "CRWD",
          "MMM",
          "BAX",
          "BRK.B",
          "BIO",
          "BA",
          "BMY",
          "BF.B",
          "CTLT",
          "DLTR",
          "ES",
          "GEV",
          "HAS",
          "IFF",
          "IVZ",
          "MU",
          "MRNA",
          "MHK",
          "NEM",
          "PARA",
          "PFE",
          "QRVO",
          "STX",
          "SWK",
          "TTWO",
          "TFC",
          "TSN",
          "VTR",
          "VTRS",
          "WBA",
          "WBD",
          "WDC"
         ],
         "tickvals": [
          0,
          1,
          2,
          3,
          4,
          5,
          6,
          7,
          8,
          9,
          10,
          11,
          12,
          13,
          14,
          15,
          16,
          17,
          18,
          19,
          20,
          21,
          22,
          23,
          24,
          25,
          26,
          27,
          28,
          29,
          30,
          31,
          32,
          33,
          34,
          35,
          36,
          37,
          38,
          39,
          40,
          41,
          42,
          43,
          44,
          45,
          46,
          47,
          48,
          49,
          50,
          51,
          52,
          53,
          54,
          55,
          56,
          57,
          58,
          59,
          60,
          61,
          62,
          63,
          64,
          65,
          66,
          67,
          68,
          69,
          70,
          71,
          72,
          73,
          74,
          75,
          76,
          77,
          78,
          79,
          80,
          81,
          82,
          83,
          84,
          85,
          86,
          87,
          88,
          89,
          90,
          91,
          92,
          93,
          94,
          95,
          96,
          97,
          98,
          99,
          100,
          101,
          102,
          103,
          104,
          105,
          106,
          107,
          108,
          109,
          110,
          111,
          112,
          113,
          114,
          115,
          116,
          117,
          118,
          119,
          120,
          121,
          122,
          123,
          124,
          125,
          126,
          127,
          128,
          129,
          130,
          131,
          132,
          133,
          134,
          135,
          136,
          137,
          138,
          139,
          140,
          141,
          142,
          143,
          144,
          145,
          146,
          147,
          148,
          149,
          150,
          151,
          152,
          153,
          154,
          155,
          156,
          157,
          158,
          159,
          160,
          161,
          162,
          163,
          164,
          165,
          166,
          167,
          168,
          169,
          170,
          171,
          172,
          173,
          174,
          175,
          176,
          177,
          178,
          179,
          180,
          181,
          182,
          183,
          184,
          185,
          186,
          187,
          188,
          189,
          190,
          191,
          192,
          193,
          194,
          195,
          196,
          197,
          198,
          199,
          200,
          201,
          202,
          203,
          204,
          205,
          206,
          207,
          208,
          209,
          210,
          211,
          212,
          213,
          214,
          215,
          216,
          217,
          218,
          219,
          220,
          221,
          222,
          223,
          224,
          225,
          226,
          227,
          228,
          229,
          230,
          231,
          232,
          233,
          234,
          235,
          236,
          237,
          238,
          239,
          240,
          241,
          242,
          243,
          244,
          245,
          246,
          247,
          248,
          249,
          250,
          251,
          252,
          253,
          254,
          255,
          256,
          257,
          258,
          259,
          260,
          261,
          262,
          263,
          264,
          265,
          266,
          267,
          268,
          269,
          270,
          271,
          272,
          273,
          274,
          275,
          276,
          277,
          278,
          279,
          280,
          281,
          282,
          283,
          284,
          285,
          286,
          287,
          288,
          289,
          290,
          291,
          292,
          293,
          294,
          295,
          296,
          297,
          298,
          299,
          300,
          301,
          302,
          303,
          304,
          305,
          306,
          307,
          308,
          309,
          310,
          311,
          312,
          313,
          314,
          315,
          316,
          317,
          318,
          319,
          320,
          321,
          322,
          323,
          324,
          325,
          326,
          327,
          328,
          329,
          330,
          331,
          332,
          333,
          334,
          335,
          336,
          337,
          338,
          339,
          340,
          341,
          342,
          343,
          344,
          345,
          346,
          347,
          348,
          349,
          350,
          351,
          352,
          353,
          354,
          355,
          356,
          357,
          358,
          359,
          360,
          361,
          362,
          363,
          364,
          365,
          366,
          367,
          368,
          369,
          370,
          371,
          372,
          373,
          374,
          375,
          376,
          377,
          378,
          379,
          380,
          381,
          382,
          383,
          384,
          385,
          386,
          387,
          388,
          389,
          390,
          391,
          392,
          393,
          394,
          395,
          396,
          397,
          398,
          399,
          400,
          401,
          402,
          403,
          404,
          405,
          406,
          407,
          408,
          409,
          410,
          411,
          412,
          413,
          414,
          415,
          416,
          417,
          418,
          419,
          420,
          421,
          422,
          423,
          424,
          425,
          426,
          427,
          428,
          429,
          430,
          431,
          432,
          433,
          434,
          435,
          436,
          437,
          438,
          439,
          440,
          441,
          442,
          443,
          444,
          445,
          446,
          447,
          448,
          449,
          450,
          451,
          452,
          453,
          454,
          455,
          456,
          457,
          458,
          459,
          460,
          461,
          462,
          463,
          464,
          465,
          466,
          467,
          468,
          469,
          470,
          471,
          472,
          473,
          474,
          475,
          476,
          477,
          478,
          479,
          480,
          481,
          482,
          483,
          484,
          485,
          486,
          487,
          488,
          489,
          490,
          491,
          492,
          493,
          494,
          495,
          496,
          497,
          498,
          499,
          500,
          501,
          502
         ],
         "title": {
          "text": "Stocks"
         },
         "type": "category"
        },
        "yaxis": {
         "anchor": "x",
         "autorange": true,
         "domain": [
          0,
          1
         ],
         "range": [
          -137.58944444444444,
          754.1994444444445
         ],
         "title": {
          "text": "P/E Ratio"
         },
         "type": "linear"
        }
       }
      },
      "image/png": "[encoded data removed]",
      "text/html": [
       "<div>                            <div id=\"1b02389c-240b-4eba-835a-cc26a9cfe160\" class=\"plotly-graph-div\" style=\"height:500px; width:100%;\"></div>            <script type=\"text/javascript\">                require([\"plotly\"], function(Plotly) {                    window.PLOTLYENV=window.PLOTLYENV || {};                                    if (document.getElementById(\"1b02389c-240b-4eba-835a-cc26a9cfe160\")) {                    Plotly.newPlot(                        \"1b02389c-240b-4eba-835a-cc26a9cfe160\",                        [{\"hovertemplate\":\"Type=Trailing P/E<br>Stocks=%{x}<br>P/E Value=%{y}<extra></extra>\",\"legendgroup\":\"Trailing P/E\",\"line\":{\"color\":\"#636efa\",\"dash\":\"solid\"},\"marker\":{\"symbol\":\"circle\"},\"mode\":\"lines\",\"name\":\"Trailing P/E\",\"showlegend\":true,\"x\":[\"APA\",\"EG\",\"GM\",\"FMC\",\"UAL\",\"DAL\",\"APTV\",\"SYF\",\"CE\",\"VLO\",\"CINF\",\"GL\",\"ACGL\",\"BG\",\"MPC\",\"PHM\",\"STLD\",\"DVN\",\"NUE\",\"MO\",\"DHI\",\"CHTR\",\"AFL\",\"JBL\",\"EOG\",\"BBWI\",\"FOX\",\"TAP\",\"LEN\",\"MTB\",\"T\",\"IPG\",\"CVS\",\"CMCSA\",\"ADM\",\"PCAR\",\"ETR\",\"EBAY\",\"RF\",\"COF\",\"FOXA\",\"PSX\",\"BWA\",\"AIG\",\"NRG\",\"L\",\"LW\",\"CZR\",\"DE\",\"FANG\",\"CB\",\"TPR\",\"VICI\",\"HIG\",\"FITB\",\"AIZ\",\"WYNN\",\"HAL\",\"HPQ\",\"MRO\",\"HBAN\",\"BLDR\",\"GDDY\",\"OMC\",\"JPM\",\"MOS\",\"CF\",\"WFC\",\"EMN\",\"BEN\",\"F\",\"COP\",\"CFG\",\"PNC\",\"CNC\",\"USB\",\"MTCH\",\"LKQ\",\"STT\",\"SNA\",\"BAC\",\"TEL\",\"TROW\",\"HII\",\"WRB\",\"ON\",\"KHC\",\"XOM\",\"CAG\",\"SOLV\",\"CVX\",\"AMP\",\"PYPL\",\"PFG\",\"GIS\",\"LYB\",\"BBY\",\"EXC\",\"DFS\",\"RJF\",\"BK\",\"CAT\",\"ULTA\",\"TRV\",\"SJM\",\"GPC\",\"VZ\",\"HPE\",\"CTRA\",\"PCG\",\"DVA\",\"UHS\",\"SLB\",\"NVR\",\"MLM\",\"AAL\",\"HCA\",\"XEL\",\"CSCO\",\"MOH\",\"CTSH\",\"AEE\",\"AEP\",\"MAS\",\"TGT\",\"PNW\",\"SRE\",\"MGM\",\"KR\",\"ED\",\"LMT\",\"WEC\",\"EVRG\",\"DOV\",\"SYY\",\"WMB\",\"FDX\",\"PAYC\",\"URI\",\"ATO\",\"HST\",\"GS\",\"MS\",\"LOW\",\"DRI\",\"DUK\",\"RL\",\"CMS\",\"DTE\",\"HSY\",\"KEY\",\"OXY\",\"KMI\",\"CSX\",\"CPB\",\"TXT\",\"INCY\",\"DGX\",\"C\",\"LNT\",\"NTRS\",\"NI\",\"AXP\",\"GPN\",\"DG\",\"ALLE\",\"OKE\",\"SPG\",\"NEE\",\"IBM\",\"BKR\",\"PRU\",\"PM\",\"UPS\",\"CPAY\",\"BLK\",\"SWKS\",\"SO\",\"FE\",\"ABNB\",\"RCL\",\"CMI\",\"PNR\",\"PEG\",\"ELV\",\"AZO\",\"FFIV\",\"MDLZ\",\"TDY\",\"D\",\"PPG\",\"AOS\",\"PGR\",\"LVS\",\"SBUX\",\"KDP\",\"HSIC\",\"UNP\",\"MCD\",\"JNJ\",\"AMCR\",\"HRL\",\"CNP\",\"VRSN\",\"NKE\",\"CME\",\"AKAM\",\"HES\",\"GEHC\",\"PKG\",\"CBOE\",\"AON\",\"GRMN\",\"HUM\",\"HD\",\"NCLH\",\"KVUE\",\"APD\",\"ITW\",\"YUM\",\"ZBH\",\"KKR\",\"FSLR\",\"GD\",\"PH\",\"EXPE\",\"LULU\",\"TMUS\",\"POOL\",\"AES\",\"MET\",\"CRL\",\"K\",\"ROST\",\"COR\",\"HON\",\"PEP\",\"NXPI\",\"GWW\",\"MAR\",\"KMB\",\"PAYX\",\"JBHT\",\"KO\",\"EPAM\",\"WY\",\"GEN\",\"MCK\",\"PSA\",\"AWK\",\"MCHP\",\"TSCO\",\"CCL\",\"IEX\",\"EXPD\",\"WTW\",\"TRGP\",\"QCOM\",\"ADP\",\"MMC\",\"CEG\",\"CPT\",\"ORLY\",\"PPL\",\"J\",\"JCI\",\"ETSY\",\"ROK\",\"PG\",\"MKC\",\"CI\",\"AMAT\",\"HUBB\",\"TJX\",\"EQT\",\"STZ\",\"BRO\",\"NDSN\",\"ACN\",\"NTAP\",\"OTIS\",\"GOOGL\",\"FI\",\"CBRE\",\"CDW\",\"GOOG\",\"MDT\",\"WAT\",\"KMX\",\"BALL\",\"IQV\",\"BIIB\",\"META\",\"WMT\",\"AME\",\"V\",\"FTV\",\"MKTX\",\"RMD\",\"VLTO\",\"EQR\",\"UDR\",\"EA\",\"BKNG\",\"KEYS\",\"MAA\",\"TXN\",\"REG\",\"NOC\",\"VRTX\",\"CCI\",\"A\",\"AVB\",\"FDS\",\"WAB\",\"CL\",\"SCHW\",\"REGN\",\"UNH\",\"ODFL\",\"FAST\",\"ICE\",\"DOW\",\"MNST\",\"EIX\",\"SHW\",\"INTC\",\"AVY\",\"JKHY\",\"NDAQ\",\"ABT\",\"EMR\",\"AAPL\",\"CHD\",\"PLD\",\"MSCI\",\"DECK\",\"ESS\",\"ZTS\",\"TFX\",\"BR\",\"DPZ\",\"LIN\",\"RSG\",\"NSC\",\"ALB\",\"CHRW\",\"TT\",\"ALL\",\"WM\",\"MA\",\"TMO\",\"FRT\",\"VMC\",\"EXR\",\"LHX\",\"GNRC\",\"KIM\",\"ETN\",\"HWM\",\"CPRT\",\"ORCL\",\"HOLX\",\"SBAC\",\"MSFT\",\"SYK\",\"LRCX\",\"MTD\",\"FTNT\",\"RTX\",\"STE\",\"EW\",\"ALGN\",\"INVH\",\"APH\",\"ROP\",\"WRK\",\"GE\",\"DLR\",\"FCX\",\"KLAC\",\"WST\",\"CAH\",\"LH\",\"BX\",\"AMT\",\"CARR\",\"ECL\",\"AMGN\",\"IT\",\"LUV\",\"IR\",\"SMCI\",\"DHR\",\"MCO\",\"CRM\",\"NFLX\",\"XYL\",\"IDXX\",\"HLT\",\"MSI\",\"CTAS\",\"ANET\",\"O\",\"PANW\",\"VRSK\",\"PWR\",\"SPGI\",\"ADBE\",\"BDX\",\"BXP\",\"TDG\",\"TSLA\",\"ABBV\",\"COO\",\"ENPH\",\"COST\",\"AJG\",\"VST\",\"JNPR\",\"ADI\",\"ADSK\",\"GLW\",\"EFX\",\"ROL\",\"AMZN\",\"CTVA\",\"DOC\",\"TER\",\"TECH\",\"TRMB\",\"EL\",\"PODD\",\"INTU\",\"ZBRA\",\"LDOS\",\"ANSS\",\"BSX\",\"SNPS\",\"CMG\",\"AVGO\",\"CLX\",\"RVTY\",\"NVDA\",\"DXCM\",\"NWSA\",\"EQIX\",\"PTC\",\"NWS\",\"FICO\",\"CDNS\",\"ISRG\",\"IP\",\"NOW\",\"AXON\",\"LYV\",\"DD\",\"MPWR\",\"CSGP\",\"FIS\",\"DIS\",\"ARE\",\"TYL\",\"UBER\",\"WELL\",\"LLY\",\"IRM\",\"MRK\",\"DAY\",\"GILD\",\"AMD\",\"CRWD\",\"MMM\",\"BAX\",\"BRK.B\",\"BIO\",\"BA\",\"BMY\",\"BF.B\",\"CTLT\",\"DLTR\",\"ES\",\"GEV\",\"HAS\",\"IFF\",\"IVZ\",\"MU\",\"MRNA\",\"MHK\",\"NEM\",\"PARA\",\"PFE\",\"QRVO\",\"STX\",\"SWK\",\"TTWO\",\"TFC\",\"TSN\",\"VTR\",\"VTRS\",\"WBA\",\"WBD\",\"WDC\"],\"xaxis\":\"x\",\"y\":[3.3,5.62,5.67,5.9,5.94,6.08,6.62,6.76,7.4,7.69,7.86,7.87,7.96,8.61,8.62,8.83,8.86,9.03,9.3,9.53,9.61,9.68,9.83,9.87,9.95,10.09,10.1,10.15,10.22,10.23,10.27,10.35,10.36,10.39,10.55,10.69,10.72,10.72,10.83,10.84,10.84,10.85,11.08,11.1,11.11,11.11,11.2,11.23,11.25,11.28,11.33,11.35,11.37,11.44,11.62,11.63,11.71,11.73,11.83,11.85,11.87,11.89,12.11,12.14,12.21,12.25,12.25,12.37,12.62,12.92,12.93,12.95,12.96,13.05,13.08,13.19,13.32,13.42,13.63,13.7,13.71,13.71,13.71,13.92,13.96,13.99,14.07,14.11,14.28,14.37,14.4,14.54,14.62,14.66,14.68,14.76,14.79,14.85,14.85,14.93,15.01,15.05,15.06,15.12,15.29,15.42,15.45,15.45,15.51,15.59,15.69,15.73,15.73,15.81,15.93,15.96,16.02,16.04,16.05,16.15,16.31,16.31,16.34,16.34,16.6,16.64,16.83,16.96,17.04,17.06,17.09,17.13,17.2,17.35,17.41,17.42,17.43,17.47,17.56,17.59,17.63,17.64,17.67,17.67,17.74,17.93,18.03,18.15,18.17,18.2,18.22,18.22,18.23,18.28,18.3,18.35,18.37,18.42,18.5,18.51,18.54,18.71,19.06,19.22,19.25,19.27,19.28,19.34,19.35,19.61,19.65,19.76,19.79,19.8,19.82,20.0,20.07,20.1,20.25,20.3,20.31,20.32,20.34,20.42,20.43,20.55,20.65,20.84,21.01,21.21,21.23,21.24,21.28,21.38,21.45,21.55,21.58,21.59,21.65,21.69,21.73,21.78,21.82,21.87,22.17,22.39,22.46,22.63,22.65,22.79,22.8,22.94,22.95,23.02,23.07,23.2,23.31,23.35,23.37,23.49,23.54,23.54,23.61,23.67,23.77,23.91,23.97,23.97,24.03,24.07,24.29,24.3,24.44,24.51,24.65,24.72,24.88,24.89,24.9,24.95,25.36,25.39,25.4,25.56,25.8,25.81,26.02,26.12,26.15,26.15,26.29,26.29,26.37,26.44,26.44,26.48,26.55,26.59,26.67,26.71,26.74,26.74,26.78,26.84,26.87,26.91,26.93,26.94,26.99,27.08,27.1,27.13,27.21,27.25,27.39,27.4,27.6,27.68,27.81,27.82,27.82,27.89,27.91,27.93,27.98,28.13,28.52,28.53,28.76,28.86,28.89,28.94,28.96,29.06,29.3,29.39,29.4,29.45,29.49,29.56,29.63,29.82,29.84,29.85,29.86,29.96,30.3,30.34,30.38,30.44,30.53,30.72,30.74,30.74,30.81,30.81,30.83,31.06,31.07,31.09,31.11,31.54,31.58,31.61,31.63,31.78,31.93,31.97,32.05,32.22,32.37,32.79,32.81,32.81,32.84,32.88,33.15,33.2,33.4,33.6,33.62,33.7,34.02,34.04,34.57,34.61,34.69,34.7,34.86,34.97,35.1,35.47,35.93,35.99,36.31,36.46,36.52,36.72,36.98,37.5,37.87,38.06,38.27,38.49,38.7,38.89,39.09,39.12,39.14,39.52,39.63,39.81,39.91,40.78,41.33,41.45,41.54,41.83,42.12,42.63,43.24,43.4,43.5,43.58,43.59,44.08,44.11,44.16,44.64,44.68,44.7,45.19,45.54,45.93,46.05,46.24,46.74,47.09,47.21,47.43,47.78,48.23,48.68,48.91,48.99,49.28,49.34,49.94,50.05,50.15,50.46,50.58,50.61,51.05,51.35,51.4,52.6,52.71,52.75,52.84,53.33,53.68,53.96,54.12,54.21,54.28,54.48,56.0,56.38,57.32,58.25,59.78,60.6,60.74,60.93,62.34,64.43,64.71,64.96,66.65,69.29,70.35,71.33,72.25,74.1,74.51,75.66,76.01,76.73,78.1,79.94,80.59,81.42,83.96,85.78,86.0,87.49,98.4,102.97,104.67,107.92,109.32,114.53,115.37,121.22,132.75,135.79,137.56,150.3,190.58,235.09,709.61,null,null,null,null,null,null,null,null,null,null,null,null,null,null,null,null,null,null,null,null,null,null,null,null,null,null,null,null,null,null,null],\"yaxis\":\"y\",\"type\":\"scattergl\"},{\"hovertemplate\":\"Type=Forward P/E<br>Stocks=%{x}<br>P/E Value=%{y}<extra></extra>\",\"legendgroup\":\"Forward P/E\",\"line\":{\"color\":\"#EF553B\",\"dash\":\"solid\"},\"marker\":{\"symbol\":\"circle\"},\"mode\":\"lines\",\"name\":\"Forward P/E\",\"showlegend\":true,\"x\":[\"APA\",\"EG\",\"GM\",\"FMC\",\"UAL\",\"DAL\",\"APTV\",\"SYF\",\"CE\",\"VLO\",\"CINF\",\"GL\",\"ACGL\",\"BG\",\"MPC\",\"PHM\",\"STLD\",\"DVN\",\"NUE\",\"MO\",\"DHI\",\"CHTR\",\"AFL\",\"JBL\",\"EOG\",\"BBWI\",\"FOX\",\"TAP\",\"LEN\",\"MTB\",\"T\",\"IPG\",\"CVS\",\"CMCSA\",\"ADM\",\"PCAR\",\"ETR\",\"EBAY\",\"RF\",\"COF\",\"FOXA\",\"PSX\",\"BWA\",\"AIG\",\"NRG\",\"L\",\"LW\",\"CZR\",\"DE\",\"FANG\",\"CB\",\"TPR\",\"VICI\",\"HIG\",\"FITB\",\"AIZ\",\"WYNN\",\"HAL\",\"HPQ\",\"MRO\",\"HBAN\",\"BLDR\",\"GDDY\",\"OMC\",\"JPM\",\"MOS\",\"CF\",\"WFC\",\"EMN\",\"BEN\",\"F\",\"COP\",\"CFG\",\"PNC\",\"CNC\",\"USB\",\"MTCH\",\"LKQ\",\"STT\",\"SNA\",\"BAC\",\"TEL\",\"TROW\",\"HII\",\"WRB\",\"ON\",\"KHC\",\"XOM\",\"CAG\",\"SOLV\",\"CVX\",\"AMP\",\"PYPL\",\"PFG\",\"GIS\",\"LYB\",\"BBY\",\"EXC\",\"DFS\",\"RJF\",\"BK\",\"CAT\",\"ULTA\",\"TRV\",\"SJM\",\"GPC\",\"VZ\",\"HPE\",\"CTRA\",\"PCG\",\"DVA\",\"UHS\",\"SLB\",\"NVR\",\"MLM\",\"AAL\",\"HCA\",\"XEL\",\"CSCO\",\"MOH\",\"CTSH\",\"AEE\",\"AEP\",\"MAS\",\"TGT\",\"PNW\",\"SRE\",\"MGM\",\"KR\",\"ED\",\"LMT\",\"WEC\",\"EVRG\",\"DOV\",\"SYY\",\"WMB\",\"FDX\",\"PAYC\",\"URI\",\"ATO\",\"HST\",\"GS\",\"MS\",\"LOW\",\"DRI\",\"DUK\",\"RL\",\"CMS\",\"DTE\",\"HSY\",\"KEY\",\"OXY\",\"KMI\",\"CSX\",\"CPB\",\"TXT\",\"INCY\",\"DGX\",\"C\",\"LNT\",\"NTRS\",\"NI\",\"AXP\",\"GPN\",\"DG\",\"ALLE\",\"OKE\",\"SPG\",\"NEE\",\"IBM\",\"BKR\",\"PRU\",\"PM\",\"UPS\",\"CPAY\",\"BLK\",\"SWKS\",\"SO\",\"FE\",\"ABNB\",\"RCL\",\"CMI\",\"PNR\",\"PEG\",\"ELV\",\"AZO\",\"FFIV\",\"MDLZ\",\"TDY\",\"D\",\"PPG\",\"AOS\",\"PGR\",\"LVS\",\"SBUX\",\"KDP\",\"HSIC\",\"UNP\",\"MCD\",\"JNJ\",\"AMCR\",\"HRL\",\"CNP\",\"VRSN\",\"NKE\",\"CME\",\"AKAM\",\"HES\",\"GEHC\",\"PKG\",\"CBOE\",\"AON\",\"GRMN\",\"HUM\",\"HD\",\"NCLH\",\"KVUE\",\"APD\",\"ITW\",\"YUM\",\"ZBH\",\"KKR\",\"FSLR\",\"GD\",\"PH\",\"EXPE\",\"LULU\",\"TMUS\",\"POOL\",\"AES\",\"MET\",\"CRL\",\"K\",\"ROST\",\"COR\",\"HON\",\"PEP\",\"NXPI\",\"GWW\",\"MAR\",\"KMB\",\"PAYX\",\"JBHT\",\"KO\",\"EPAM\",\"WY\",\"GEN\",\"MCK\",\"PSA\",\"AWK\",\"MCHP\",\"TSCO\",\"CCL\",\"IEX\",\"EXPD\",\"WTW\",\"TRGP\",\"QCOM\",\"ADP\",\"MMC\",\"CEG\",\"CPT\",\"ORLY\",\"PPL\",\"J\",\"JCI\",\"ETSY\",\"ROK\",\"PG\",\"MKC\",\"CI\",\"AMAT\",\"HUBB\",\"TJX\",\"EQT\",\"STZ\",\"BRO\",\"NDSN\",\"ACN\",\"NTAP\",\"OTIS\",\"GOOGL\",\"FI\",\"CBRE\",\"CDW\",\"GOOG\",\"MDT\",\"WAT\",\"KMX\",\"BALL\",\"IQV\",\"BIIB\",\"META\",\"WMT\",\"AME\",\"V\",\"FTV\",\"MKTX\",\"RMD\",\"VLTO\",\"EQR\",\"UDR\",\"EA\",\"BKNG\",\"KEYS\",\"MAA\",\"TXN\",\"REG\",\"NOC\",\"VRTX\",\"CCI\",\"A\",\"AVB\",\"FDS\",\"WAB\",\"CL\",\"SCHW\",\"REGN\",\"UNH\",\"ODFL\",\"FAST\",\"ICE\",\"DOW\",\"MNST\",\"EIX\",\"SHW\",\"INTC\",\"AVY\",\"JKHY\",\"NDAQ\",\"ABT\",\"EMR\",\"AAPL\",\"CHD\",\"PLD\",\"MSCI\",\"DECK\",\"ESS\",\"ZTS\",\"TFX\",\"BR\",\"DPZ\",\"LIN\",\"RSG\",\"NSC\",\"ALB\",\"CHRW\",\"TT\",\"ALL\",\"WM\",\"MA\",\"TMO\",\"FRT\",\"VMC\",\"EXR\",\"LHX\",\"GNRC\",\"KIM\",\"ETN\",\"HWM\",\"CPRT\",\"ORCL\",\"HOLX\",\"SBAC\",\"MSFT\",\"SYK\",\"LRCX\",\"MTD\",\"FTNT\",\"RTX\",\"STE\",\"EW\",\"ALGN\",\"INVH\",\"APH\",\"ROP\",\"WRK\",\"GE\",\"DLR\",\"FCX\",\"KLAC\",\"WST\",\"CAH\",\"LH\",\"BX\",\"AMT\",\"CARR\",\"ECL\",\"AMGN\",\"IT\",\"LUV\",\"IR\",\"SMCI\",\"DHR\",\"MCO\",\"CRM\",\"NFLX\",\"XYL\",\"IDXX\",\"HLT\",\"MSI\",\"CTAS\",\"ANET\",\"O\",\"PANW\",\"VRSK\",\"PWR\",\"SPGI\",\"ADBE\",\"BDX\",\"BXP\",\"TDG\",\"TSLA\",\"ABBV\",\"COO\",\"ENPH\",\"COST\",\"AJG\",\"VST\",\"JNPR\",\"ADI\",\"ADSK\",\"GLW\",\"EFX\",\"ROL\",\"AMZN\",\"CTVA\",\"DOC\",\"TER\",\"TECH\",\"TRMB\",\"EL\",\"PODD\",\"INTU\",\"ZBRA\",\"LDOS\",\"ANSS\",\"BSX\",\"SNPS\",\"CMG\",\"AVGO\",\"CLX\",\"RVTY\",\"NVDA\",\"DXCM\",\"NWSA\",\"EQIX\",\"PTC\",\"NWS\",\"FICO\",\"CDNS\",\"ISRG\",\"IP\",\"NOW\",\"AXON\",\"LYV\",\"DD\",\"MPWR\",\"CSGP\",\"FIS\",\"DIS\",\"ARE\",\"TYL\",\"UBER\",\"WELL\",\"LLY\",\"IRM\",\"MRK\",\"DAY\",\"GILD\",\"AMD\",\"CRWD\",\"MMM\",\"BAX\",\"BRK.B\",\"BIO\",\"BA\",\"BMY\",\"BF.B\",\"CTLT\",\"DLTR\",\"ES\",\"GEV\",\"HAS\",\"IFF\",\"IVZ\",\"MU\",\"MRNA\",\"MHK\",\"NEM\",\"PARA\",\"PFE\",\"QRVO\",\"STX\",\"SWK\",\"TTWO\",\"TFC\",\"TSN\",\"VTR\",\"VTRS\",\"WBA\",\"WBD\",\"WDC\"],\"xaxis\":\"x\",\"y\":[5.91,5.54,4.69,11.53,4.12,7.06,9.11,7.93,9.8,11.19,16.78,6.39,11.32,10.85,10.7,8.13,12.92,8.14,12.89,8.63,9.15,8.92,12.96,11.85,10.17,10.41,13.63,8.64,9.31,9.38,8.93,9.66,8.07,8.72,11.09,11.83,13.84,10.68,9.11,8.67,9.07,10.32,6.99,9.49,13.4,25.77,13.54,22.08,14.73,9.66,10.82,9.47,10.45,8.8,10.16,9.74,14.89,9.2,10.09,8.74,9.35,10.05,22.35,10.47,13.04,11.03,13.43,10.7,10.95,8.01,6.93,11.34,8.94,10.83,8.72,9.25,12.55,9.54,8.46,12.93,11.08,17.97,12.88,13.0,12.16,14.37,10.78,12.5,10.57,9.6,10.96,11.19,13.37,9.26,13.21,9.67,12.49,13.21,10.13,12.15,9.82,14.6,13.61,9.74,10.02,12.87,8.74,10.08,8.89,11.8,13.45,12.11,12.13,14.9,22.21,4.06,13.83,13.91,13.38,11.09,13.68,14.51,14.7,14.62,14.19,15.56,14.74,13.76,10.9,15.97,16.69,14.94,13.01,18.15,15.45,20.63,12.56,16.18,13.55,16.5,15.5,11.81,12.82,16.39,14.41,15.83,13.99,16.58,15.46,18.82,8.66,13.44,15.77,15.41,13.95,12.48,11.35,14.45,8.81,15.66,11.86,15.57,16.62,7.36,16.18,15.59,14.51,23.46,19.14,17.67,13.9,7.99,14.64,14.09,12.03,17.98,16.12,17.96,13.38,29.62,12.42,12.78,16.18,18.15,13.01,18.07,12.53,17.64,18.1,14.29,13.51,18.8,17.18,14.41,20.38,16.14,11.49,17.82,20.5,14.32,13.22,17.94,17.8,20.55,18.47,19.7,13.33,12.86,16.34,18.22,18.73,17.03,26.36,18.4,21.24,10.16,14.66,19.23,21.72,20.76,12.49,17.22,10.59,17.8,19.14,8.47,18.89,15.96,24.16,8.41,7.21,16.69,14.98,22.05,15.32,19.13,19.97,16.88,21.03,22.37,18.21,22.37,18.96,22.57,17.13,22.18,10.11,16.31,26.22,22.82,22.1,23.62,12.32,22.13,24.0,14.23,17.24,18.92,23.92,22.18,23.23,66.53,22.53,15.11,15.82,16.29,21.14,22.88,25.26,23.11,10.31,25.99,20.72,24.2,10.08,17.02,23.34,22.22,23.72,17.41,22.76,21.18,14.74,15.8,20.06,22.84,13.52,22.27,19.61,17.1,16.97,13.38,23.29,25.26,22.35,25.07,17.77,25.32,22.18,26.3,42.02,85.73,16.79,19.29,19.56,34.12,30.54,29.48,15.86,25.97,37.01,22.58,37.34,23.36,19.25,25.27,17.1,21.91,17.53,25.23,27.81,20.74,12.69,24.61,12.73,23.39,17.02,20.74,28.92,19.95,20.22,18.33,30.88,27.65,39.0,28.97,27.14,47.84,27.17,13.8,23.23,28.56,25.72,28.75,15.55,12.29,21.13,27.83,9.13,26.53,28.33,22.77,32.05,24.82,33.0,15.82,16.97,29.94,26.94,26.86,33.23,20.95,16.72,22.91,35.93,25.39,29.61,31.29,30.75,17.67,21.78,29.7,22.13,46.01,34.37,28.34,13.96,31.42,113.47,20.95,29.01,36.36,13.06,12.78,20.6,29.45,20.55,31.99,15.27,34.76,16.07,25.23,23.93,28.78,33.89,24.99,32.32,28.49,38.73,26.45,27.3,42.57,38.99,33.43,54.77,36.62,26.14,27.82,28.81,16.37,31.73,32.73,62.42,14.22,22.05,20.35,48.1,22.87,14.33,16.35,28.57,27.4,17.66,25.47,43.18,35.72,15.54,38.43,30.7,35.3,18.33,25.64,54.1,34.37,21.0,15.7,30.74,29.06,42.08,46.75,26.78,21.13,20.24,36.34,50.17,32.82,63.21,30.64,null,51.39,44.41,60.36,15.25,48.41,51.8,37.95,18.94,49.11,58.38,13.63,19.21,33.04,48.16,36.71,60.96,46.96,43.09,12.45,24.68,10.23,30.96,77.73,13.07,10.39,null,23.09,38.32,6.4,null,48.9,13.58,11.79,31.01,13.76,21.4,8.13,14.93,-23.61,10.15,10.04,7.58,10.93,14.58,17.99,14.63,20.79,9.84,15.2,165.35,3.89,4.63,-93.0,9.46],\"yaxis\":\"y\",\"type\":\"scattergl\"}],                        {\"template\":{\"data\":{\"histogram2dcontour\":[{\"type\":\"histogram2dcontour\",\"colorbar\":{\"outlinewidth\":0,\"ticks\":\"\"},\"colorscale\":[[0.0,\"#0d0887\"],[0.1111111111111111,\"#46039f\"],[0.2222222222222222,\"#7201a8\"],[0.3333333333333333,\"#9c179e\"],[0.4444444444444444,\"#bd3786\"],[0.5555555555555556,\"#d8576b\"],[0.6666666666666666,\"#ed7953\"],[0.7777777777777778,\"#fb9f3a\"],[0.8888888888888888,\"#fdca26\"],[1.0,\"#f0f921\"]]}],\"choropleth\":[{\"type\":\"choropleth\",\"colorbar\":{\"outlinewidth\":0,\"ticks\":\"\"}}],\"histogram2d\":[{\"type\":\"histogram2d\",\"colorbar\":{\"outlinewidth\":0,\"ticks\":\"\"},\"colorscale\":[[0.0,\"#0d0887\"],[0.1111111111111111,\"#46039f\"],[0.2222222222222222,\"#7201a8\"],[0.3333333333333333,\"#9c179e\"],[0.4444444444444444,\"#bd3786\"],[0.5555555555555556,\"#d8576b\"],[0.6666666666666666,\"#ed7953\"],[0.7777777777777778,\"#fb9f3a\"],[0.8888888888888888,\"#fdca26\"],[1.0,\"#f0f921\"]]}],\"heatmap\":[{\"type\":\"heatmap\",\"colorbar\":{\"outlinewidth\":0,\"ticks\":\"\"},\"colorscale\":[[0.0,\"#0d0887\"],[0.1111111111111111,\"#46039f\"],[0.2222222222222222,\"#7201a8\"],[0.3333333333333333,\"#9c179e\"],[0.4444444444444444,\"#bd3786\"],[0.5555555555555556,\"#d8576b\"],[0.6666666666666666,\"#ed7953\"],[0.7777777777777778,\"#fb9f3a\"],[0.8888888888888888,\"#fdca26\"],[1.0,\"#f0f921\"]]}],\"heatmapgl\":[{\"type\":\"heatmapgl\",\"colorbar\":{\"outlinewidth\":0,\"ticks\":\"\"},\"colorscale\":[[0.0,\"#0d0887\"],[0.1111111111111111,\"#46039f\"],[0.2222222222222222,\"#7201a8\"],[0.3333333333333333,\"#9c179e\"],[0.4444444444444444,\"#bd3786\"],[0.5555555555555556,\"#d8576b\"],[0.6666666666666666,\"#ed7953\"],[0.7777777777777778,\"#fb9f3a\"],[0.8888888888888888,\"#fdca26\"],[1.0,\"#f0f921\"]]}],\"contourcarpet\":[{\"type\":\"contourcarpet\",\"colorbar\":{\"outlinewidth\":0,\"ticks\":\"\"}}],\"contour\":[{\"type\":\"contour\",\"colorbar\":{\"outlinewidth\":0,\"ticks\":\"\"},\"colorscale\":[[0.0,\"#0d0887\"],[0.1111111111111111,\"#46039f\"],[0.2222222222222222,\"#7201a8\"],[0.3333333333333333,\"#9c179e\"],[0.4444444444444444,\"#bd3786\"],[0.5555555555555556,\"#d8576b\"],[0.6666666666666666,\"#ed7953\"],[0.7777777777777778,\"#fb9f3a\"],[0.8888888888888888,\"#fdca26\"],[1.0,\"#f0f921\"]]}],\"surface\":[{\"type\":\"surface\",\"colorbar\":{\"outlinewidth\":0,\"ticks\":\"\"},\"colorscale\":[[0.0,\"#0d0887\"],[0.1111111111111111,\"#46039f\"],[0.2222222222222222,\"#7201a8\"],[0.3333333333333333,\"#9c179e\"],[0.4444444444444444,\"#bd3786\"],[0.5555555555555556,\"#d8576b\"],[0.6666666666666666,\"#ed7953\"],[0.7777777777777778,\"#fb9f3a\"],[0.8888888888888888,\"#fdca26\"],[1.0,\"#f0f921\"]]}],\"mesh3d\":[{\"type\":\"mesh3d\",\"colorbar\":{\"outlinewidth\":0,\"ticks\":\"\"}}],\"scatter\":[{\"fillpattern\":{\"fillmode\":\"overlay\",\"size\":10,\"solidity\":0.2},\"type\":\"scatter\"}],\"parcoords\":[{\"type\":\"parcoords\",\"line\":{\"colorbar\":{\"outlinewidth\":0,\"ticks\":\"\"}}}],\"scatterpolargl\":[{\"type\":\"scatterpolargl\",\"marker\":{\"colorbar\":{\"outlinewidth\":0,\"ticks\":\"\"}}}],\"bar\":[{\"error_x\":{\"color\":\"#2a3f5f\"},\"error_y\":{\"color\":\"#2a3f5f\"},\"marker\":{\"line\":{\"color\":\"#E5ECF6\",\"width\":0.5},\"pattern\":{\"fillmode\":\"overlay\",\"size\":10,\"solidity\":0.2}},\"type\":\"bar\"}],\"scattergeo\":[{\"type\":\"scattergeo\",\"marker\":{\"colorbar\":{\"outlinewidth\":0,\"ticks\":\"\"}}}],\"scatterpolar\":[{\"type\":\"scatterpolar\",\"marker\":{\"colorbar\":{\"outlinewidth\":0,\"ticks\":\"\"}}}],\"histogram\":[{\"marker\":{\"pattern\":{\"fillmode\":\"overlay\",\"size\":10,\"solidity\":0.2}},\"type\":\"histogram\"}],\"scattergl\":[{\"type\":\"scattergl\",\"marker\":{\"colorbar\":{\"outlinewidth\":0,\"ticks\":\"\"}}}],\"scatter3d\":[{\"type\":\"scatter3d\",\"line\":{\"colorbar\":{\"outlinewidth\":0,\"ticks\":\"\"}},\"marker\":{\"colorbar\":{\"outlinewidth\":0,\"ticks\":\"\"}}}],\"scattermapbox\":[{\"type\":\"scattermapbox\",\"marker\":{\"colorbar\":{\"outlinewidth\":0,\"ticks\":\"\"}}}],\"scatterternary\":[{\"type\":\"scatterternary\",\"marker\":{\"colorbar\":{\"outlinewidth\":0,\"ticks\":\"\"}}}],\"scattercarpet\":[{\"type\":\"scattercarpet\",\"marker\":{\"colorbar\":{\"outlinewidth\":0,\"ticks\":\"\"}}}],\"carpet\":[{\"aaxis\":{\"endlinecolor\":\"#2a3f5f\",\"gridcolor\":\"white\",\"linecolor\":\"white\",\"minorgridcolor\":\"white\",\"startlinecolor\":\"#2a3f5f\"},\"baxis\":{\"endlinecolor\":\"#2a3f5f\",\"gridcolor\":\"white\",\"linecolor\":\"white\",\"minorgridcolor\":\"white\",\"startlinecolor\":\"#2a3f5f\"},\"type\":\"carpet\"}],\"table\":[{\"cells\":{\"fill\":{\"color\":\"#EBF0F8\"},\"line\":{\"color\":\"white\"}},\"header\":{\"fill\":{\"color\":\"#C8D4E3\"},\"line\":{\"color\":\"white\"}},\"type\":\"table\"}],\"barpolar\":[{\"marker\":{\"line\":{\"color\":\"#E5ECF6\",\"width\":0.5},\"pattern\":{\"fillmode\":\"overlay\",\"size\":10,\"solidity\":0.2}},\"type\":\"barpolar\"}],\"pie\":[{\"automargin\":true,\"type\":\"pie\"}]},\"layout\":{\"autotypenumbers\":\"strict\",\"colorway\":[\"#636efa\",\"#EF553B\",\"#00cc96\",\"#ab63fa\",\"#FFA15A\",\"#19d3f3\",\"#FF6692\",\"#B6E880\",\"#FF97FF\",\"#FECB52\"],\"font\":{\"color\":\"#2a3f5f\"},\"hovermode\":\"closest\",\"hoverlabel\":{\"align\":\"left\"},\"paper_bgcolor\":\"white\",\"plot_bgcolor\":\"#E5ECF6\",\"polar\":{\"bgcolor\":\"#E5ECF6\",\"angularaxis\":{\"gridcolor\":\"white\",\"linecolor\":\"white\",\"ticks\":\"\"},\"radialaxis\":{\"gridcolor\":\"white\",\"linecolor\":\"white\",\"ticks\":\"\"}},\"ternary\":{\"bgcolor\":\"#E5ECF6\",\"aaxis\":{\"gridcolor\":\"white\",\"linecolor\":\"white\",\"ticks\":\"\"},\"baxis\":{\"gridcolor\":\"white\",\"linecolor\":\"white\",\"ticks\":\"\"},\"caxis\":{\"gridcolor\":\"white\",\"linecolor\":\"white\",\"ticks\":\"\"}},\"coloraxis\":{\"colorbar\":{\"outlinewidth\":0,\"ticks\":\"\"}},\"colorscale\":{\"sequential\":[[0.0,\"#0d0887\"],[0.1111111111111111,\"#46039f\"],[0.2222222222222222,\"#7201a8\"],[0.3333333333333333,\"#9c179e\"],[0.4444444444444444,\"#bd3786\"],[0.5555555555555556,\"#d8576b\"],[0.6666666666666666,\"#ed7953\"],[0.7777777777777778,\"#fb9f3a\"],[0.8888888888888888,\"#fdca26\"],[1.0,\"#f0f921\"]],\"sequentialminus\":[[0.0,\"#0d0887\"],[0.1111111111111111,\"#46039f\"],[0.2222222222222222,\"#7201a8\"],[0.3333333333333333,\"#9c179e\"],[0.4444444444444444,\"#bd3786\"],[0.5555555555555556,\"#d8576b\"],[0.6666666666666666,\"#ed7953\"],[0.7777777777777778,\"#fb9f3a\"],[0.8888888888888888,\"#fdca26\"],[1.0,\"#f0f921\"]],\"diverging\":[[0,\"#8e0152\"],[0.1,\"#c51b7d\"],[0.2,\"#de77ae\"],[0.3,\"#f1b6da\"],[0.4,\"#fde0ef\"],[0.5,\"#f7f7f7\"],[0.6,\"#e6f5d0\"],[0.7,\"#b8e186\"],[0.8,\"#7fbc41\"],[0.9,\"#4d9221\"],[1,\"#276419\"]]},\"xaxis\":{\"gridcolor\":\"white\",\"linecolor\":\"white\",\"ticks\":\"\",\"title\":{\"standoff\":15},\"zerolinecolor\":\"white\",\"automargin\":true,\"zerolinewidth\":2},\"yaxis\":{\"gridcolor\":\"white\",\"linecolor\":\"white\",\"ticks\":\"\",\"title\":{\"standoff\":15},\"zerolinecolor\":\"white\",\"automargin\":true,\"zerolinewidth\":2},\"scene\":{\"xaxis\":{\"backgroundcolor\":\"#E5ECF6\",\"gridcolor\":\"white\",\"linecolor\":\"white\",\"showbackground\":true,\"ticks\":\"\",\"zerolinecolor\":\"white\",\"gridwidth\":2},\"yaxis\":{\"backgroundcolor\":\"#E5ECF6\",\"gridcolor\":\"white\",\"linecolor\":\"white\",\"showbackground\":true,\"ticks\":\"\",\"zerolinecolor\":\"white\",\"gridwidth\":2},\"zaxis\":{\"backgroundcolor\":\"#E5ECF6\",\"gridcolor\":\"white\",\"linecolor\":\"white\",\"showbackground\":true,\"ticks\":\"\",\"zerolinecolor\":\"white\",\"gridwidth\":2}},\"shapedefaults\":{\"line\":{\"color\":\"#2a3f5f\"}},\"annotationdefaults\":{\"arrowcolor\":\"#2a3f5f\",\"arrowhead\":0,\"arrowwidth\":1},\"geo\":{\"bgcolor\":\"white\",\"landcolor\":\"#E5ECF6\",\"subunitcolor\":\"white\",\"showland\":true,\"showlakes\":true,\"lakecolor\":\"white\"},\"title\":{\"x\":0.05},\"mapbox\":{\"style\":\"light\"}}},\"xaxis\":{\"anchor\":\"y\",\"domain\":[0.0,1.0],\"title\":{\"text\":\"Stocks\"},\"tickmode\":\"array\",\"tickvals\":[0,1,2,3,4,5,6,7,8,9,10,11,12,13,14,15,16,17,18,19,20,21,22,23,24,25,26,27,28,29,30,31,32,33,34,35,36,37,38,39,40,41,42,43,44,45,46,47,48,49,50,51,52,53,54,55,56,57,58,59,60,61,62,63,64,65,66,67,68,69,70,71,72,73,74,75,76,77,78,79,80,81,82,83,84,85,86,87,88,89,90,91,92,93,94,95,96,97,98,99,100,101,102,103,104,105,106,107,108,109,110,111,112,113,114,115,116,117,118,119,120,121,122,123,124,125,126,127,128,129,130,131,132,133,134,135,136,137,138,139,140,141,142,143,144,145,146,147,148,149,150,151,152,153,154,155,156,157,158,159,160,161,162,163,164,165,166,167,168,169,170,171,172,173,174,175,176,177,178,179,180,181,182,183,184,185,186,187,188,189,190,191,192,193,194,195,196,197,198,199,200,201,202,203,204,205,206,207,208,209,210,211,212,213,214,215,216,217,218,219,220,221,222,223,224,225,226,227,228,229,230,231,232,233,234,235,236,237,238,239,240,241,242,243,244,245,246,247,248,249,250,251,252,253,254,255,256,257,258,259,260,261,262,263,264,265,266,267,268,269,270,271,272,273,274,275,276,277,278,279,280,281,282,283,284,285,286,287,288,289,290,291,292,293,294,295,296,297,298,299,300,301,302,303,304,305,306,307,308,309,310,311,312,313,314,315,316,317,318,319,320,321,322,323,324,325,326,327,328,329,330,331,332,333,334,335,336,337,338,339,340,341,342,343,344,345,346,347,348,349,350,351,352,353,354,355,356,357,358,359,360,361,362,363,364,365,366,367,368,369,370,371,372,373,374,375,376,377,378,379,380,381,382,383,384,385,386,387,388,389,390,391,392,393,394,395,396,397,398,399,400,401,402,403,404,405,406,407,408,409,410,411,412,413,414,415,416,417,418,419,420,421,422,423,424,425,426,427,428,429,430,431,432,433,434,435,436,437,438,439,440,441,442,443,444,445,446,447,448,449,450,451,452,453,454,455,456,457,458,459,460,461,462,463,464,465,466,467,468,469,470,471,472,473,474,475,476,477,478,479,480,481,482,483,484,485,486,487,488,489,490,491,492,493,494,495,496,497,498,499,500,501,502],\"ticktext\":[\"APA\",\"EG\",\"GM\",\"FMC\",\"UAL\",\"DAL\",\"APTV\",\"SYF\",\"CE\",\"VLO\",\"CINF\",\"GL\",\"ACGL\",\"BG\",\"MPC\",\"PHM\",\"STLD\",\"DVN\",\"NUE\",\"MO\",\"DHI\",\"CHTR\",\"AFL\",\"JBL\",\"EOG\",\"BBWI\",\"FOX\",\"TAP\",\"LEN\",\"MTB\",\"T\",\"IPG\",\"CVS\",\"CMCSA\",\"ADM\",\"PCAR\",\"ETR\",\"EBAY\",\"RF\",\"COF\",\"FOXA\",\"PSX\",\"BWA\",\"AIG\",\"NRG\",\"L\",\"LW\",\"CZR\",\"DE\",\"FANG\",\"CB\",\"TPR\",\"VICI\",\"HIG\",\"FITB\",\"AIZ\",\"WYNN\",\"HAL\",\"HPQ\",\"MRO\",\"HBAN\",\"BLDR\",\"GDDY\",\"OMC\",\"JPM\",\"MOS\",\"CF\",\"WFC\",\"EMN\",\"BEN\",\"F\",\"COP\",\"CFG\",\"PNC\",\"CNC\",\"USB\",\"MTCH\",\"LKQ\",\"STT\",\"SNA\",\"BAC\",\"TEL\",\"TROW\",\"HII\",\"WRB\",\"ON\",\"KHC\",\"XOM\",\"CAG\",\"SOLV\",\"CVX\",\"AMP\",\"PYPL\",\"PFG\",\"GIS\",\"LYB\",\"BBY\",\"EXC\",\"DFS\",\"RJF\",\"BK\",\"CAT\",\"ULTA\",\"TRV\",\"SJM\",\"GPC\",\"VZ\",\"HPE\",\"CTRA\",\"PCG\",\"DVA\",\"UHS\",\"SLB\",\"NVR\",\"MLM\",\"AAL\",\"HCA\",\"XEL\",\"CSCO\",\"MOH\",\"CTSH\",\"AEE\",\"AEP\",\"MAS\",\"TGT\",\"PNW\",\"SRE\",\"MGM\",\"KR\",\"ED\",\"LMT\",\"WEC\",\"EVRG\",\"DOV\",\"SYY\",\"WMB\",\"FDX\",\"PAYC\",\"URI\",\"ATO\",\"HST\",\"GS\",\"MS\",\"LOW\",\"DRI\",\"DUK\",\"RL\",\"CMS\",\"DTE\",\"HSY\",\"KEY\",\"OXY\",\"KMI\",\"CSX\",\"CPB\",\"TXT\",\"INCY\",\"DGX\",\"C\",\"LNT\",\"NTRS\",\"NI\",\"AXP\",\"GPN\",\"DG\",\"ALLE\",\"OKE\",\"SPG\",\"NEE\",\"IBM\",\"BKR\",\"PRU\",\"PM\",\"UPS\",\"CPAY\",\"BLK\",\"SWKS\",\"SO\",\"FE\",\"ABNB\",\"RCL\",\"CMI\",\"PNR\",\"PEG\",\"ELV\",\"AZO\",\"FFIV\",\"MDLZ\",\"TDY\",\"D\",\"PPG\",\"AOS\",\"PGR\",\"LVS\",\"SBUX\",\"KDP\",\"HSIC\",\"UNP\",\"MCD\",\"JNJ\",\"AMCR\",\"HRL\",\"CNP\",\"VRSN\",\"NKE\",\"CME\",\"AKAM\",\"HES\",\"GEHC\",\"PKG\",\"CBOE\",\"AON\",\"GRMN\",\"HUM\",\"HD\",\"NCLH\",\"KVUE\",\"APD\",\"ITW\",\"YUM\",\"ZBH\",\"KKR\",\"FSLR\",\"GD\",\"PH\",\"EXPE\",\"LULU\",\"TMUS\",\"POOL\",\"AES\",\"MET\",\"CRL\",\"K\",\"ROST\",\"COR\",\"HON\",\"PEP\",\"NXPI\",\"GWW\",\"MAR\",\"KMB\",\"PAYX\",\"JBHT\",\"KO\",\"EPAM\",\"WY\",\"GEN\",\"MCK\",\"PSA\",\"AWK\",\"MCHP\",\"TSCO\",\"CCL\",\"IEX\",\"EXPD\",\"WTW\",\"TRGP\",\"QCOM\",\"ADP\",\"MMC\",\"CEG\",\"CPT\",\"ORLY\",\"PPL\",\"J\",\"JCI\",\"ETSY\",\"ROK\",\"PG\",\"MKC\",\"CI\",\"AMAT\",\"HUBB\",\"TJX\",\"EQT\",\"STZ\",\"BRO\",\"NDSN\",\"ACN\",\"NTAP\",\"OTIS\",\"GOOGL\",\"FI\",\"CBRE\",\"CDW\",\"GOOG\",\"MDT\",\"WAT\",\"KMX\",\"BALL\",\"IQV\",\"BIIB\",\"META\",\"WMT\",\"AME\",\"V\",\"FTV\",\"MKTX\",\"RMD\",\"VLTO\",\"EQR\",\"UDR\",\"EA\",\"BKNG\",\"KEYS\",\"MAA\",\"TXN\",\"REG\",\"NOC\",\"VRTX\",\"CCI\",\"A\",\"AVB\",\"FDS\",\"WAB\",\"CL\",\"SCHW\",\"REGN\",\"UNH\",\"ODFL\",\"FAST\",\"ICE\",\"DOW\",\"MNST\",\"EIX\",\"SHW\",\"INTC\",\"AVY\",\"JKHY\",\"NDAQ\",\"ABT\",\"EMR\",\"AAPL\",\"CHD\",\"PLD\",\"MSCI\",\"DECK\",\"ESS\",\"ZTS\",\"TFX\",\"BR\",\"DPZ\",\"LIN\",\"RSG\",\"NSC\",\"ALB\",\"CHRW\",\"TT\",\"ALL\",\"WM\",\"MA\",\"TMO\",\"FRT\",\"VMC\",\"EXR\",\"LHX\",\"GNRC\",\"KIM\",\"ETN\",\"HWM\",\"CPRT\",\"ORCL\",\"HOLX\",\"SBAC\",\"MSFT\",\"SYK\",\"LRCX\",\"MTD\",\"FTNT\",\"RTX\",\"STE\",\"EW\",\"ALGN\",\"INVH\",\"APH\",\"ROP\",\"WRK\",\"GE\",\"DLR\",\"FCX\",\"KLAC\",\"WST\",\"CAH\",\"LH\",\"BX\",\"AMT\",\"CARR\",\"ECL\",\"AMGN\",\"IT\",\"LUV\",\"IR\",\"SMCI\",\"DHR\",\"MCO\",\"CRM\",\"NFLX\",\"XYL\",\"IDXX\",\"HLT\",\"MSI\",\"CTAS\",\"ANET\",\"O\",\"PANW\",\"VRSK\",\"PWR\",\"SPGI\",\"ADBE\",\"BDX\",\"BXP\",\"TDG\",\"TSLA\",\"ABBV\",\"COO\",\"ENPH\",\"COST\",\"AJG\",\"VST\",\"JNPR\",\"ADI\",\"ADSK\",\"GLW\",\"EFX\",\"ROL\",\"AMZN\",\"CTVA\",\"DOC\",\"TER\",\"TECH\",\"TRMB\",\"EL\",\"PODD\",\"INTU\",\"ZBRA\",\"LDOS\",\"ANSS\",\"BSX\",\"SNPS\",\"CMG\",\"AVGO\",\"CLX\",\"RVTY\",\"NVDA\",\"DXCM\",\"NWSA\",\"EQIX\",\"PTC\",\"NWS\",\"FICO\",\"CDNS\",\"ISRG\",\"IP\",\"NOW\",\"AXON\",\"LYV\",\"DD\",\"MPWR\",\"CSGP\",\"FIS\",\"DIS\",\"ARE\",\"TYL\",\"UBER\",\"WELL\",\"LLY\",\"IRM\",\"MRK\",\"DAY\",\"GILD\",\"AMD\",\"CRWD\",\"MMM\",\"BAX\",\"BRK.B\",\"BIO\",\"BA\",\"BMY\",\"BF.B\",\"CTLT\",\"DLTR\",\"ES\",\"GEV\",\"HAS\",\"IFF\",\"IVZ\",\"MU\",\"MRNA\",\"MHK\",\"NEM\",\"PARA\",\"PFE\",\"QRVO\",\"STX\",\"SWK\",\"TTWO\",\"TFC\",\"TSN\",\"VTR\",\"VTRS\",\"WBA\",\"WBD\",\"WDC\"],\"tickangle\":-45},\"yaxis\":{\"anchor\":\"x\",\"domain\":[0.0,1.0],\"title\":{\"text\":\"P/E Ratio\"}},\"legend\":{\"title\":{\"text\":\"Type\"},\"tracegroupgap\":0},\"title\":{\"text\":\"P/E Ratios by Stock (Sorted by Trailing P/E)\"},\"height\":500},                        {\"responsive\": true}                    ).then(function(){\n",
       "                            \n",
       "var gd = document.getElementById('1b02389c-240b-4eba-835a-cc26a9cfe160');\n",
       "var x = new MutationObserver(function (mutations, observer) {{\n",
       "        var display = window.getComputedStyle(gd).display;\n",
       "        if (!display || display === 'none') {{\n",
       "            console.log([gd, 'removed!']);\n",
       "            Plotly.purge(gd);\n",
       "            observer.disconnect();\n",
       "        }}\n",
       "}});\n",
       "\n",
       "// Listen for the removal of the full notebook cells\n",
       "var notebookContainer = gd.closest('#notebook-container');\n",
       "if (notebookContainer) {{\n",
       "    x.observe(notebookContainer, {childList: true});\n",
       "}}\n",
       "\n",
       "// Listen for the clearing of the current output cell\n",
       "var outputEl = gd.closest('.output');\n",
       "if (outputEl) {{\n",
       "    x.observe(outputEl, {childList: true});\n",
       "}}\n",
       "\n",
       "                        })                };                });            </script>        </div>"
      ]
     },
     "metadata": {},
     "output_type": "display_data"
    }
   ],
   "source": [
    "pe_ratios_df_sorted = pe_ratios_df.sort_values('Trailing P/E', ascending=True)\n",
    "\n",
    "# Melting the sorted DataFrame to format it suitably for plotting with Plotly Express\n",
    "pe_ratios_melted = pe_ratios_df_sorted.reset_index().melt(id_vars='Symbol', value_vars=['Trailing P/E', 'Forward P/E'],\n",
    "                                                   var_name='Type', value_name='P/E Ratio')\n",
    "\n",
    "# Creating the line plot\n",
    "fig = px.line(\n",
    "    pe_ratios_melted, \n",
    "    x='Symbol', \n",
    "    y='P/E Ratio', \n",
    "    color='Type',  # Differentiates line colors based on the P/E type\n",
    "    labels={'Symbol': 'Stocks', 'P/E Ratio': 'P/E Value'}, \n",
    "    title='P/E Ratios by Stock (Sorted by Trailing P/E)'\n",
    ")\n",
    "\n",
    "# Updating layout for clarity\n",
    "fig.update_layout(\n",
    "    xaxis=dict(\n",
    "        tickmode='array', \n",
    "        tickvals=list(range(len(pe_ratios_df_sorted))), \n",
    "        ticktext=pe_ratios_df_sorted.index,\n",
    "        title='Stocks',\n",
    "        tickangle=-45\n",
    "    ),\n",
    "    yaxis_title='P/E Ratio',\n",
    "    title='P/E Ratios by Stock (Sorted by Trailing P/E)',\n",
    "    height=500\n",
    ")\n",
    "\n",
    "# Display the plot\n",
    "fig.show()"
   ]
  },
  {
   "cell_type": "markdown",
   "id": "d664a13e-db1d-4025-8d93-7d58fae5ea93",
   "metadata": {},
   "source": [
    "## Single Stock Analysis"
   ]
  },
  {
   "cell_type": "code",
   "execution_count": 45,
   "id": "eea6a7ff-f729-4b74-b476-ff5a0f661efe",
   "metadata": {},
   "outputs": [
    {
     "data": {
      "text/html": [
       "<div>\n",
       "<style scoped>\n",
       "    .dataframe tbody tr th:only-of-type {\n",
       "        vertical-align: middle;\n",
       "    }\n",
       "\n",
       "    .dataframe tbody tr th {\n",
       "        vertical-align: top;\n",
       "    }\n",
       "\n",
       "    .dataframe thead th {\n",
       "        text-align: right;\n",
       "    }\n",
       "</style>\n",
       "<table border=\"1\" class=\"dataframe\">\n",
       "  <thead>\n",
       "    <tr style=\"text-align: right;\">\n",
       "      <th></th>\n",
       "      <th>TotalRevenue</th>\n",
       "      <th>GrossProfit</th>\n",
       "      <th>Gross Profit Margin</th>\n",
       "      <th>SG&amp;A to Gross Profit Ratio</th>\n",
       "      <th>Net Profit Ratio</th>\n",
       "      <th>EPS</th>\n",
       "      <th>R&amp;D to Gross Profit Ratio</th>\n",
       "    </tr>\n",
       "  </thead>\n",
       "  <tbody>\n",
       "    <tr>\n",
       "      <th>2023-12-31</th>\n",
       "      <td>32681000000.0</td>\n",
       "      <td>14204000000.0</td>\n",
       "      <td>43.46</td>\n",
       "      <td>150.64</td>\n",
       "      <td>-49.25</td>\n",
       "      <td>-12.640934</td>\n",
       "      <td>12.97</td>\n",
       "    </tr>\n",
       "    <tr>\n",
       "      <th>2022-12-31</th>\n",
       "      <td>34229000000.0</td>\n",
       "      <td>14997000000.0</td>\n",
       "      <td>43.81</td>\n",
       "      <td>58.69</td>\n",
       "      <td>38.52</td>\n",
       "      <td>10.439839</td>\n",
       "      <td>12.42</td>\n",
       "    </tr>\n",
       "    <tr>\n",
       "      <th>2021-12-31</th>\n",
       "      <td>35355000000.0</td>\n",
       "      <td>16560000000.0</td>\n",
       "      <td>46.84</td>\n",
       "      <td>41.67</td>\n",
       "      <td>35.75</td>\n",
       "      <td>10.700067</td>\n",
       "      <td>12.04</td>\n",
       "    </tr>\n",
       "    <tr>\n",
       "      <th>2020-12-31</th>\n",
       "      <td>32184000000.0</td>\n",
       "      <td>15579000000.0</td>\n",
       "      <td>48.41</td>\n",
       "      <td>43.62</td>\n",
       "      <td>34.98</td>\n",
       "      <td>9.847098</td>\n",
       "      <td>12.05</td>\n",
       "    </tr>\n",
       "    <tr>\n",
       "      <th>2019-12-31</th>\n",
       "      <td>NaN</td>\n",
       "      <td>NaN</td>\n",
       "      <td>NaN</td>\n",
       "      <td>NaN</td>\n",
       "      <td>NaN</td>\n",
       "      <td>NaN</td>\n",
       "      <td>NaN</td>\n",
       "    </tr>\n",
       "  </tbody>\n",
       "</table>\n",
       "</div>"
      ],
      "text/plain": [
       "             TotalRevenue    GrossProfit  Gross Profit Margin  \\\n",
       "2023-12-31  32681000000.0  14204000000.0                43.46   \n",
       "2022-12-31  34229000000.0  14997000000.0                43.81   \n",
       "2021-12-31  35355000000.0  16560000000.0                46.84   \n",
       "2020-12-31  32184000000.0  15579000000.0                48.41   \n",
       "2019-12-31            NaN            NaN                  NaN   \n",
       "\n",
       "            SG&A to Gross Profit Ratio  Net Profit Ratio        EPS  \\\n",
       "2023-12-31                      150.64            -49.25 -12.640934   \n",
       "2022-12-31                       58.69             38.52  10.439839   \n",
       "2021-12-31                       41.67             35.75  10.700067   \n",
       "2020-12-31                       43.62             34.98   9.847098   \n",
       "2019-12-31                         NaN               NaN        NaN   \n",
       "\n",
       "            R&D to Gross Profit Ratio  \n",
       "2023-12-31                      12.97  \n",
       "2022-12-31                      12.42  \n",
       "2021-12-31                      12.04  \n",
       "2020-12-31                      12.05  \n",
       "2019-12-31                        NaN  "
      ]
     },
     "execution_count": 45,
     "metadata": {},
     "output_type": "execute_result"
    }
   ],
   "source": [
    "\n",
    "\n",
    "def calculate_income_indicators(ticker):\n",
    "    \"\"\"\n",
    "    Calculates various income indicators for the given ticker over the past 10 years.\n",
    "\n",
    "    Args:\n",
    "    ticker (str): The stock symbol to fetch data for.\n",
    "\n",
    "    Returns:\n",
    "    DataFrame: A DataFrame with years, revenues, COGS, and various profit margins and ratios.\n",
    "    \"\"\"\n",
    "    # Fetch the historical financial data\n",
    "    stock = yf.Ticker(ticker)\n",
    "    income_statement = stock.get_income_stmt().T  # Transpose to make dates the index\n",
    "\n",
    "    # Calculate gross profit margin\n",
    "    income_statement['Gross Profit Margin'] = income_statement['GrossProfit'] / income_statement['TotalRevenue'] * 100\n",
    "    income_statement['Gross Profit Margin'] = [round(i, 2) for i in income_statement['Gross Profit Margin']]\n",
    "\n",
    "    # Calculate SG&A to gross profit ratio\n",
    "    income_statement['SG&A to Gross Profit Ratio'] = income_statement['SellingGeneralAndAdministration'] / income_statement['GrossProfit'] * 100\n",
    "    income_statement['SG&A to Gross Profit Ratio'] = [round(i, 2) for i in income_statement['SG&A to Gross Profit Ratio']]\n",
    "\n",
    "    # Conditionally calculate R&D to gross profit ratio if R&D data is available\n",
    "    if 'ResearchAndDevelopment' in income_statement.columns:\n",
    "        income_statement['R&D to Gross Profit Ratio'] = income_statement['ResearchAndDevelopment'] / income_statement['GrossProfit'] * 100\n",
    "        income_statement['R&D to Gross Profit Ratio'] = [round(i, 2) for i in income_statement['R&D to Gross Profit Ratio']]\n",
    "    else:\n",
    "        # Optionally set it to None or 0 if you prefer\n",
    "        income_statement['R&D to Gross Profit Ratio'] = None\n",
    "\n",
    "    # Calculate net profit ratio\n",
    "    income_statement['Net Profit Ratio'] = income_statement['NetIncome'] / income_statement['GrossProfit'] * 100\n",
    "    income_statement['Net Profit Ratio'] = [round(i, 2) for i in income_statement['Net Profit Ratio']]\n",
    "    \n",
    "    shares_data = stock.info['sharesOutstanding']\n",
    "\n",
    "    # Calculate EPS\n",
    "    income_statement['EPS'] = income_statement['NetIncome'] / shares_data\n",
    "\n",
    "    \n",
    "    # Return the relevant data, check if R&D Ratio needs to be included based on its existence\n",
    "    columns_to_return = ['TotalRevenue', 'GrossProfit', 'Gross Profit Margin', 'SG&A to Gross Profit Ratio', 'Net Profit Ratio', 'EPS']\n",
    "    if 'R&D to Gross Profit Ratio' in income_statement.columns:\n",
    "        columns_to_return.append('R&D to Gross Profit Ratio')\n",
    "\n",
    "    return income_statement[columns_to_return]\n",
    "\n",
    "# Example usage:\n",
    "ticker = \"MMM\"  # McDonald's Corporation\n",
    "income_data = calculate_income_indicators(ticker)\n",
    "income_data\n"
   ]
  },
  {
   "cell_type": "code",
   "execution_count": null,
   "id": "4a695075-9c42-4d12-9598-5c94cb8eceb0",
   "metadata": {},
   "outputs": [],
   "source": []
  },
  {
   "cell_type": "code",
   "execution_count": 41,
   "id": "870816b7-142e-4faf-b97d-44d1c9446764",
   "metadata": {},
   "outputs": [],
   "source": [
    "stock = yf.Ticker(\"NIKE\")\n",
    "income_statement = stock.get_income_stmt()"
   ]
  },
  {
   "cell_type": "code",
   "execution_count": 42,
   "id": "84202fa8-026e-49cd-8110-ec5e34d1694f",
   "metadata": {},
   "outputs": [
    {
     "data": {
      "text/html": [
       "<div>\n",
       "<style scoped>\n",
       "    .dataframe tbody tr th:only-of-type {\n",
       "        vertical-align: middle;\n",
       "    }\n",
       "\n",
       "    .dataframe tbody tr th {\n",
       "        vertical-align: top;\n",
       "    }\n",
       "\n",
       "    .dataframe thead th {\n",
       "        text-align: right;\n",
       "    }\n",
       "</style>\n",
       "<table border=\"1\" class=\"dataframe\">\n",
       "  <thead>\n",
       "    <tr style=\"text-align: right;\">\n",
       "      <th></th>\n",
       "    </tr>\n",
       "  </thead>\n",
       "  <tbody>\n",
       "  </tbody>\n",
       "</table>\n",
       "</div>"
      ],
      "text/plain": [
       "Empty DataFrame\n",
       "Columns: []\n",
       "Index: []"
      ]
     },
     "execution_count": 42,
     "metadata": {},
     "output_type": "execute_result"
    }
   ],
   "source": [
    "income_statement"
   ]
  },
  {
   "cell_type": "code",
   "execution_count": null,
   "id": "e1aabd2f-60fe-47b6-8c37-de696533bd0c",
   "metadata": {},
   "outputs": [],
   "source": []
  }
 ],
 "metadata": {
  "kernelspec": {
   "display_name": "Python 3 (ipykernel)",
   "language": "python",
   "name": "python3"
  },
  "language_info": {
   "codemirror_mode": {
    "name": "ipython",
    "version": 3
   },
   "file_extension": ".py",
   "mimetype": "text/x-python",
   "name": "python",
   "nbconvert_exporter": "python",
   "pygments_lexer": "ipython3",
   "version": "3.11.7"
  }
 },
 "nbformat": 4,
 "nbformat_minor": 5
}
